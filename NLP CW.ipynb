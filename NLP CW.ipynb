{
 "cells": [
  {
   "cell_type": "markdown",
   "id": "05251f8e",
   "metadata": {},
   "source": [
    "# Introduction\n",
    "\n",
    "\n",
    "## 1. Domain-specific area\n",
    "\n",
    "\n",
    "Social Media has changed the way businesses interact with their customers forever. In a matter of minutes, thousands of posts could be trending on Twitter. Being able to analyze tweets in real-time, and determine the sentiment that underlies each would be utterly beneficial for a business. \n",
    "\n",
    "Nowadays online reputation is one of the most valuable assets of a brand. A bad review or mistake on social media can be costly if not solved quickly. Twitter sentiment analysis allows a business to keep track of what is being said about the company, a product, or service and can help detect negative sentiment and the reason behind it. Detecting negative trends or angry customers fast is important to deescalate the situation and avoid further negative mentions. \n",
    "\n",
    "But twitter sentiment analysis can not only contribute towards brand monitoring, but it can also gain insight into the preferences of the customers (Pascual 2019). Getting reviews and feedback from customers is extremely valuable for companies. With feedback, companies can change their product or service more to the liking of their customers. Today it is way more convenient for people to tweet about their satisfaction or dissatisfaction about a certain service or product instead of leaving a review on the companies’ website.\n",
    "\n",
    "Therefore, using Twitter sentiment analysis, businesses can scan through thousands of reviews and determine what aspects need to be improved on and what they are doing well. Analyzing tweets can be challenging because tweets are not meant to be well-written reviews with a clear structure and a well summarized thought process but tweets are a rather casual expression of an individual’s thoughts, limited to 140 characters.\n",
    "\n",
    "Furthermore, tweets often have spelling errors and include emoticons, which makes the task even more challenging (Go et al. 2009). In conclusion, Sentiment analysis helps a business monitor customers’ emotions on social media and makes the business understand how they feel. It adds an extra layer to the traditional metrics used to analyze the performance of brands on social media and provides businesses with powerful opportunities.\n",
    "\n",
    "Businesses could sort data by sentiment manually, but since social media moves so fast and thousands of customers could engage in a matter of minutes this task needs to be automated.   Sentiment analysis needs to be fast, and scalable, so it can provide consistent results with a high level of accuracy (Pascual 2019).\n"
   ]
  },
  {
   "cell_type": "markdown",
   "id": "a5a2cb94",
   "metadata": {},
   "source": [
    "## 2. Dataset\n",
    "\n",
    "\n",
    "\n",
    "The dataset used for this coursework was found on Kaggle and is called ‘Twitter US Airline Sentiment’ (source: https://www.kaggle.com/crowdflower/twitter-airline-sentiment)\n",
    "\n",
    "This data originally came from ‘Crowdflower's Data for Everyone library’, which I, unfortunately, cannot access. Twitter data was scraped from February of 2015 and contributors were asked to first classify positive, negative, and neutral tweets, followed by categorizing negative reasons (such as \"late flight\" or \"rude service\").\n",
    "\n",
    "The data provided on Kaggle is a slightly reformatted version of the source. It includes both a CSV file and an SQLite database. The dataset used in the CW, ‘Tweets.csv” is available for download as a CSV file and is  3.42 MB big.\n",
    "\n",
    "The CSV contains tweets directed at six different American airlines and the contributors have manually classified the tweets.\n",
    "The columns are:\n",
    "\n",
    "Tweet id: A number to identify the tweet\n",
    "\n",
    "Airline sentiment: either positive, neutral or negative\n",
    "\n",
    "Airline sentiment confidence: A number ranging from 0 to 1, 1 means full confidence in sentiment classification.\n",
    "\n",
    "Negative reason: the reason why sentiment was negative\n",
    "\n",
    "Negative reason confidence: Same confidence score as airline sentiment confidence but about the negative reason\n",
    "\n",
    "Airline: Which airline did the tweet mention/referenced\n",
    "\n",
    "Airline sentiment gold: A lot of missing values, not clear what does columns is supposed to tell\n",
    "\n",
    "Name: Name of the Twitter user without “@” handle\n",
    "\n",
    "The negative reason gold: A lot of missing values, not clear what does columns is supposed to tell\n",
    "\n",
    "Retweet count: The number of times the tweet has been retweeted\n",
    "\n",
    "Text: The actual text of the tweet\n",
    "\n",
    "Tweet cord: A lot of missing values, not clear what does columns is supposed to tell\n",
    "\n",
    "The tweet created: Timestamp of when the tweet was created\n",
    "\n",
    "Tweet Location: A lot of missing values, supposed to tell where the tweet was created\n",
    "\n",
    "User timezone: In what timezone user was when tweeting the tweet\n",
    "\n",
    "In total there are 14640 rows and 14 columns.\n",
    "For this coursework only relevant columns will be used which are: Tweet id (dtype: numpy.int 64), airline sentiment (dtype: string), airline sentiment confidence (dtype: numpy. float64) and text (dtype: string). \n"
   ]
  },
  {
   "cell_type": "markdown",
   "id": "e0fa90bf",
   "metadata": {},
   "source": [
    "## 3. Objectives of the project \n",
    "\n",
    "\n",
    "The main objective of this coursework is to successfully build a classifier that can predict the correct sentiment of a given tweet. If a classifier can correctly identify tweets with a 90% accuracy score or above, that would be good enough to potentially contribute to the problem area. \n",
    "\n",
    "But I also want to show that different approaches in text preprocessing lead to different results. \n",
    "Optimizing and choosing the right approach for preprocessing the raw data and the text is of utmost importance to get satisfying results. \n",
    "\n",
    "This coursework can potentially contribute to showing the right/best approach for text and data preprocessing. Two different approaches for text processing will be used and therefore the better approach will have the higher accuracy score.\n",
    "\n",
    "In Section 2.2 of “Twitter Sentiment Classification using Distant Supervision“ from (Go et al. 2009), they discuss the impact of emoticons or emojis when classifying tweets. Emoticons or emojis are nowadays commonly used by Twitter users. In the referenced work they identify emojis as noise and therefore remove them from the training data.\n",
    "\n",
    "In my opinion, emojis can confirm a sentiment like: “I loved your customer service: heart_eyes: (😍)”. In this example, the sentiment would have been obvious without the emoji but especially when Twitter users use sarcasm, emojis can be highly valuable to identify the true sentiment of a tweet. For example: “Great customer service: face_with_rolling_eyes (🙄)”. In this case, the emoji confirms that the tweet was meant to be sarcastic. Removing the emoji would make the rest of the text seem like the tweet was meant to be positive. \n",
    "\n",
    "In this coursework, a python library to decode emojis will be used to identify sentiment even better. So, another objective is to show that emojis are valuable in sentiment analysis and that better results can be achieved when decoding and using emoji language. Unfortunately, most of the tweets do not contain emojis so it will be difficult to gauge whether this approach makes sense/is good.\n",
    "\n",
    "Futhermore for a business it would be almost useless to know if certain tweets have negative or positive sentiment, if the reason as to why is not discovered. That’s why the last objective of this coursework is to create and train a classifier that can predict the correct reason as to why a tweet was negative. A highly accurate classifier could potentially contribute towards improving twitter sentiment analysis."
   ]
  },
  {
   "cell_type": "markdown",
   "id": "5fdc8377",
   "metadata": {},
   "source": [
    "## 4. Evaluation methodology \n",
    "\n",
    "\n",
    "For evaluation, the scikit-learn function ‘classification report’ will be used, which shows precision, recall, f1-score, and the accuracy of a classifier. A confusion matrix will also be shown. \n",
    "\n",
    "As mentioned above, negative reviews or trends online can ruin a brand and drive away potential customers. For businesses, it is more important to reduce and minimize negative press than to improve positive reviews. That’s why I will pay particular attention to the number of falsely predicted tweets that are classified as negative. If the number of actual negative tweets which were not correctly classified is low, the result is satisfying.The metric I will look at in this case is 'Recall' for the negative label. The recall should be as high as possible for a satisyfing result. \n",
    "\n",
    "Since I also want to show the difference in what impact preprocessing the text has, a total of 3 classifiers will be built and trained for each preprocessing approach:\n",
    "\n",
    "    1.\tThe very baseline Naïve Bayes classifier\n",
    "    \n",
    "    2.\tThe more improved Multinominal Naïve Bayes classifier\n",
    "    \n",
    "    3.\tThe Random Forest classifier\n",
    "    \n",
    "All 3 of those classifiers will be trained and tested with the basic text process function and evaluation metrics will be gathered. Then all 3 classifiers will be trained and tested using the more optimized process text function to gauge the difference in performance from a text pre-processing angle.\n",
    "\n",
    "At last, the metrics of the classifiers will be compared, and I expect the Random Forest classifier to perform the best out of all 3 because the classifier consists of a large number of individual decision trees that operate as an ensemble. Each tree in the random forest spits out a class prediction and the class with the most votes becomes our model’s prediction A large number of relatively uncorrelated models (trees) operating as a committee will outperform any of the individual constituent models (Yiu 2019).\n",
    "\n"
   ]
  },
  {
   "cell_type": "markdown",
   "id": "821ff577",
   "metadata": {},
   "source": [
    "# Implementation"
   ]
  },
  {
   "cell_type": "code",
   "execution_count": 1,
   "id": "461c91d8",
   "metadata": {
    "scrolled": true
   },
   "outputs": [
    {
     "name": "stdout",
     "output_type": "stream",
     "text": [
      "Pandas: 1.3.4\n",
      "emoji: 1.6.1\n",
      "scikit-learn: 0.24.2\n",
      "nltk: 3.6.5\n",
      "re: 2.2.1\n"
     ]
    },
    {
     "name": "stderr",
     "output_type": "stream",
     "text": [
      "[nltk_data] Downloading package stopwords to\n",
      "[nltk_data]     C:\\Users\\mohrj\\AppData\\Roaming\\nltk_data...\n",
      "[nltk_data]   Package stopwords is already up-to-date!\n",
      "[nltk_data] Downloading package wordnet to\n",
      "[nltk_data]     C:\\Users\\mohrj\\AppData\\Roaming\\nltk_data...\n",
      "[nltk_data]   Package wordnet is already up-to-date!\n"
     ]
    }
   ],
   "source": [
    "# Importing libraries and printing used version\n",
    "import pandas as pd\n",
    "import emoji\n",
    "import sklearn\n",
    "from sklearn.feature_extraction.text import TfidfVectorizer\n",
    "from sklearn.metrics import classification_report\n",
    "from nltk.corpus import stopwords\n",
    "import re\n",
    "import string\n",
    "from nltk.stem.snowball import SnowballStemmer\n",
    "from nltk.stem import PorterStemmer\n",
    "from nltk.util import ngrams\n",
    "from nltk.tokenize import RegexpTokenizer\n",
    "import nltk\n",
    "from nltk.stem import WordNetLemmatizer\n",
    "from nltk.tokenize import word_tokenize\n",
    "from sklearn.feature_extraction.text import CountVectorizer\n",
    "from sklearn.feature_extraction.text import TfidfTransformer\n",
    "from imblearn.over_sampling import SMOTE\n",
    "from sklearn.naive_bayes import GaussianNB\n",
    "from sklearn.model_selection import train_test_split\n",
    "from sklearn.metrics import accuracy_score\n",
    "from sklearn.naive_bayes import MultinomialNB\n",
    "from sklearn.ensemble import RandomForestClassifier \n",
    "import seaborn as sns\n",
    "import matplotlib.pyplot as plt\n",
    "import matplotlib.pyplot as plt\n",
    "from sklearn.metrics import classification_report , confusion_matrix , accuracy_score\n",
    "\n",
    "# downloading stopwords and wordnet\n",
    "nltk.download('stopwords')\n",
    "nltk.download('wordnet')\n",
    "\n",
    "\n",
    "print('Pandas: {}'.format(pd.__version__))\n",
    "print('emoji: {}'.format(emoji.__version__))\n",
    "print('scikit-learn: {}'.format(sklearn.__version__))\n",
    "print('nltk: {}'.format(nltk.__version__))\n",
    "print('re: {}'.format(re.__version__))"
   ]
  },
  {
   "cell_type": "code",
   "execution_count": 2,
   "id": "9960f93d",
   "metadata": {
    "scrolled": true
   },
   "outputs": [
    {
     "data": {
      "text/html": [
       "<div>\n",
       "<style scoped>\n",
       "    .dataframe tbody tr th:only-of-type {\n",
       "        vertical-align: middle;\n",
       "    }\n",
       "\n",
       "    .dataframe tbody tr th {\n",
       "        vertical-align: top;\n",
       "    }\n",
       "\n",
       "    .dataframe thead th {\n",
       "        text-align: right;\n",
       "    }\n",
       "</style>\n",
       "<table border=\"1\" class=\"dataframe\">\n",
       "  <thead>\n",
       "    <tr style=\"text-align: right;\">\n",
       "      <th></th>\n",
       "      <th>tweet_id</th>\n",
       "      <th>airline_sentiment</th>\n",
       "      <th>airline_sentiment_confidence</th>\n",
       "      <th>negativereason</th>\n",
       "      <th>negativereason_confidence</th>\n",
       "      <th>airline</th>\n",
       "      <th>airline_sentiment_gold</th>\n",
       "      <th>name</th>\n",
       "      <th>negativereason_gold</th>\n",
       "      <th>retweet_count</th>\n",
       "      <th>text</th>\n",
       "      <th>tweet_coord</th>\n",
       "      <th>tweet_created</th>\n",
       "      <th>tweet_location</th>\n",
       "      <th>user_timezone</th>\n",
       "    </tr>\n",
       "  </thead>\n",
       "  <tbody>\n",
       "    <tr>\n",
       "      <th>0</th>\n",
       "      <td>570306133677760513</td>\n",
       "      <td>neutral</td>\n",
       "      <td>1.0000</td>\n",
       "      <td>NaN</td>\n",
       "      <td>NaN</td>\n",
       "      <td>Virgin America</td>\n",
       "      <td>NaN</td>\n",
       "      <td>cairdin</td>\n",
       "      <td>NaN</td>\n",
       "      <td>0</td>\n",
       "      <td>@VirginAmerica What @dhepburn said.</td>\n",
       "      <td>NaN</td>\n",
       "      <td>2015-02-24 11:35:52 -0800</td>\n",
       "      <td>NaN</td>\n",
       "      <td>Eastern Time (US &amp; Canada)</td>\n",
       "    </tr>\n",
       "    <tr>\n",
       "      <th>1</th>\n",
       "      <td>570301130888122368</td>\n",
       "      <td>positive</td>\n",
       "      <td>0.3486</td>\n",
       "      <td>NaN</td>\n",
       "      <td>0.0000</td>\n",
       "      <td>Virgin America</td>\n",
       "      <td>NaN</td>\n",
       "      <td>jnardino</td>\n",
       "      <td>NaN</td>\n",
       "      <td>0</td>\n",
       "      <td>@VirginAmerica plus you've added commercials t...</td>\n",
       "      <td>NaN</td>\n",
       "      <td>2015-02-24 11:15:59 -0800</td>\n",
       "      <td>NaN</td>\n",
       "      <td>Pacific Time (US &amp; Canada)</td>\n",
       "    </tr>\n",
       "    <tr>\n",
       "      <th>2</th>\n",
       "      <td>570301083672813571</td>\n",
       "      <td>neutral</td>\n",
       "      <td>0.6837</td>\n",
       "      <td>NaN</td>\n",
       "      <td>NaN</td>\n",
       "      <td>Virgin America</td>\n",
       "      <td>NaN</td>\n",
       "      <td>yvonnalynn</td>\n",
       "      <td>NaN</td>\n",
       "      <td>0</td>\n",
       "      <td>@VirginAmerica I didn't today... Must mean I n...</td>\n",
       "      <td>NaN</td>\n",
       "      <td>2015-02-24 11:15:48 -0800</td>\n",
       "      <td>Lets Play</td>\n",
       "      <td>Central Time (US &amp; Canada)</td>\n",
       "    </tr>\n",
       "    <tr>\n",
       "      <th>3</th>\n",
       "      <td>570301031407624196</td>\n",
       "      <td>negative</td>\n",
       "      <td>1.0000</td>\n",
       "      <td>Bad Flight</td>\n",
       "      <td>0.7033</td>\n",
       "      <td>Virgin America</td>\n",
       "      <td>NaN</td>\n",
       "      <td>jnardino</td>\n",
       "      <td>NaN</td>\n",
       "      <td>0</td>\n",
       "      <td>@VirginAmerica it's really aggressive to blast...</td>\n",
       "      <td>NaN</td>\n",
       "      <td>2015-02-24 11:15:36 -0800</td>\n",
       "      <td>NaN</td>\n",
       "      <td>Pacific Time (US &amp; Canada)</td>\n",
       "    </tr>\n",
       "    <tr>\n",
       "      <th>4</th>\n",
       "      <td>570300817074462722</td>\n",
       "      <td>negative</td>\n",
       "      <td>1.0000</td>\n",
       "      <td>Can't Tell</td>\n",
       "      <td>1.0000</td>\n",
       "      <td>Virgin America</td>\n",
       "      <td>NaN</td>\n",
       "      <td>jnardino</td>\n",
       "      <td>NaN</td>\n",
       "      <td>0</td>\n",
       "      <td>@VirginAmerica and it's a really big bad thing...</td>\n",
       "      <td>NaN</td>\n",
       "      <td>2015-02-24 11:14:45 -0800</td>\n",
       "      <td>NaN</td>\n",
       "      <td>Pacific Time (US &amp; Canada)</td>\n",
       "    </tr>\n",
       "  </tbody>\n",
       "</table>\n",
       "</div>"
      ],
      "text/plain": [
       "             tweet_id airline_sentiment  airline_sentiment_confidence  \\\n",
       "0  570306133677760513           neutral                        1.0000   \n",
       "1  570301130888122368          positive                        0.3486   \n",
       "2  570301083672813571           neutral                        0.6837   \n",
       "3  570301031407624196          negative                        1.0000   \n",
       "4  570300817074462722          negative                        1.0000   \n",
       "\n",
       "  negativereason  negativereason_confidence         airline  \\\n",
       "0            NaN                        NaN  Virgin America   \n",
       "1            NaN                     0.0000  Virgin America   \n",
       "2            NaN                        NaN  Virgin America   \n",
       "3     Bad Flight                     0.7033  Virgin America   \n",
       "4     Can't Tell                     1.0000  Virgin America   \n",
       "\n",
       "  airline_sentiment_gold        name negativereason_gold  retweet_count  \\\n",
       "0                    NaN     cairdin                 NaN              0   \n",
       "1                    NaN    jnardino                 NaN              0   \n",
       "2                    NaN  yvonnalynn                 NaN              0   \n",
       "3                    NaN    jnardino                 NaN              0   \n",
       "4                    NaN    jnardino                 NaN              0   \n",
       "\n",
       "                                                text tweet_coord  \\\n",
       "0                @VirginAmerica What @dhepburn said.         NaN   \n",
       "1  @VirginAmerica plus you've added commercials t...         NaN   \n",
       "2  @VirginAmerica I didn't today... Must mean I n...         NaN   \n",
       "3  @VirginAmerica it's really aggressive to blast...         NaN   \n",
       "4  @VirginAmerica and it's a really big bad thing...         NaN   \n",
       "\n",
       "               tweet_created tweet_location               user_timezone  \n",
       "0  2015-02-24 11:35:52 -0800            NaN  Eastern Time (US & Canada)  \n",
       "1  2015-02-24 11:15:59 -0800            NaN  Pacific Time (US & Canada)  \n",
       "2  2015-02-24 11:15:48 -0800      Lets Play  Central Time (US & Canada)  \n",
       "3  2015-02-24 11:15:36 -0800            NaN  Pacific Time (US & Canada)  \n",
       "4  2015-02-24 11:14:45 -0800            NaN  Pacific Time (US & Canada)  "
      ]
     },
     "execution_count": 2,
     "metadata": {},
     "output_type": "execute_result"
    }
   ],
   "source": [
    "# Loading the csv file into a pandas  dataframe\n",
    "data = pd.read_csv('Airline dataset.csv')\n",
    "\n",
    "data.head()"
   ]
  },
  {
   "cell_type": "markdown",
   "id": "9d0df546",
   "metadata": {},
   "source": [
    "Now that the data is in a pandas data frame the data will be explored thoroughly below:"
   ]
  },
  {
   "cell_type": "code",
   "execution_count": 3,
   "id": "1f58bd7c",
   "metadata": {},
   "outputs": [
    {
     "name": "stdout",
     "output_type": "stream",
     "text": [
      "@VirginAmerica What @dhepburn said.\n",
      "@VirginAmerica plus you've added commercials to the experience... tacky.\n",
      "@VirginAmerica I didn't today... Must mean I need to take another trip!\n",
      "@VirginAmerica it's really aggressive to blast obnoxious \"entertainment\" in your guests' faces &amp; they have little recourse\n",
      "@VirginAmerica and it's a really big bad thing about it\n"
     ]
    }
   ],
   "source": [
    "# Exploring how the text data looks like\n",
    "print(data.text[0])\n",
    "print(data.text[1])\n",
    "print(data.text[2])\n",
    "print(data.text[3])\n",
    "print(data.text[4])"
   ]
  },
  {
   "cell_type": "code",
   "execution_count": 4,
   "id": "82ccbfa8",
   "metadata": {},
   "outputs": [
    {
     "data": {
      "text/plain": [
       "1.0000    10445\n",
       "0.6667       71\n",
       "0.6632       35\n",
       "0.6596       30\n",
       "0.6559       30\n",
       "          ...  \n",
       "0.3674        1\n",
       "0.6155        1\n",
       "0.3708        1\n",
       "0.6905        1\n",
       "0.3487        1\n",
       "Name: airline_sentiment_confidence, Length: 1023, dtype: int64"
      ]
     },
     "execution_count": 4,
     "metadata": {},
     "output_type": "execute_result"
    }
   ],
   "source": [
    "# using pandas value counts function to see how many values of each confidence score are present in the dataframe\n",
    "data.airline_sentiment_confidence.value_counts()"
   ]
  },
  {
   "cell_type": "code",
   "execution_count": 5,
   "id": "55ea89f9",
   "metadata": {},
   "outputs": [],
   "source": [
    "#creating new dataframe with only the relevant columns\n",
    "\n",
    "df = pd.concat([data.tweet_id, data.airline_sentiment,data.airline_sentiment_confidence, data.text], axis = 1)"
   ]
  },
  {
   "cell_type": "code",
   "execution_count": 6,
   "id": "98c2e70b",
   "metadata": {
    "scrolled": true
   },
   "outputs": [
    {
     "data": {
      "text/html": [
       "<div>\n",
       "<style scoped>\n",
       "    .dataframe tbody tr th:only-of-type {\n",
       "        vertical-align: middle;\n",
       "    }\n",
       "\n",
       "    .dataframe tbody tr th {\n",
       "        vertical-align: top;\n",
       "    }\n",
       "\n",
       "    .dataframe thead th {\n",
       "        text-align: right;\n",
       "    }\n",
       "</style>\n",
       "<table border=\"1\" class=\"dataframe\">\n",
       "  <thead>\n",
       "    <tr style=\"text-align: right;\">\n",
       "      <th></th>\n",
       "      <th>id</th>\n",
       "      <th>sentiment</th>\n",
       "      <th>confidence</th>\n",
       "      <th>text</th>\n",
       "    </tr>\n",
       "  </thead>\n",
       "  <tbody>\n",
       "    <tr>\n",
       "      <th>0</th>\n",
       "      <td>570306133677760513</td>\n",
       "      <td>neutral</td>\n",
       "      <td>1.0000</td>\n",
       "      <td>@VirginAmerica What @dhepburn said.</td>\n",
       "    </tr>\n",
       "    <tr>\n",
       "      <th>1</th>\n",
       "      <td>570301130888122368</td>\n",
       "      <td>positive</td>\n",
       "      <td>0.3486</td>\n",
       "      <td>@VirginAmerica plus you've added commercials t...</td>\n",
       "    </tr>\n",
       "    <tr>\n",
       "      <th>2</th>\n",
       "      <td>570301083672813571</td>\n",
       "      <td>neutral</td>\n",
       "      <td>0.6837</td>\n",
       "      <td>@VirginAmerica I didn't today... Must mean I n...</td>\n",
       "    </tr>\n",
       "    <tr>\n",
       "      <th>3</th>\n",
       "      <td>570301031407624196</td>\n",
       "      <td>negative</td>\n",
       "      <td>1.0000</td>\n",
       "      <td>@VirginAmerica it's really aggressive to blast...</td>\n",
       "    </tr>\n",
       "    <tr>\n",
       "      <th>4</th>\n",
       "      <td>570300817074462722</td>\n",
       "      <td>negative</td>\n",
       "      <td>1.0000</td>\n",
       "      <td>@VirginAmerica and it's a really big bad thing...</td>\n",
       "    </tr>\n",
       "    <tr>\n",
       "      <th>...</th>\n",
       "      <td>...</td>\n",
       "      <td>...</td>\n",
       "      <td>...</td>\n",
       "      <td>...</td>\n",
       "    </tr>\n",
       "    <tr>\n",
       "      <th>14635</th>\n",
       "      <td>569587686496825344</td>\n",
       "      <td>positive</td>\n",
       "      <td>0.3487</td>\n",
       "      <td>@AmericanAir thank you we got on a different f...</td>\n",
       "    </tr>\n",
       "    <tr>\n",
       "      <th>14636</th>\n",
       "      <td>569587371693355008</td>\n",
       "      <td>negative</td>\n",
       "      <td>1.0000</td>\n",
       "      <td>@AmericanAir leaving over 20 minutes Late Flig...</td>\n",
       "    </tr>\n",
       "    <tr>\n",
       "      <th>14637</th>\n",
       "      <td>569587242672398336</td>\n",
       "      <td>neutral</td>\n",
       "      <td>1.0000</td>\n",
       "      <td>@AmericanAir Please bring American Airlines to...</td>\n",
       "    </tr>\n",
       "    <tr>\n",
       "      <th>14638</th>\n",
       "      <td>569587188687634433</td>\n",
       "      <td>negative</td>\n",
       "      <td>1.0000</td>\n",
       "      <td>@AmericanAir you have my money, you change my ...</td>\n",
       "    </tr>\n",
       "    <tr>\n",
       "      <th>14639</th>\n",
       "      <td>569587140490866689</td>\n",
       "      <td>neutral</td>\n",
       "      <td>0.6771</td>\n",
       "      <td>@AmericanAir we have 8 ppl so we need 2 know h...</td>\n",
       "    </tr>\n",
       "  </tbody>\n",
       "</table>\n",
       "<p>14640 rows × 4 columns</p>\n",
       "</div>"
      ],
      "text/plain": [
       "                       id sentiment  confidence  \\\n",
       "0      570306133677760513   neutral      1.0000   \n",
       "1      570301130888122368  positive      0.3486   \n",
       "2      570301083672813571   neutral      0.6837   \n",
       "3      570301031407624196  negative      1.0000   \n",
       "4      570300817074462722  negative      1.0000   \n",
       "...                   ...       ...         ...   \n",
       "14635  569587686496825344  positive      0.3487   \n",
       "14636  569587371693355008  negative      1.0000   \n",
       "14637  569587242672398336   neutral      1.0000   \n",
       "14638  569587188687634433  negative      1.0000   \n",
       "14639  569587140490866689   neutral      0.6771   \n",
       "\n",
       "                                                    text  \n",
       "0                    @VirginAmerica What @dhepburn said.  \n",
       "1      @VirginAmerica plus you've added commercials t...  \n",
       "2      @VirginAmerica I didn't today... Must mean I n...  \n",
       "3      @VirginAmerica it's really aggressive to blast...  \n",
       "4      @VirginAmerica and it's a really big bad thing...  \n",
       "...                                                  ...  \n",
       "14635  @AmericanAir thank you we got on a different f...  \n",
       "14636  @AmericanAir leaving over 20 minutes Late Flig...  \n",
       "14637  @AmericanAir Please bring American Airlines to...  \n",
       "14638  @AmericanAir you have my money, you change my ...  \n",
       "14639  @AmericanAir we have 8 ppl so we need 2 know h...  \n",
       "\n",
       "[14640 rows x 4 columns]"
      ]
     },
     "execution_count": 6,
     "metadata": {},
     "output_type": "execute_result"
    }
   ],
   "source": [
    "# New dataframe with improved column names\n",
    "df.columns = ['id', 'sentiment','confidence', 'text']\n",
    "df"
   ]
  },
  {
   "cell_type": "code",
   "execution_count": 7,
   "id": "c6daabf1",
   "metadata": {
    "scrolled": false
   },
   "outputs": [
    {
     "name": "stdout",
     "output_type": "stream",
     "text": [
      "positive 0.3486 @VirginAmerica plus you've added commercials to the experience... tacky.\n",
      "positive 0.3482 @VirginAmerica come back to #PHL already. We need you to take us out of this horrible cold. #pleasecomeback http://t.co/gLXFwP6nQH\n",
      "neutral 0.355 @VirginAmerica Can you find us a flt out of LAX that is sooner than midnight on Monday? That would be great customer service 😃\n",
      "positive 0.3579 😎 RT @VirginAmerica: You’ve met your match. Got status on another airline? Upgrade (+restr): http://t.co/RHKaMx9VF5. http://t.co/PYalebgkJt\n",
      "neutral 0.375 @VirginAmerica is saving my sanity right now: http://t.co/ELtBOLjUl9\n",
      "neutral 1.0 @VirginAmerica What @dhepburn said.\n",
      "negative 1.0 @VirginAmerica it's really aggressive to blast obnoxious \"entertainment\" in your guests' faces &amp; they have little recourse\n",
      "negative 1.0 @VirginAmerica and it's a really big bad thing about it\n",
      "negative 1.0 @VirginAmerica seriously would pay $30 a flight for seats that didn't have this playing.\n",
      "it's really the only bad thing about flying VA\n",
      "positive 1.0 @VirginAmerica it was amazing, and arrived an hour early. You're too good to me.\n"
     ]
    },
    {
     "data": {
      "text/plain": [
       "0    None\n",
       "3    None\n",
       "4    None\n",
       "5    None\n",
       "9    None\n",
       "dtype: object"
      ]
     },
     "execution_count": 7,
     "metadata": {},
     "output_type": "execute_result"
    }
   ],
   "source": [
    "#Interested in difference in confidence, printing 5 rows each for confidence < 0.5 and 5 rows for confidencce = 1\n",
    "\n",
    "df[df['confidence'] < 0.5].head().apply(lambda row:print(row['sentiment'],row['confidence'],row['text']), axis = 1)\n",
    "df[df['confidence'] == 1].head().apply(lambda row:print(row['sentiment'],row['confidence'],row['text']), axis = 1)"
   ]
  },
  {
   "cell_type": "markdown",
   "id": "7c8cfa18",
   "metadata": {},
   "source": [
    "As seen above some of the tweets with low confidence score are hard to interpret, wich is why I chose to remove all rows in which the confidence score was not 1."
   ]
  },
  {
   "cell_type": "code",
   "execution_count": 8,
   "id": "026851c2",
   "metadata": {},
   "outputs": [],
   "source": [
    "# removing every row where confidence in sentiment is not at 1, which is the maximum\n",
    "df = df[df.confidence == 1]"
   ]
  },
  {
   "cell_type": "code",
   "execution_count": 9,
   "id": "ddf7895b",
   "metadata": {},
   "outputs": [
    {
     "data": {
      "text/plain": [
       "negative    7382\n",
       "neutral     1548\n",
       "positive    1515\n",
       "Name: sentiment, dtype: int64"
      ]
     },
     "execution_count": 9,
     "metadata": {},
     "output_type": "execute_result"
    }
   ],
   "source": [
    "# Seeing how many rows of each sentiment are left in the df\n",
    "df.sentiment.value_counts()"
   ]
  },
  {
   "cell_type": "code",
   "execution_count": 10,
   "id": "f9c9fb93",
   "metadata": {},
   "outputs": [
    {
     "name": "stderr",
     "output_type": "stream",
     "text": [
      "C:\\Users\\mohrj\\AppData\\Local\\Temp/ipykernel_11716/3670222157.py:3: FutureWarning: In a future version of pandas all arguments of DataFrame.drop except for the argument 'labels' will be keyword-only\n",
      "  df = df.drop('confidence', 1)\n"
     ]
    },
    {
     "data": {
      "text/html": [
       "<div>\n",
       "<style scoped>\n",
       "    .dataframe tbody tr th:only-of-type {\n",
       "        vertical-align: middle;\n",
       "    }\n",
       "\n",
       "    .dataframe tbody tr th {\n",
       "        vertical-align: top;\n",
       "    }\n",
       "\n",
       "    .dataframe thead th {\n",
       "        text-align: right;\n",
       "    }\n",
       "</style>\n",
       "<table border=\"1\" class=\"dataframe\">\n",
       "  <thead>\n",
       "    <tr style=\"text-align: right;\">\n",
       "      <th></th>\n",
       "      <th>id</th>\n",
       "      <th>sentiment</th>\n",
       "      <th>text</th>\n",
       "    </tr>\n",
       "  </thead>\n",
       "  <tbody>\n",
       "    <tr>\n",
       "      <th>0</th>\n",
       "      <td>570306133677760513</td>\n",
       "      <td>neutral</td>\n",
       "      <td>@VirginAmerica What @dhepburn said.</td>\n",
       "    </tr>\n",
       "    <tr>\n",
       "      <th>1</th>\n",
       "      <td>570301031407624196</td>\n",
       "      <td>negative</td>\n",
       "      <td>@VirginAmerica it's really aggressive to blast...</td>\n",
       "    </tr>\n",
       "    <tr>\n",
       "      <th>2</th>\n",
       "      <td>570300817074462722</td>\n",
       "      <td>negative</td>\n",
       "      <td>@VirginAmerica and it's a really big bad thing...</td>\n",
       "    </tr>\n",
       "    <tr>\n",
       "      <th>3</th>\n",
       "      <td>570300767074181121</td>\n",
       "      <td>negative</td>\n",
       "      <td>@VirginAmerica seriously would pay $30 a fligh...</td>\n",
       "    </tr>\n",
       "    <tr>\n",
       "      <th>4</th>\n",
       "      <td>570295459631263746</td>\n",
       "      <td>positive</td>\n",
       "      <td>@VirginAmerica it was amazing, and arrived an ...</td>\n",
       "    </tr>\n",
       "    <tr>\n",
       "      <th>...</th>\n",
       "      <td>...</td>\n",
       "      <td>...</td>\n",
       "      <td>...</td>\n",
       "    </tr>\n",
       "    <tr>\n",
       "      <th>10440</th>\n",
       "      <td>569588464896876545</td>\n",
       "      <td>negative</td>\n",
       "      <td>@AmericanAir thx for nothing on getting us out...</td>\n",
       "    </tr>\n",
       "    <tr>\n",
       "      <th>10441</th>\n",
       "      <td>569587705937600512</td>\n",
       "      <td>negative</td>\n",
       "      <td>@AmericanAir my flight was Cancelled Flightled...</td>\n",
       "    </tr>\n",
       "    <tr>\n",
       "      <th>10442</th>\n",
       "      <td>569587371693355008</td>\n",
       "      <td>negative</td>\n",
       "      <td>@AmericanAir leaving over 20 minutes Late Flig...</td>\n",
       "    </tr>\n",
       "    <tr>\n",
       "      <th>10443</th>\n",
       "      <td>569587242672398336</td>\n",
       "      <td>neutral</td>\n",
       "      <td>@AmericanAir Please bring American Airlines to...</td>\n",
       "    </tr>\n",
       "    <tr>\n",
       "      <th>10444</th>\n",
       "      <td>569587188687634433</td>\n",
       "      <td>negative</td>\n",
       "      <td>@AmericanAir you have my money, you change my ...</td>\n",
       "    </tr>\n",
       "  </tbody>\n",
       "</table>\n",
       "<p>10445 rows × 3 columns</p>\n",
       "</div>"
      ],
      "text/plain": [
       "                       id sentiment  \\\n",
       "0      570306133677760513   neutral   \n",
       "1      570301031407624196  negative   \n",
       "2      570300817074462722  negative   \n",
       "3      570300767074181121  negative   \n",
       "4      570295459631263746  positive   \n",
       "...                   ...       ...   \n",
       "10440  569588464896876545  negative   \n",
       "10441  569587705937600512  negative   \n",
       "10442  569587371693355008  negative   \n",
       "10443  569587242672398336   neutral   \n",
       "10444  569587188687634433  negative   \n",
       "\n",
       "                                                    text  \n",
       "0                    @VirginAmerica What @dhepburn said.  \n",
       "1      @VirginAmerica it's really aggressive to blast...  \n",
       "2      @VirginAmerica and it's a really big bad thing...  \n",
       "3      @VirginAmerica seriously would pay $30 a fligh...  \n",
       "4      @VirginAmerica it was amazing, and arrived an ...  \n",
       "...                                                  ...  \n",
       "10440  @AmericanAir thx for nothing on getting us out...  \n",
       "10441  @AmericanAir my flight was Cancelled Flightled...  \n",
       "10442  @AmericanAir leaving over 20 minutes Late Flig...  \n",
       "10443  @AmericanAir Please bring American Airlines to...  \n",
       "10444  @AmericanAir you have my money, you change my ...  \n",
       "\n",
       "[10445 rows x 3 columns]"
      ]
     },
     "execution_count": 10,
     "metadata": {},
     "output_type": "execute_result"
    }
   ],
   "source": [
    "# resetting the index and removing confidence column\n",
    "df = df.reset_index(drop=True)\n",
    "df = df.drop('confidence', 1)\n",
    "df"
   ]
  },
  {
   "cell_type": "markdown",
   "id": "59687404",
   "metadata": {},
   "source": [
    "Below, I checked how the emoji library turns emojs into text:"
   ]
  },
  {
   "cell_type": "code",
   "execution_count": 11,
   "id": "013e945b",
   "metadata": {},
   "outputs": [
    {
     "name": "stdout",
     "output_type": "stream",
     "text": [
      "I ❤️ flying @VirginAmerica. ☺️👍\n"
     ]
    }
   ],
   "source": [
    "print(df.text[10])"
   ]
  },
  {
   "cell_type": "code",
   "execution_count": 12,
   "id": "e3ca76a8",
   "metadata": {},
   "outputs": [
    {
     "name": "stdout",
     "output_type": "stream",
     "text": [
      "I :red_heart: flying @VirginAmerica. :smiling_face::thumbs_up:\n"
     ]
    }
   ],
   "source": [
    "b = df.text[10]\n",
    "print(emoji.demojize(b))"
   ]
  },
  {
   "cell_type": "code",
   "execution_count": 13,
   "id": "30396d75",
   "metadata": {},
   "outputs": [
    {
     "data": {
      "text/plain": [
       "id           0\n",
       "sentiment    0\n",
       "text         0\n",
       "dtype: int64"
      ]
     },
     "execution_count": 13,
     "metadata": {},
     "output_type": "execute_result"
    }
   ],
   "source": [
    "#check for any missing  values\n",
    "df.isnull().sum()"
   ]
  },
  {
   "cell_type": "markdown",
   "id": "ed6232bb",
   "metadata": {},
   "source": [
    "As mentioned in the introduction, the best way to preprocess text will be identified. Thats why there are 2 different process_text functions: The basic process_text_basic and the process_text_MB function.\n",
    "\n",
    "In Lecture 5.201: Introduction to sentiment analysis, the lecturer explains the basic approach for sentiment classification using the naive bayes algorithm. The process_text_basic function basically represents this basic approach and prepares the text for the tf-idf vectorizer and serves as a baseline for this coursework.\n",
    "\n",
    "In comparison to this baseline, the process_text_MB function does everything the basic function does like removing punctuation, etc. but also has 3 optimizations:\n",
    "\n",
    "    1.\tTurning emojis into text for better sentiment analysis\n",
    "\n",
    "    2.\tAdd Not_ to every word after a negation until the next punctuation\n",
    "\n",
    "    3.\tOccurrence matters more than frequency -> Tokens occurring more than once will be removed\n",
    "    \n",
    "In both functions the twitter handle, any html links, stopwords and punctuations will be removed so the text is clean and not noisy.\n",
    "\n",
    "Afterwards the whole text will be converted to lowercase aswell as lemmatized and tokenized. \n",
    "The goal of lemmatization is to reduce inflectional forms and sometimes derivationally related forms of a word to a common base.\n",
    "\n",
    "The decontracted function will be used to decontracte words like \"can't\" into \"can not\" so the above mentioned Step 2 can be properly applied.\n",
    "\n",
    "At first the basic text process function will be used to preprocess the text and the classifiers will be built and evaluted. \n",
    "\n",
    "Then after resetting the changes to the data, the improved text process function will be applied to the dataframe and used to build and train the classifiers.\n",
    "\n",
    "\n"
   ]
  },
  {
   "cell_type": "code",
   "execution_count": 14,
   "id": "38106237",
   "metadata": {},
   "outputs": [],
   "source": [
    "# Preprocess the text so it is usable for td-idf \n",
    "\n",
    "# Source for decontracted function : https://stackoverflow.com/questions/19790188/expanding-english-language-contractions-in-python\n",
    "# Words like \"would've\" would be \"would ve\" after removing puncuation so I think  it is necessary to decontracte the words first\n",
    "# There is also a contractions library for python but I  had several errors trying to install, while the solution below is far from perfect it will be better than nothing!\n",
    "def decontracted(phrase):\n",
    "\n",
    "    # specific\n",
    "    phrase = re.sub(r\"won\\'t\", \"will not\", phrase)\n",
    "    phrase = re.sub(r\"can\\'t\", \"can not\", phrase)\n",
    "\n",
    "    # general\n",
    "    phrase = re.sub(r\"n\\'t\", \" not\", phrase)\n",
    "    phrase = re.sub(r\"\\'re\", \" are\", phrase)\n",
    "    phrase = re.sub(r\"\\'s\", \" is\", phrase)\n",
    "    phrase = re.sub(r\"\\'d\", \" would\", phrase)\n",
    "    phrase = re.sub(r\"\\'ll\", \" will\", phrase)\n",
    "    phrase = re.sub(r\"\\'t\", \" not\", phrase)\n",
    "    phrase = re.sub(r\"\\'ve\", \" have\", phrase)\n",
    "    phrase = re.sub(r\"\\'m\", \" am\", phrase)\n",
    "    return phrase\n",
    "\n",
    "\n",
    "\n",
    "def  process_text_basic(text):\n",
    "    #removing twitter handle with Regex\n",
    "    text = re.sub(r'@\\S*\\s','',text)\n",
    "    #removing any html links like 'https..'\n",
    "    url = re.compile(r'https?://\\S+|www\\.\\S+')\n",
    "    text = url.sub(r'', text)\n",
    "    #removing punctuation\n",
    "    exclude = set(string.punctuation)\n",
    "    text = ''.join(ch for ch in text if ch not in exclude)\n",
    "    #converting to lowercase\n",
    "    text =  text.lower()\n",
    "    #removing stopwords\n",
    "    text = ' '.join([word for word in text.split() if word not in (stopwords.words('english'))])\n",
    "    #tokenizing the text\n",
    "    text = nltk.word_tokenize(text)\n",
    "    #lemmatizing\n",
    "    wnl = WordNetLemmatizer()\n",
    "    text = [wnl.lemmatize(word) for word in text]\n",
    "    return text\n",
    "\n",
    "\n",
    "\n",
    "     \n"
   ]
  },
  {
   "cell_type": "code",
   "execution_count": 15,
   "id": "dd4e8d52",
   "metadata": {},
   "outputs": [],
   "source": [
    "#The optimized process_text function\n",
    "\n",
    "\n",
    "def  process_text_MB(text):\n",
    "    \n",
    "    #removing twitter handle with Regex\n",
    "    text = re.sub(r'@\\S*\\s','',text)\n",
    "    \n",
    "    #removing any html links like 'https..'\n",
    "    url = re.compile(r'https?://\\S+|www\\.\\S+')\n",
    "    text = url.sub(r'', text)\n",
    "    \n",
    "    #turn emojis into text with emjo library, e.g. I ❤️ flying @VirginAmerica. ☺️👍 ->  I :red_heart: flying @VirginAmerica. :smiling_face::thumbs_up:\n",
    "    text = emoji.demojize(text)\n",
    "    #converting to lowercase\n",
    "    text =  text.lower()\n",
    "\n",
    "    #removing stopwords but leaving 'not', this could be expaneded to never, no, not for negation detection\n",
    "    text = ' '.join([word for word in text.split() if word not in (stopwords)])\n",
    "    \n",
    "    #Simple baseline method: add NOT_ to every word between negation and following punctuation\n",
    "    # source : https://coderedirect.com/questions/368359/how-to-add-tags-to-negated-words-in-strings-that-follow-not-no-and-never\n",
    "    text = re.sub(r'(?:not|never|no)[\\w\\s]+[^\\w\\s]', \n",
    "          lambda match: re.sub(r'(\\s+)(\\w+)', r'\\1not_\\2', match.group(0)), \n",
    "        text,\n",
    "      flags=re.IGNORECASE)\n",
    "    #removing punctuation\n",
    "    exclude = set(string.punctuation)\n",
    "    text = ''.join(ch for ch in text if ch not in exclude)\n",
    "\n",
    "    #tokenizing the text\n",
    "    text = nltk.word_tokenize(text)\n",
    "    \n",
    "    #lemmatizing\n",
    "    wnl = WordNetLemmatizer()\n",
    "    text = [wnl.lemmatize(word) for word in text]\n",
    "    #Getting unique tokens, Lecture 5.201, occurence matters more than frequency\n",
    "    text = set(text)\n",
    "    text = list(text)\n",
    "    return text"
   ]
  },
  {
   "cell_type": "markdown",
   "id": "1112a687",
   "metadata": {},
   "source": [
    "Now that the 2 different text processing functions have been introduced, the basic approach will be applied and the classifiers will be built and tested."
   ]
  },
  {
   "cell_type": "code",
   "execution_count": 16,
   "id": "6f12bcda",
   "metadata": {},
   "outputs": [],
   "source": [
    "#Applying the decontracted  function to every row in the text column of the dataframe with a lambda function  \n",
    "df.text = df.text.apply(lambda y: decontracted(y))\n",
    "#Applying the process text function to every row in the text column of the dataframe with a lambda function    \n",
    "df.text = df.text.apply(lambda x: (process_text_basic(x)))"
   ]
  },
  {
   "cell_type": "markdown",
   "id": "7bb2cbc0",
   "metadata": {},
   "source": [
    "Below the TF-IDF Countvecotirzer and TFidf transformer from scitkit learn will be used.\n",
    "\n",
    "Every row of the dataframe.text column was processed with the lamba function above and consists of a list of tokens now.\n",
    "\n",
    "So the corpus is every token in the whole text column of the dataframe. This corpus gets transformed into a bag of words and the tfidf will be calculated for every token."
   ]
  },
  {
   "cell_type": "code",
   "execution_count": 17,
   "id": "810f5a65",
   "metadata": {},
   "outputs": [],
   "source": [
    "# Using TF-IDF Vectorizer to transform tokens into 1s and 0s\n",
    "vectorizer = CountVectorizer(analyzer=lambda x: x)\n",
    "corpus = df.text\n",
    "bow = vectorizer.fit_transform(corpus)\n",
    "\n",
    "transformer = TfidfTransformer()\n",
    "text_tfidf = transformer.fit_transform(bow)\n",
    "text_tfidf = text_tfidf.toarray()"
   ]
  },
  {
   "cell_type": "code",
   "execution_count": 18,
   "id": "3b2a21c8",
   "metadata": {},
   "outputs": [
    {
     "name": "stdout",
     "output_type": "stream",
     "text": [
      "negative    7382\n",
      "neutral     1548\n",
      "positive    1515\n",
      "Name: sentiment, dtype: int64\n"
     ]
    }
   ],
   "source": [
    "# Seeing how many rows of each sentiment are left in the df\n",
    "print(df.sentiment.value_counts())"
   ]
  },
  {
   "cell_type": "code",
   "execution_count": 19,
   "id": "69e19d4a",
   "metadata": {},
   "outputs": [],
   "source": [
    "#Because of this imbalance training data will be smoothed using the SMOTE function \n",
    "smote = SMOTE()\n",
    "x_sm,y_sm = smote.fit_resample(text_tfidf,df.sentiment)"
   ]
  },
  {
   "cell_type": "code",
   "execution_count": 20,
   "id": "fc5a2c41",
   "metadata": {},
   "outputs": [],
   "source": [
    "#Train/test split\n",
    "Y = df.sentiment\n",
    "X_train, X_test, y_train, y_test = train_test_split(\n",
    "     x_sm, y_sm, test_size=0.33, random_state=42)"
   ]
  },
  {
   "cell_type": "code",
   "execution_count": 21,
   "id": "b4971ef8",
   "metadata": {
    "scrolled": true
   },
   "outputs": [
    {
     "name": "stdout",
     "output_type": "stream",
     "text": [
      "0.8203584621699275\n",
      "              precision    recall  f1-score   support\n",
      "\n",
      "    negative       0.98      0.66      0.79      2480\n",
      "     neutral       0.82      0.81      0.82      2398\n",
      "    positive       0.74      0.99      0.84      2431\n",
      "\n",
      "    accuracy                           0.82      7309\n",
      "   macro avg       0.85      0.82      0.82      7309\n",
      "weighted avg       0.85      0.82      0.82      7309\n",
      "\n"
     ]
    }
   ],
   "source": [
    "#Create and train Naive Bayes classifier, which will serves as the  baseline for this CW\n",
    "nb = GaussianNB()\n",
    "nb.fit(X_train, y_train)\n",
    "#Predict on test set\n",
    "nb_prediction = nb.predict(X_test)\n",
    "#Get accuary score and classification report for evalutation\n",
    "nb_result = classification_report(y_test, nb_prediction)\n",
    "print(accuracy_score(nb_prediction,y_test))\n",
    "print(nb_result)"
   ]
  },
  {
   "cell_type": "code",
   "execution_count": 22,
   "id": "3fb7f85d",
   "metadata": {},
   "outputs": [
    {
     "name": "stdout",
     "output_type": "stream",
     "text": [
      "0.8916404432890956\n",
      "              precision    recall  f1-score   support\n",
      "\n",
      "    negative       0.85      0.90      0.87      2480\n",
      "     neutral       0.91      0.83      0.86      2398\n",
      "    positive       0.93      0.94      0.94      2431\n",
      "\n",
      "    accuracy                           0.89      7309\n",
      "   macro avg       0.89      0.89      0.89      7309\n",
      "weighted avg       0.89      0.89      0.89      7309\n",
      "\n"
     ]
    }
   ],
   "source": [
    "#Create and train Multinomial Naive Bayes classifier\n",
    "nb_MB = MultinomialNB()\n",
    "nb_MB.fit(X_train,y_train)\n",
    "#Predict on test set\n",
    "nbMB_prediction =  nb_MB.predict(X_test)\n",
    "#Get accuary score and classification report for evalutation\n",
    "nb_MB_result = classification_report(y_test, nbMB_prediction)\n",
    "print(accuracy_score(nbMB_prediction,y_test))\n",
    "print(nb_MB_result)"
   ]
  },
  {
   "cell_type": "code",
   "execution_count": 23,
   "id": "5f53c369",
   "metadata": {},
   "outputs": [
    {
     "name": "stdout",
     "output_type": "stream",
     "text": [
      "0.9217403201532357\n",
      "              precision    recall  f1-score   support\n",
      "\n",
      "    negative       0.94      0.87      0.90      2480\n",
      "     neutral       0.88      0.96      0.91      2398\n",
      "    positive       0.96      0.94      0.95      2431\n",
      "\n",
      "    accuracy                           0.92      7309\n",
      "   macro avg       0.92      0.92      0.92      7309\n",
      "weighted avg       0.92      0.92      0.92      7309\n",
      "\n"
     ]
    }
   ],
   "source": [
    "#Create and train Random Forest classifier\n",
    "random_forest_classifier = RandomForestClassifier()\n",
    "random_forest_classifier.fit(X_train,y_train)\n",
    "#Predict on test set\n",
    "random_forest_classifier_prediction =  random_forest_classifier.predict(X_test)\n",
    "#Get accuary score and classification report for evalutation\n",
    "RF_result = classification_report(y_test, random_forest_classifier_prediction)\n",
    "print(accuracy_score(random_forest_classifier_prediction,y_test))\n",
    "print(RF_result)"
   ]
  },
  {
   "cell_type": "code",
   "execution_count": 24,
   "id": "70273b87",
   "metadata": {
    "scrolled": true
   },
   "outputs": [
    {
     "data": {
      "image/png": "[encoded data removed]",
      "text/plain": [
       "<Figure size 720x432 with 2 Axes>"
      ]
     },
     "metadata": {
      "needs_background": "light"
     },
     "output_type": "display_data"
    }
   ],
   "source": [
    "#plot confusion matrix for random forest classifier\n",
    "cm = confusion_matrix(y_test,random_forest_classifier_prediction)\n",
    "\n",
    "plt.figure(figsize=(10,6))\n",
    "sentiment_classes = ['Negative', 'Neutral', 'Positive']\n",
    "sns.heatmap(cm, cmap=plt.cm.Blues, annot=True, fmt='d', \n",
    "            xticklabels=sentiment_classes,\n",
    "            yticklabels=sentiment_classes)\n",
    "plt.title('Confusion matrix', fontsize=16)\n",
    "plt.xlabel('Actual label', fontsize=12)\n",
    "plt.ylabel('Predicted label', fontsize=12)\n",
    "plt.show()"
   ]
  },
  {
   "cell_type": "markdown",
   "id": "04648cf3",
   "metadata": {},
   "source": [
    "For the basic approach results have been achieved. \n",
    "\n",
    "The Random Forest classifier has already a high accuray score of almost 92% and only labeled 51 actual negative tweets wrongly. It is already a satisfiying result. \n",
    "\n",
    "Below the dataframe will be 'reset' because the process_text_basic function has been applied to the whole dataframe.\n",
    "\n",
    "Then all the steps above will be repeated with the optimized process text function."
   ]
  },
  {
   "cell_type": "code",
   "execution_count": 25,
   "id": "007aea16",
   "metadata": {},
   "outputs": [
    {
     "name": "stderr",
     "output_type": "stream",
     "text": [
      "C:\\Users\\mohrj\\AppData\\Local\\Temp/ipykernel_11716/3985424185.py:7: FutureWarning: In a future version of pandas all arguments of DataFrame.drop except for the argument 'labels' will be keyword-only\n",
      "  df = df.drop('confidence', 1)\n"
     ]
    }
   ],
   "source": [
    "#Resetting the data\n",
    "data = pd.read_csv('Airline dataset.csv')\n",
    "df = pd.concat([data.tweet_id, data.airline_sentiment,data.airline_sentiment_confidence, data.text], axis = 1)\n",
    "df.columns = ['id', 'sentiment','confidence', 'text']\n",
    "df = df[df.confidence == 1]\n",
    "df = df.reset_index(drop=True)\n",
    "df = df.drop('confidence', 1)\n",
    "\n",
    "#Removing not from stopwords list, because it is needed to add Not_ after every negation\n",
    "stopwords = stopwords.words('english')\n",
    "stopwords.remove('not')"
   ]
  },
  {
   "cell_type": "code",
   "execution_count": 26,
   "id": "11989209",
   "metadata": {},
   "outputs": [],
   "source": [
    "#Applying the decontracted  function to every row in the text column of the dataframe with a lambda function  \n",
    "df.text = df.text.apply(lambda y: decontracted(y))\n",
    "#Applying the process text function to every row in the text column of the dataframe with a lambda function    \n",
    "df.text = df.text.apply(lambda x: (process_text_MB(x)))"
   ]
  },
  {
   "cell_type": "code",
   "execution_count": 27,
   "id": "32077e6e",
   "metadata": {},
   "outputs": [],
   "source": [
    "# Using TF-IDF Vectorizer to transform tokens into 1s and 0s\n",
    "vectorizer = CountVectorizer(analyzer=lambda x: x)\n",
    "corpus = df.text\n",
    "bow = vectorizer.fit_transform(corpus)\n",
    "\n",
    "transformer = TfidfTransformer()\n",
    "text_tfidf = transformer.fit_transform(bow)\n",
    "text_tfidf = text_tfidf.toarray()\n",
    "\n",
    "#Because of this imbalance training data will be smoothed using the SMOTE function \n",
    "smote = SMOTE()\n",
    "x_sm,y_sm = smote.fit_resample(text_tfidf,df.sentiment)\n",
    "\n",
    "#Train/test split\n",
    "Y = df.sentiment\n",
    "X_train, X_test, y_train, y_test = train_test_split(\n",
    "     x_sm, y_sm, test_size=0.33, random_state=42)"
   ]
  },
  {
   "cell_type": "code",
   "execution_count": 28,
   "id": "46f7a214",
   "metadata": {},
   "outputs": [
    {
     "name": "stdout",
     "output_type": "stream",
     "text": [
      "0.8548365029415789\n",
      "              precision    recall  f1-score   support\n",
      "\n",
      "    negative       0.98      0.73      0.84      2480\n",
      "     neutral       0.86      0.84      0.85      2398\n",
      "    positive       0.78      0.99      0.87      2431\n",
      "\n",
      "    accuracy                           0.85      7309\n",
      "   macro avg       0.87      0.86      0.85      7309\n",
      "weighted avg       0.87      0.85      0.85      7309\n",
      "\n"
     ]
    }
   ],
   "source": [
    "#Create and train Naive Bayes classifier\n",
    "nb_improved = GaussianNB()\n",
    "nb_improved.fit(X_train, y_train)\n",
    "#Predict on test set\n",
    "nb_prediction_improv = nb_improved.predict(X_test)\n",
    "#Get accuary score and classification report for evalutation\n",
    "nb_improv_result = classification_report(y_test, nb_prediction_improv)\n",
    "print(accuracy_score(nb_prediction_improv,y_test))\n",
    "print(nb_improv_result)"
   ]
  },
  {
   "cell_type": "code",
   "execution_count": 29,
   "id": "0b6f22ea",
   "metadata": {},
   "outputs": [
    {
     "name": "stdout",
     "output_type": "stream",
     "text": [
      "0.9098371870296894\n",
      "              precision    recall  f1-score   support\n",
      "\n",
      "    negative       0.90      0.90      0.90      2480\n",
      "     neutral       0.91      0.87      0.89      2398\n",
      "    positive       0.92      0.96      0.94      2431\n",
      "\n",
      "    accuracy                           0.91      7309\n",
      "   macro avg       0.91      0.91      0.91      7309\n",
      "weighted avg       0.91      0.91      0.91      7309\n",
      "\n"
     ]
    }
   ],
   "source": [
    "#Create and train Multinomial Naive Bayes classifier\n",
    "nb_MB_improv = MultinomialNB()\n",
    "nb_MB_improv.fit(X_train,y_train)\n",
    "#Predict on test set\n",
    "nbMB_prediction_improv =  nb_MB_improv.predict(X_test)\n",
    "#Get accuary score and classification report for evalutation\n",
    "nb_MB_improv_result = classification_report(y_test, nbMB_prediction_improv)\n",
    "print(accuracy_score(nbMB_prediction_improv,y_test))\n",
    "print(nb_MB_improv_result)"
   ]
  },
  {
   "cell_type": "code",
   "execution_count": 30,
   "id": "3fdae898",
   "metadata": {},
   "outputs": [
    {
     "name": "stdout",
     "output_type": "stream",
     "text": [
      "0.9333698180325626\n",
      "              precision    recall  f1-score   support\n",
      "\n",
      "    negative       0.94      0.89      0.91      2480\n",
      "     neutral       0.90      0.95      0.92      2398\n",
      "    positive       0.96      0.96      0.96      2431\n",
      "\n",
      "    accuracy                           0.93      7309\n",
      "   macro avg       0.93      0.93      0.93      7309\n",
      "weighted avg       0.93      0.93      0.93      7309\n",
      "\n"
     ]
    }
   ],
   "source": [
    "#Create and train Random Forest classifier\n",
    "random_forest_classifier_improv = RandomForestClassifier()\n",
    "random_forest_classifier_improv.fit(X_train,y_train)\n",
    "#Predict on test set\n",
    "random_forest_classifier_prediction_improv =  random_forest_classifier_improv.predict(X_test)\n",
    "#Get accuary score and classification report for evalutation\n",
    "RF_improv_result = classification_report(y_test, random_forest_classifier_prediction_improv)\n",
    "print(accuracy_score(random_forest_classifier_prediction_improv,y_test))\n",
    "print(RF_improv_result)"
   ]
  },
  {
   "cell_type": "code",
   "execution_count": 31,
   "id": "0cefdf9b",
   "metadata": {},
   "outputs": [
    {
     "data": {
      "image/png": "[encoded data removed]",
      "text/plain": [
       "<Figure size 720x432 with 2 Axes>"
      ]
     },
     "metadata": {
      "needs_background": "light"
     },
     "output_type": "display_data"
    }
   ],
   "source": [
    "#plot confusion matrix for random forest classifier\n",
    "cm = confusion_matrix(y_test,random_forest_classifier_prediction_improv)\n",
    "\n",
    "plt.figure(figsize=(10,6))\n",
    "sentiment_classes = ['Negative', 'Neutral', 'Positive']\n",
    "sns.heatmap(cm, cmap=plt.cm.Blues, annot=True, fmt='d', \n",
    "            xticklabels=sentiment_classes,\n",
    "            yticklabels=sentiment_classes)\n",
    "plt.title('Confusion matrix', fontsize=16)\n",
    "plt.xlabel('Actual label', fontsize=12)\n",
    "plt.ylabel('Predicted label', fontsize=12)\n",
    "plt.show()"
   ]
  },
  {
   "cell_type": "code",
   "execution_count": 32,
   "id": "68559cdc",
   "metadata": {},
   "outputs": [
    {
     "name": "stdout",
     "output_type": "stream",
     "text": [
      "              precision    recall  f1-score   support\n",
      "\n",
      "    negative       0.98      0.66      0.79      2480\n",
      "     neutral       0.82      0.81      0.82      2398\n",
      "    positive       0.74      0.99      0.84      2431\n",
      "\n",
      "    accuracy                           0.82      7309\n",
      "   macro avg       0.85      0.82      0.82      7309\n",
      "weighted avg       0.85      0.82      0.82      7309\n",
      "               precision    recall  f1-score   support\n",
      "\n",
      "    negative       0.85      0.90      0.87      2480\n",
      "     neutral       0.91      0.83      0.86      2398\n",
      "    positive       0.93      0.94      0.94      2431\n",
      "\n",
      "    accuracy                           0.89      7309\n",
      "   macro avg       0.89      0.89      0.89      7309\n",
      "weighted avg       0.89      0.89      0.89      7309\n",
      "               precision    recall  f1-score   support\n",
      "\n",
      "    negative       0.94      0.87      0.90      2480\n",
      "     neutral       0.88      0.96      0.91      2398\n",
      "    positive       0.96      0.94      0.95      2431\n",
      "\n",
      "    accuracy                           0.92      7309\n",
      "   macro avg       0.92      0.92      0.92      7309\n",
      "weighted avg       0.92      0.92      0.92      7309\n",
      "\n",
      "              precision    recall  f1-score   support\n",
      "\n",
      "    negative       0.98      0.73      0.84      2480\n",
      "     neutral       0.86      0.84      0.85      2398\n",
      "    positive       0.78      0.99      0.87      2431\n",
      "\n",
      "    accuracy                           0.85      7309\n",
      "   macro avg       0.87      0.86      0.85      7309\n",
      "weighted avg       0.87      0.85      0.85      7309\n",
      "               precision    recall  f1-score   support\n",
      "\n",
      "    negative       0.90      0.90      0.90      2480\n",
      "     neutral       0.91      0.87      0.89      2398\n",
      "    positive       0.92      0.96      0.94      2431\n",
      "\n",
      "    accuracy                           0.91      7309\n",
      "   macro avg       0.91      0.91      0.91      7309\n",
      "weighted avg       0.91      0.91      0.91      7309\n",
      "               precision    recall  f1-score   support\n",
      "\n",
      "    negative       0.94      0.89      0.91      2480\n",
      "     neutral       0.90      0.95      0.92      2398\n",
      "    positive       0.96      0.96      0.96      2431\n",
      "\n",
      "    accuracy                           0.93      7309\n",
      "   macro avg       0.93      0.93      0.93      7309\n",
      "weighted avg       0.93      0.93      0.93      7309\n",
      "\n"
     ]
    }
   ],
   "source": [
    "#Comparing the classification reports for all 6 classifiers\n",
    "print(nb_result, nb_MB_result, RF_result)\n",
    "print(nb_improv_result,nb_MB_improv_result,RF_improv_result)"
   ]
  },
  {
   "cell_type": "markdown",
   "id": "22c314e1",
   "metadata": {},
   "source": [
    "At last, the dataframe will be reset again to build a classifier which will predict the reason as to why a tweet was negative"
   ]
  },
  {
   "cell_type": "code",
   "execution_count": 33,
   "id": "f748ad5f",
   "metadata": {},
   "outputs": [
    {
     "name": "stderr",
     "output_type": "stream",
     "text": [
      "C:\\Users\\mohrj\\AppData\\Local\\Temp/ipykernel_11716/2538437019.py:10: FutureWarning: In a future version of pandas all arguments of DataFrame.drop except for the argument 'labels' will be keyword-only\n",
      "  df = df.drop('confidence', 1)\n"
     ]
    }
   ],
   "source": [
    "#Resetting dataframe but using different columns now, like negativereason to get the reason\n",
    "data = pd.read_csv('Airline dataset.csv')\n",
    "df = pd.concat([data.tweet_id, data.airline_sentiment,data.airline_sentiment_confidence, data.text, data.negativereason], axis = 1)\n",
    "df.columns = ['id', 'sentiment','confidence', 'text', 'reason']\n",
    "df = df.dropna(axis = 0)\n",
    "# getting rid of every row where reason is not stated\n",
    "df = df[df.reason != \"Can't Tell\"]\n",
    "# resetting the index and removing confidence column\n",
    "df = df.reset_index(drop=True)\n",
    "df = df.drop('confidence', 1)\n",
    "#Applying the decontracted  function to every row in the text column of the dataframe with a lambda function  \n",
    "df.text = df.text.apply(lambda y: decontracted(y))\n",
    "#Applying the process text function to every row in the text column of the dataframe with a lambda function    \n",
    "df.text = df.text.apply(lambda x: (process_text_MB(x)))\n",
    "#TF-IDF again\n",
    "corpus = df.text\n",
    "bow = vectorizer.fit_transform(corpus)\n",
    "transformer = TfidfTransformer()\n",
    "text_tfidf = transformer.fit_transform(bow)\n",
    "text_tfidf = text_tfidf.toarray()"
   ]
  },
  {
   "cell_type": "code",
   "execution_count": 34,
   "id": "0dacce93",
   "metadata": {},
   "outputs": [
    {
     "name": "stdout",
     "output_type": "stream",
     "text": [
      "0.6320400500625782\n"
     ]
    }
   ],
   "source": [
    "#Train/Test split\n",
    "Y = df.reason\n",
    "X_train, X_test, y_train, y_test = train_test_split(\n",
    "     text_tfidf,Y, test_size=0.2, random_state=3)\n",
    "\n",
    "#Building and testing RF classifier to predict reason\n",
    "random_forest_classifier = RandomForestClassifier()\n",
    "random_forest_classifier.fit(X_train,y_train)\n",
    "random_forest_classifier_prediction =  random_forest_classifier.predict(X_test)\n",
    "results = pd.DataFrame(data=random_forest_classifier_prediction, columns=[\"prediction\"])\n",
    "print(accuracy_score(random_forest_classifier_prediction,y_test))"
   ]
  },
  {
   "cell_type": "code",
   "execution_count": 35,
   "id": "d63f2f7f",
   "metadata": {},
   "outputs": [
    {
     "data": {
      "text/html": [
       "<div>\n",
       "<style scoped>\n",
       "    .dataframe tbody tr th:only-of-type {\n",
       "        vertical-align: middle;\n",
       "    }\n",
       "\n",
       "    .dataframe tbody tr th {\n",
       "        vertical-align: top;\n",
       "    }\n",
       "\n",
       "    .dataframe thead th {\n",
       "        text-align: right;\n",
       "    }\n",
       "</style>\n",
       "<table border=\"1\" class=\"dataframe\">\n",
       "  <thead>\n",
       "    <tr style=\"text-align: right;\">\n",
       "      <th></th>\n",
       "      <th>Label</th>\n",
       "      <th>Prediction</th>\n",
       "      <th>text</th>\n",
       "    </tr>\n",
       "  </thead>\n",
       "  <tbody>\n",
       "    <tr>\n",
       "      <th>0</th>\n",
       "      <td>Lost Luggage</td>\n",
       "      <td>Lost Luggage</td>\n",
       "      <td>[baggage, claim, going, newarktiredandwanttogo...</td>\n",
       "    </tr>\n",
       "    <tr>\n",
       "      <th>1</th>\n",
       "      <td>Late Flight</td>\n",
       "      <td>Late Flight</td>\n",
       "      <td>[descending, farce, flight, get, going, not, n...</td>\n",
       "    </tr>\n",
       "    <tr>\n",
       "      <th>2</th>\n",
       "      <td>Cancelled Flight</td>\n",
       "      <td>Cancelled Flight</td>\n",
       "      <td>[cancelled, decided, drive, eventually, flight...</td>\n",
       "    </tr>\n",
       "    <tr>\n",
       "      <th>3</th>\n",
       "      <td>Late Flight</td>\n",
       "      <td>Late Flight</td>\n",
       "      <td>[houston, not, notconditions, notdestination, ...</td>\n",
       "    </tr>\n",
       "    <tr>\n",
       "      <th>4</th>\n",
       "      <td>Flight Attendant Complaints</td>\n",
       "      <td>Lost Luggage</td>\n",
       "      <td>[bag, carry, easily, fit, let, loyal, not, ove...</td>\n",
       "    </tr>\n",
       "    <tr>\n",
       "      <th>...</th>\n",
       "      <td>...</td>\n",
       "      <td>...</td>\n",
       "      <td>...</td>\n",
       "    </tr>\n",
       "    <tr>\n",
       "      <th>1593</th>\n",
       "      <td>Customer Service Issue</td>\n",
       "      <td>Customer Service Issue</td>\n",
       "      <td>[airline, customer, get, inferior, nation, nat...</td>\n",
       "    </tr>\n",
       "    <tr>\n",
       "      <th>1594</th>\n",
       "      <td>Customer Service Issue</td>\n",
       "      <td>Cancelled Flight</td>\n",
       "      <td>[answer, cancelled, dm, employee, flighted, ha...</td>\n",
       "    </tr>\n",
       "    <tr>\n",
       "      <th>1595</th>\n",
       "      <td>Flight Booking Problems</td>\n",
       "      <td>Customer Service Issue</td>\n",
       "      <td>[account, added, elevate, excited, first, flig...</td>\n",
       "    </tr>\n",
       "    <tr>\n",
       "      <th>1596</th>\n",
       "      <td>Customer Service Issue</td>\n",
       "      <td>Customer Service Issue</td>\n",
       "      <td>[2, already, another, anything, could, first, ...</td>\n",
       "    </tr>\n",
       "    <tr>\n",
       "      <th>1597</th>\n",
       "      <td>Customer Service Issue</td>\n",
       "      <td>Customer Service Issue</td>\n",
       "      <td>[12, 2, answer, bna, ca, help, hold, hr, human...</td>\n",
       "    </tr>\n",
       "  </tbody>\n",
       "</table>\n",
       "<p>1598 rows × 3 columns</p>\n",
       "</div>"
      ],
      "text/plain": [
       "                            Label              Prediction  \\\n",
       "0                    Lost Luggage            Lost Luggage   \n",
       "1                     Late Flight             Late Flight   \n",
       "2                Cancelled Flight        Cancelled Flight   \n",
       "3                     Late Flight             Late Flight   \n",
       "4     Flight Attendant Complaints            Lost Luggage   \n",
       "...                           ...                     ...   \n",
       "1593       Customer Service Issue  Customer Service Issue   \n",
       "1594       Customer Service Issue        Cancelled Flight   \n",
       "1595      Flight Booking Problems  Customer Service Issue   \n",
       "1596       Customer Service Issue  Customer Service Issue   \n",
       "1597       Customer Service Issue  Customer Service Issue   \n",
       "\n",
       "                                                   text  \n",
       "0     [baggage, claim, going, newarktiredandwanttogo...  \n",
       "1     [descending, farce, flight, get, going, not, n...  \n",
       "2     [cancelled, decided, drive, eventually, flight...  \n",
       "3     [houston, not, notconditions, notdestination, ...  \n",
       "4     [bag, carry, easily, fit, let, loyal, not, ove...  \n",
       "...                                                 ...  \n",
       "1593  [airline, customer, get, inferior, nation, nat...  \n",
       "1594  [answer, cancelled, dm, employee, flighted, ha...  \n",
       "1595  [account, added, elevate, excited, first, flig...  \n",
       "1596  [2, already, another, anything, could, first, ...  \n",
       "1597  [12, 2, answer, bna, ca, help, hold, hr, human...  \n",
       "\n",
       "[1598 rows x 3 columns]"
      ]
     },
     "execution_count": 35,
     "metadata": {},
     "output_type": "execute_result"
    }
   ],
   "source": [
    "#Reverting the TF-IDF array into text\n",
    "text = vectorizer.inverse_transform(X_test)\n",
    "#Creating result dataframe to see the actual label, predicted label and text that was given to classifier\n",
    "a = results\n",
    "y_test = y_test.reset_index()\n",
    "y_test['result'] = a\n",
    "y_test.drop(columns=\"index\", inplace=True)\n",
    "y_test.columns  = [\"Label\", \"Prediction\"]\n",
    "results = y_test\n",
    "results['text'] = text\n",
    "results"
   ]
  },
  {
   "cell_type": "markdown",
   "id": "3b553627",
   "metadata": {},
   "source": [
    "# III. Conclusions\n",
    "\n",
    "## 9. Evaluation\n",
    "\n",
    "Because the test and train data is selected randomly at every run of this code, results may vary some percent.\n",
    "\n",
    "The baseline Naive Bayes Classifier achieved a Recall of 0.66 for negative labeled tweets and an accuracy score of 82%. \n",
    "\n",
    "The Random Forest Classifier achieved a Recall of 0.89 for negative labeled tweets and has an accuracy score of 93%. \n",
    "\n",
    "One of the main objectives for this classifier was to have a high recall on negative labeled tweets, so a business can identify all negative tweets and act on the problems/complaints of the costumers. \n",
    "\n",
    "The RF classifier find 90% of all negative labeled tweets which is way higher than the baseline but could still be better. When a user on twitter complains about a product or service and the tweet goes viral, the brand/company will be damaged forever. This damage limitation is crucial that’s why a high recall is crucial. \n",
    "\n",
    "The Classifier buit to predict the negative reason did not do as well with an accuracy score of 62%. Since any reason for a negative tweet is bad, there is no need to make a distinction between ‘Lost Luggage’ or ‘Costumer Service’.\n",
    "\n",
    "In conclusion the results achieved by the random forest classifier are still pretty satisfying, beating the baseline handily, accurately predicting the labels and having a high recall rate on negative labeled tweets.\n",
    "\n",
    "\n",
    "## 10. Evaluation of the project and its results\n",
    "\n",
    "In general, the project was a success. \n",
    "The results clearly show that the optimized pre-processing steps lead to improved results, which was one of the objectives.\n",
    "\n",
    "Furthermore, did the Random Forest classifier perform quite well with roughly 93% accuracy score and 89% recall of negative tweets, which beat the baseline by quite some bit. \n",
    "\n",
    "The classifier or this approach in general could easily work with a bigger dataset, so this approach is scalable. Only runtime could become a problem if the input data becomes too big, as the Random Forest classifier already takes up much memory and runtime.\n",
    "\n",
    "The classifier which should predict the negative reason was not that great with an accuracy score of only about 62%, but it also had a much more complex task then just classifying the sentiment. \n",
    "\n",
    "The general approach of this project can be reproduced and applied to different sentiment classification challenges not just twitter sentiment analysis. \n",
    "\n",
    "As discussed in Lecture 5.201, another approach to sentiment analysis is to use some kind of sentiment lexicon, which would be a manually curated word list. \n",
    "\n",
    "For businesses this approach might make sense if their costumers on twitter use special words or definitions.\n",
    "\n",
    "For future work, it would be interesting to have a dataset where every tweet contains emojis. As mentioned in the objective statement, emojis could contribute to detecting sarcasm or irony and are commonly used among twitter users.\n"
   ]
  },
  {
   "cell_type": "markdown",
   "id": "82ddd9fe",
   "metadata": {},
   "source": [
    "## Publication bibliography\n",
    "\n",
    "Go, Alec; Bhayani, Richa; Huang, Lei (2009): Twitter Sentiment Classification using Distant Supervision. Available online at https://d1wqtxts1xzle7.cloudfront.net/34632156/Twitter_Sentiment_Classification_using_Distant_Supervision-with-cover-page-v2.pdf?Expires=1640780630&Signature=JBWweSyVDV6bthq0makhR62ffzECjxzlFq3reXoAHNlwFMJyh7e~mXnqD8wDsQKu5yPyHtUpziPrkWKPNKMNsx--TK-2~G6~FDpxv8Q0~l~A6FUgIKPtNdi~tkrTazeDQT7Tcdwvp308HxpP70I0ggOH3~YlGecwmiztuYMDA1BbQChI4oRyyfmfOCJtqaOEvFTsFQEJKhXTM3erHRtqxFHGNPtP-r3LIyM4LyCpMZUxuQBgv1v~DdFACAdC0thWsvSlF8lK8rsBdPr8Q4NyxMDR50Dlgebg6KLYAw7sw5bl-h5RBQMbgcgQ0AHGd05IFDrA8vpO2E~8AIT83wpZRg__&Key-Pair-Id=APKAJLOHF5GGSLRBV4ZA, checked on 12/29/2021.\n",
    "Pascual, Federico (2019): Twitter Sentiment Analysis in Real-Time. Available online at https://monkeylearn.com/blog/sentiment-analysis-of-twitter/#:~:text=Twitter%20sentiment%20analysis%20allows%20you,mentions%20before%20they%20they%20escalate., checked on 12/29/2021.\n",
    "You, Tony (2019): Understanding Random Forest. Available online at https://towardsdatascience.com/understanding-random-forest-58381e0602d2#:~:text=The%20Random%20Forest%20Classifier,-Random%20forest%2C%20like&text=In%20data%20science%20speak%2C%20the,between%20models%20is%20the%20key., checked on 12/30/2021.\n"
   ]
  }
 ],
 "metadata": {
  "kernelspec": {
   "display_name": "Python 3 (ipykernel)",
   "language": "python",
   "name": "python3"
  },
  "language_info": {
   "codemirror_mode": {
    "name": "ipython",
    "version": 3
   },
   "file_extension": ".py",
   "mimetype": "text/x-python",
   "name": "python",
   "nbconvert_exporter": "python",
   "pygments_lexer": "ipython3",
   "version": "3.9.7"
  }
 },
 "nbformat": 4,
 "nbformat_minor": 5
}
