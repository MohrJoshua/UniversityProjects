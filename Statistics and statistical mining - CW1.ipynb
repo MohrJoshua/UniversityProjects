{
 "cells": [
  {
   "cell_type": "markdown",
   "metadata": {},
   "source": [
    "### Import Libraries"
   ]
  },
  {
   "cell_type": "code",
   "execution_count": 1,
   "metadata": {},
   "outputs": [],
   "source": [
    "import pandas as pd\n",
    "import numpy as np\n",
    "from nltk.stem.snowball import SnowballStemmer\n",
    "from nltk.stem import PorterStemmer\n",
    "from nltk.util import ngrams\n",
    "from nltk.tokenize import RegexpTokenizer\n",
    "import nltk\n",
    "import string\n",
    "from sklearn.feature_extraction.text import CountVectorizer\n",
    "from sklearn.feature_extraction.text import TfidfTransformer\n",
    "from sklearn.model_selection import train_test_split\n",
    "from sklearn.naive_bayes import GaussianNB\n",
    "import pickle\n",
    "from pathlib import Path\n",
    "from sklearn.metrics import accuracy_score\n",
    "import matplotlib.pyplot as plt\n",
    "%matplotlib inline\n",
    "import seaborn as sns\n",
    "from statistics import mean"
   ]
  },
  {
   "cell_type": "markdown",
   "metadata": {},
   "source": [
    "### Load and explore the data (4 marks)"
   ]
  },
  {
   "cell_type": "code",
   "execution_count": 2,
   "metadata": {},
   "outputs": [
    {
     "data": {
      "text/html": [
       "<div>\n",
       "<style scoped>\n",
       "    .dataframe tbody tr th:only-of-type {\n",
       "        vertical-align: middle;\n",
       "    }\n",
       "\n",
       "    .dataframe tbody tr th {\n",
       "        vertical-align: top;\n",
       "    }\n",
       "\n",
       "    .dataframe thead th {\n",
       "        text-align: right;\n",
       "    }\n",
       "</style>\n",
       "<table border=\"1\" class=\"dataframe\">\n",
       "  <thead>\n",
       "    <tr style=\"text-align: right;\">\n",
       "      <th></th>\n",
       "      <th>Description</th>\n",
       "      <th>Level_1</th>\n",
       "      <th>Level_2</th>\n",
       "      <th>Level_3</th>\n",
       "    </tr>\n",
       "  </thead>\n",
       "  <tbody>\n",
       "    <tr>\n",
       "      <th>0</th>\n",
       "      <td>gerb cap help keep littl on head cov warm day ...</td>\n",
       "      <td>09BF5150</td>\n",
       "      <td>C7E19</td>\n",
       "      <td>FDCF</td>\n",
       "    </tr>\n",
       "    <tr>\n",
       "      <th>1</th>\n",
       "      <td>newborn inf toddl boy hoody jacket oshkosh b g...</td>\n",
       "      <td>2CEC27F1</td>\n",
       "      <td>ADAD6</td>\n",
       "      <td>ED0D</td>\n",
       "    </tr>\n",
       "    <tr>\n",
       "      <th>2</th>\n",
       "      <td>tut ballet anym leap foxy fash ruffl tul toddl...</td>\n",
       "      <td>09BF5150</td>\n",
       "      <td>C7E19</td>\n",
       "      <td>D06E</td>\n",
       "    </tr>\n",
       "    <tr>\n",
       "      <th>3</th>\n",
       "      <td>newborn inf toddl boy hoody jacket oshkosh b g...</td>\n",
       "      <td>2CEC27F1</td>\n",
       "      <td>ADAD6</td>\n",
       "      <td>98CF</td>\n",
       "    </tr>\n",
       "    <tr>\n",
       "      <th>4</th>\n",
       "      <td>easy keep feel warm cozy inf toddl girl hoody ...</td>\n",
       "      <td>2CEC27F1</td>\n",
       "      <td>ADAD6</td>\n",
       "      <td>3918</td>\n",
       "    </tr>\n",
       "  </tbody>\n",
       "</table>\n",
       "</div>"
      ],
      "text/plain": [
       "                                         Description   Level_1 Level_2 Level_3\n",
       "0  gerb cap help keep littl on head cov warm day ...  09BF5150   C7E19    FDCF\n",
       "1  newborn inf toddl boy hoody jacket oshkosh b g...  2CEC27F1   ADAD6    ED0D\n",
       "2  tut ballet anym leap foxy fash ruffl tul toddl...  09BF5150   C7E19    D06E\n",
       "3  newborn inf toddl boy hoody jacket oshkosh b g...  2CEC27F1   ADAD6    98CF\n",
       "4  easy keep feel warm cozy inf toddl girl hoody ...  2CEC27F1   ADAD6    3918"
      ]
     },
     "execution_count": 2,
     "metadata": {},
     "output_type": "execute_result"
    }
   ],
   "source": [
    "# load dataset from CSV file\n",
    "df = pd.read_csv(\"product-category-dataset-improved.csv\")\n",
    "\n",
    "# print head of dataframe to explore the data\n",
    "df.head()"
   ]
  },
  {
   "cell_type": "code",
   "execution_count": 3,
   "metadata": {},
   "outputs": [
    {
     "data": {
      "text/html": [
       "<div>\n",
       "<style scoped>\n",
       "    .dataframe tbody tr th:only-of-type {\n",
       "        vertical-align: middle;\n",
       "    }\n",
       "\n",
       "    .dataframe tbody tr th {\n",
       "        vertical-align: top;\n",
       "    }\n",
       "\n",
       "    .dataframe thead th {\n",
       "        text-align: right;\n",
       "    }\n",
       "</style>\n",
       "<table border=\"1\" class=\"dataframe\">\n",
       "  <thead>\n",
       "    <tr style=\"text-align: right;\">\n",
       "      <th></th>\n",
       "      <th>Description</th>\n",
       "      <th>Level_1</th>\n",
       "      <th>Level_2</th>\n",
       "      <th>Level_3</th>\n",
       "    </tr>\n",
       "  </thead>\n",
       "  <tbody>\n",
       "    <tr>\n",
       "      <th>10634</th>\n",
       "      <td>term 10 issu on year subscriptionyo sav 75 cov...</td>\n",
       "      <td>90A8B052</td>\n",
       "      <td>C719A</td>\n",
       "      <td>1BE5</td>\n",
       "    </tr>\n",
       "    <tr>\n",
       "      <th>10635</th>\n",
       "      <td>term 12 issu on year subscriptionyo sav 86 cov...</td>\n",
       "      <td>90A8B052</td>\n",
       "      <td>C719A</td>\n",
       "      <td>F45B</td>\n",
       "    </tr>\n",
       "    <tr>\n",
       "      <th>10636</th>\n",
       "      <td>term 9 issu on year subscriptionyo sav 64 cov ...</td>\n",
       "      <td>90A8B052</td>\n",
       "      <td>C719A</td>\n",
       "      <td>A0E2</td>\n",
       "    </tr>\n",
       "    <tr>\n",
       "      <th>10637</th>\n",
       "      <td>term 26 issu on year subscriptionyo sav 54 cov...</td>\n",
       "      <td>90A8B052</td>\n",
       "      <td>C719A</td>\n",
       "      <td>1BE5</td>\n",
       "    </tr>\n",
       "    <tr>\n",
       "      <th>10638</th>\n",
       "      <td>term 12 issu on year subscriptionyo sav 60 cov...</td>\n",
       "      <td>90A8B052</td>\n",
       "      <td>C719A</td>\n",
       "      <td>A0E2</td>\n",
       "    </tr>\n",
       "  </tbody>\n",
       "</table>\n",
       "</div>"
      ],
      "text/plain": [
       "                                             Description   Level_1 Level_2  \\\n",
       "10634  term 10 issu on year subscriptionyo sav 75 cov...  90A8B052   C719A   \n",
       "10635  term 12 issu on year subscriptionyo sav 86 cov...  90A8B052   C719A   \n",
       "10636  term 9 issu on year subscriptionyo sav 64 cov ...  90A8B052   C719A   \n",
       "10637  term 26 issu on year subscriptionyo sav 54 cov...  90A8B052   C719A   \n",
       "10638  term 12 issu on year subscriptionyo sav 60 cov...  90A8B052   C719A   \n",
       "\n",
       "      Level_3  \n",
       "10634    1BE5  \n",
       "10635    F45B  \n",
       "10636    A0E2  \n",
       "10637    1BE5  \n",
       "10638    A0E2  "
      ]
     },
     "execution_count": 3,
     "metadata": {},
     "output_type": "execute_result"
    }
   ],
   "source": [
    "# use tail() function to see the last 5 rows of the  df for further exploration\n",
    "df.tail()"
   ]
  },
  {
   "cell_type": "code",
   "execution_count": 4,
   "metadata": {},
   "outputs": [
    {
     "name": "stdout",
     "output_type": "stream",
     "text": [
      "<class 'pandas.core.frame.DataFrame'>\n",
      "RangeIndex: 10639 entries, 0 to 10638\n",
      "Data columns (total 4 columns):\n",
      " #   Column       Non-Null Count  Dtype \n",
      "---  ------       --------------  ----- \n",
      " 0   Description  10627 non-null  object\n",
      " 1   Level_1      10639 non-null  object\n",
      " 2   Level_2      10639 non-null  object\n",
      " 3   Level_3      10639 non-null  object\n",
      "dtypes: object(4)\n",
      "memory usage: 332.6+ KB\n"
     ]
    }
   ],
   "source": [
    "# using the info function to see the Dtypes  and other information\n",
    "df.info()"
   ]
  },
  {
   "cell_type": "code",
   "execution_count": 5,
   "metadata": {},
   "outputs": [
    {
     "name": "stdout",
     "output_type": "stream",
     "text": [
      "<class 'str'>\n",
      "<class 'str'>\n",
      "<class 'str'>\n",
      "<class 'str'>\n"
     ]
    }
   ],
   "source": [
    "# Seeing what type the values in columns have \n",
    "print(type(df.Description[0]))\n",
    "print(type(df.Level_1[0]))\n",
    "print(type(df.Level_2[0]))\n",
    "print(type(df.Level_3[0]))"
   ]
  },
  {
   "cell_type": "markdown",
   "metadata": {},
   "source": [
    "I was curious in the average number of words for every row in the Description column.\n",
    "So the function below seperates the  string by whitespace and counts the words of each row which is stored in a word list.\n",
    "At the end the mean of the word list is calculated."
   ]
  },
  {
   "cell_type": "code",
   "execution_count": 6,
   "metadata": {},
   "outputs": [
    {
     "name": "stdout",
     "output_type": "stream",
     "text": [
      "34.75815396183852\n"
     ]
    }
   ],
   "source": [
    "word_list=[]\n",
    "def number_of_words(string):\n",
    "    \n",
    "    new_string = str(string).split()\n",
    "    number_of_words = len(new_string)\n",
    "    word_list.append(number_of_words)\n",
    "    return word_list\n",
    "for row in df.Description:\n",
    "    number_of_words(row)\n",
    "print(mean(word_list))    "
   ]
  },
  {
   "cell_type": "markdown",
   "metadata": {},
   "source": [
    "On average 34.7 words for every row in the Description column, that is quite a lot!"
   ]
  },
  {
   "cell_type": "code",
   "execution_count": 7,
   "metadata": {},
   "outputs": [
    {
     "data": {
      "text/plain": [
       "(10639, 4)"
      ]
     },
     "execution_count": 7,
     "metadata": {},
     "output_type": "execute_result"
    }
   ],
   "source": [
    "df.shape"
   ]
  },
  {
   "cell_type": "code",
   "execution_count": 8,
   "metadata": {},
   "outputs": [
    {
     "data": {
      "text/plain": [
       "Description    object\n",
       "Level_1        object\n",
       "Level_2        object\n",
       "Level_3        object\n",
       "dtype: object"
      ]
     },
     "execution_count": 8,
     "metadata": {},
     "output_type": "execute_result"
    }
   ],
   "source": [
    "df.dtypes"
   ]
  },
  {
   "cell_type": "code",
   "execution_count": 9,
   "metadata": {
    "scrolled": true
   },
   "outputs": [
    {
     "data": {
      "text/html": [
       "<div>\n",
       "<style scoped>\n",
       "    .dataframe tbody tr th:only-of-type {\n",
       "        vertical-align: middle;\n",
       "    }\n",
       "\n",
       "    .dataframe tbody tr th {\n",
       "        vertical-align: top;\n",
       "    }\n",
       "\n",
       "    .dataframe thead th {\n",
       "        text-align: right;\n",
       "    }\n",
       "</style>\n",
       "<table border=\"1\" class=\"dataframe\">\n",
       "  <thead>\n",
       "    <tr style=\"text-align: right;\">\n",
       "      <th></th>\n",
       "      <th>Description</th>\n",
       "      <th>Level_1</th>\n",
       "      <th>Level_2</th>\n",
       "      <th>Level_3</th>\n",
       "    </tr>\n",
       "  </thead>\n",
       "  <tbody>\n",
       "    <tr>\n",
       "      <th>count</th>\n",
       "      <td>10627</td>\n",
       "      <td>10639</td>\n",
       "      <td>10639</td>\n",
       "      <td>10639</td>\n",
       "    </tr>\n",
       "    <tr>\n",
       "      <th>unique</th>\n",
       "      <td>9668</td>\n",
       "      <td>15</td>\n",
       "      <td>36</td>\n",
       "      <td>94</td>\n",
       "    </tr>\n",
       "    <tr>\n",
       "      <th>top</th>\n",
       "      <td>glory gorg col fing complet outfit express moo...</td>\n",
       "      <td>B092BA29</td>\n",
       "      <td>2D5A3</td>\n",
       "      <td>28A7</td>\n",
       "    </tr>\n",
       "    <tr>\n",
       "      <th>freq</th>\n",
       "      <td>24</td>\n",
       "      <td>900</td>\n",
       "      <td>797</td>\n",
       "      <td>332</td>\n",
       "    </tr>\n",
       "  </tbody>\n",
       "</table>\n",
       "</div>"
      ],
      "text/plain": [
       "                                              Description   Level_1 Level_2  \\\n",
       "count                                               10627     10639   10639   \n",
       "unique                                               9668        15      36   \n",
       "top     glory gorg col fing complet outfit express moo...  B092BA29   2D5A3   \n",
       "freq                                                   24       900     797   \n",
       "\n",
       "       Level_3  \n",
       "count    10639  \n",
       "unique      94  \n",
       "top       28A7  \n",
       "freq       332  "
      ]
     },
     "execution_count": 9,
     "metadata": {},
     "output_type": "execute_result"
    }
   ],
   "source": [
    "df.describe()"
   ]
  },
  {
   "cell_type": "markdown",
   "metadata": {},
   "source": [
    "The describe()  function let's me see the count of every row for every column and how many unique values each column has.\n",
    "\n",
    "Level_1 : 15 unique values, Level_2 : 36 unique values, Level_3 : 94 unique values,\n",
    "\n",
    "which means I will need 1 + 15 + 36 = 52 total unique  models later on."
   ]
  },
  {
   "cell_type": "markdown",
   "metadata": {},
   "source": [
    "Since the dataframe doesn't have any numeric data, I can't explore measurments like percentiles and so on. Instead I will visualize the different value counts of Level_1, Level_2 and Level_3 to see how often each unique Product class ,or label, is represented in the dataframe."
   ]
  },
  {
   "cell_type": "code",
   "execution_count": 10,
   "metadata": {},
   "outputs": [
    {
     "data": {
      "text/plain": [
       "B092BA29    900\n",
       "35E04739    890\n",
       "AAC8EE56    890\n",
       "57164AC1    875\n",
       "2CEC27F1    858\n",
       "09BF5150    809\n",
       "EFEF723B    800\n",
       "69286F45    797\n",
       "96F95EEC    587\n",
       "3E1E0D78    579\n",
       "4C3D8686    575\n",
       "4513C920    558\n",
       "014303D1    511\n",
       "90A8B052    506\n",
       "D410C91A    504\n",
       "Name: Level_1, dtype: int64"
      ]
     },
     "execution_count": 10,
     "metadata": {},
     "output_type": "execute_result"
    },
    {
     "data": {
      "image/png": "[encoded data removed]",
      "text/plain": [
       "<Figure size 432x288 with 1 Axes>"
      ]
     },
     "metadata": {
      "needs_background": "light"
     },
     "output_type": "display_data"
    }
   ],
   "source": [
    "df['Level_1'].value_counts().plot()\n",
    "df.Level_1.value_counts()"
   ]
  },
  {
   "cell_type": "code",
   "execution_count": 11,
   "metadata": {},
   "outputs": [
    {
     "data": {
      "text/plain": [
       "2D5A3    797\n",
       "ACD06    504\n",
       "C719A    482\n",
       "9D9EE    462\n",
       "5A8AB    450\n",
       "375FE    450\n",
       "B2DB4    449\n",
       "CB803    448\n",
       "BAE8A    448\n",
       "9B69F    447\n",
       "74974    447\n",
       "914A1    443\n",
       "390F1    441\n",
       "94728    439\n",
       "C7E19    429\n",
       "7B638    420\n",
       "A04D3    411\n",
       "ADAD6    410\n",
       "F4055    363\n",
       "7AED7    282\n",
       "02FA0    264\n",
       "77F62    229\n",
       "36080    176\n",
       "223B2    128\n",
       "5E038    118\n",
       "E6162    117\n",
       "E69F5    109\n",
       "D5531     88\n",
       "31FED     86\n",
       "F824F     74\n",
       "262E7     65\n",
       "915D4     47\n",
       "6C6B1     38\n",
       "AF6B9     38\n",
       "08960     24\n",
       "0864A     16\n",
       "Name: Level_2, dtype: int64"
      ]
     },
     "execution_count": 11,
     "metadata": {},
     "output_type": "execute_result"
    },
    {
     "data": {
      "image/png": "[encoded data removed]",
      "text/plain": [
       "<Figure size 432x288 with 1 Axes>"
      ]
     },
     "metadata": {
      "needs_background": "light"
     },
     "output_type": "display_data"
    }
   ],
   "source": [
    "df['Level_2'].value_counts().plot()\n",
    "df.Level_2.value_counts()"
   ]
  },
  {
   "cell_type": "code",
   "execution_count": 12,
   "metadata": {},
   "outputs": [
    {
     "data": {
      "text/plain": [
       "28A7    332\n",
       "2CFE    225\n",
       "AA6B    225\n",
       "5912    220\n",
       "BB6B    219\n",
       "       ... \n",
       "98A8     27\n",
       "74C9     26\n",
       "1000     24\n",
       "D55B     20\n",
       "96B8     16\n",
       "Name: Level_3, Length: 94, dtype: int64"
      ]
     },
     "execution_count": 12,
     "metadata": {},
     "output_type": "execute_result"
    },
    {
     "data": {
      "image/png": "[encoded data removed]",
      "text/plain": [
       "<Figure size 432x288 with 1 Axes>"
      ]
     },
     "metadata": {
      "needs_background": "light"
     },
     "output_type": "display_data"
    }
   ],
   "source": [
    "df['Level_3'].value_counts().plot()\n",
    "df.Level_3.value_counts()"
   ]
  },
  {
   "cell_type": "markdown",
   "metadata": {},
   "source": [
    "Now that I have explored the data thoroughly, I can move on to dealing with the missing data!"
   ]
  },
  {
   "cell_type": "markdown",
   "metadata": {},
   "source": [
    "### Deal with Missing Data (4 marks)"
   ]
  },
  {
   "cell_type": "code",
   "execution_count": 13,
   "metadata": {},
   "outputs": [
    {
     "name": "stdout",
     "output_type": "stream",
     "text": [
      "False\n",
      "False\n",
      "False\n"
     ]
    }
   ],
   "source": [
    "# See  if there are missing values in columns Level_1, Level_2 and Level_3, turns out there are no missing values\n",
    "print(df.Level_1.isnull().values.any())\n",
    "print(df.Level_2.isnull().values.any())\n",
    "print(df.Level_3.isnull().values.any())"
   ]
  },
  {
   "cell_type": "code",
   "execution_count": 14,
   "metadata": {},
   "outputs": [
    {
     "data": {
      "text/plain": [
       "True"
      ]
     },
     "execution_count": 14,
     "metadata": {},
     "output_type": "execute_result"
    }
   ],
   "source": [
    "# Check if data has missing values in the Description column, True = it has  missing values\n",
    "df.Description.isnull().values.any()"
   ]
  },
  {
   "cell_type": "code",
   "execution_count": 15,
   "metadata": {},
   "outputs": [
    {
     "data": {
      "text/plain": [
       "12"
      ]
     },
     "execution_count": 15,
     "metadata": {},
     "output_type": "execute_result"
    }
   ],
   "source": [
    "# See how many rows have missing vallues in Description column\n",
    "df.Description.isnull().sum().sum()"
   ]
  },
  {
   "cell_type": "code",
   "execution_count": 16,
   "metadata": {},
   "outputs": [
    {
     "name": "stdout",
     "output_type": "stream",
     "text": [
      "length of dataframe = 10639\n",
      "length of dataframe = 10627\n"
     ]
    }
   ],
   "source": [
    "# removing rows where Description column has missing values and checking if all rows with missing values got removed\n",
    "print('length of dataframe = ' +str(len(df.index)))\n",
    "df.dropna(subset=['Description'], axis = 0,how='any',  inplace=True)\n",
    "print('length of dataframe = ' +str(len(df.index)))"
   ]
  },
  {
   "cell_type": "markdown",
   "metadata": {},
   "source": [
    "### Drop Classes where the number of instances is < 10 (4 marks)"
   ]
  },
  {
   "cell_type": "code",
   "execution_count": 17,
   "metadata": {},
   "outputs": [],
   "source": [
    "# function for dropping classes where number of instances is < 10 by using value_counts function \n",
    "# source: https://stackoverflow.com/questions/49735683/python-removing-rows-on-count-condition\n",
    "def drop_classes(dataframe, column):\n",
    "    value_counts = column.value_counts()\n",
    "    remove = value_counts[value_counts < 10].index\n",
    "    return dataframe[~column.isin(remove)]"
   ]
  },
  {
   "cell_type": "code",
   "execution_count": 18,
   "metadata": {},
   "outputs": [],
   "source": [
    "# Apply to Level_1 \n",
    "df = drop_classes(df, df.Level_1)"
   ]
  },
  {
   "cell_type": "code",
   "execution_count": 19,
   "metadata": {},
   "outputs": [],
   "source": [
    "# Apply to Level_2 \n",
    "df = drop_classes(df, df.Level_2)"
   ]
  },
  {
   "cell_type": "code",
   "execution_count": 20,
   "metadata": {},
   "outputs": [],
   "source": [
    "# Apply to Level_3\n",
    "df = drop_classes(df, df.Level_3)"
   ]
  },
  {
   "cell_type": "markdown",
   "metadata": {},
   "source": [
    "### Now let's write a Function to Prepare Text (4 marks)\n",
    "We will apply it to our DataFrame later on\n",
    "\n",
    "* This function receives a text string and performs the following:\n",
    "* Convert text to lower case\n",
    "* Remove punctuation marks\n",
    "* Apply stemming using the popular Snowball or Porter Stemmer (optional)\n",
    "* Apply NGram Tokenisation\n",
    "* Return the tokenised text as a list of strings"
   ]
  },
  {
   "cell_type": "code",
   "execution_count": 21,
   "metadata": {},
   "outputs": [],
   "source": [
    "def process_text(text, n):\n",
    "    \"\"\"\n",
    "    Takes in a string of text, then performs the following:\n",
    "    1. Convert text to lower case and remove all punctuation\n",
    "    2. Optionally apply stemming\n",
    "    3. Apply Ngram Tokenisation\n",
    "    4. Returns the tokenised text as a list\n",
    "    \"\"\"\n",
    "\n",
    "\n",
    "    # remove punctuation from each word and convert text to lowercase\n",
    "    exclude = set(string.punctuation)\n",
    "    s = ''.join(ch for ch in text if ch not in exclude)\n",
    "    words = nltk.word_tokenize(s)\n",
    "    words = [word.lower() for word in words]\n",
    "    \n",
    "    #applying stemming\n",
    "    porter = PorterStemmer()\n",
    "    words =[porter.stem(word) for word in words]\n",
    "    \n",
    "    #applying ngram tokenisation and returning processed text as list\n",
    "    ngrams_1 = list(ngrams(words, n))\n",
    "    output = [\" \".join(ngram) for ngram in ngrams_1]\n",
    "    \n",
    "    return output"
   ]
  },
  {
   "cell_type": "code",
   "execution_count": 22,
   "metadata": {},
   "outputs": [
    {
     "data": {
      "text/plain": [
       "['here',\n",
       " 'were',\n",
       " 'test',\n",
       " 'the',\n",
       " 'processtext',\n",
       " 'function',\n",
       " 'result',\n",
       " 'are',\n",
       " 'as',\n",
       " 'follow']"
      ]
     },
     "execution_count": 22,
     "metadata": {},
     "output_type": "execute_result"
    }
   ],
   "source": [
    "# Here is an example function call\n",
    "process_text(\"Here we're testing the process_text function, results are as follows:\",1)"
   ]
  },
  {
   "cell_type": "code",
   "execution_count": 23,
   "metadata": {},
   "outputs": [
    {
     "data": {
      "text/plain": [
       "['here were test',\n",
       " 'were test the',\n",
       " 'test the processtext',\n",
       " 'the processtext function',\n",
       " 'processtext function result',\n",
       " 'function result are',\n",
       " 'result are as',\n",
       " 'are as follow']"
      ]
     },
     "execution_count": 23,
     "metadata": {},
     "output_type": "execute_result"
    }
   ],
   "source": [
    "# Results should look like this:\n",
    "['here were test',\n",
    " 'were test the',\n",
    " 'test the processtext',\n",
    " 'the processtext function',\n",
    " 'processtext function result',\n",
    " 'function result are',\n",
    " 'result are as',\n",
    " 'are as follow']"
   ]
  },
  {
   "cell_type": "markdown",
   "metadata": {},
   "source": [
    "### Now let's apply TF-IDF to extract features from plain text (10 marks)"
   ]
  },
  {
   "cell_type": "code",
   "execution_count": 24,
   "metadata": {},
   "outputs": [],
   "source": [
    "#appling process text func via a lamdba function to every row of descritpion column of the dataframe\n",
    "df.Description = df.Description.map(lambda d: (process_text(d, 1)))"
   ]
  },
  {
   "cell_type": "code",
   "execution_count": 25,
   "metadata": {},
   "outputs": [
    {
     "data": {
      "text/html": [
       "<div>\n",
       "<style scoped>\n",
       "    .dataframe tbody tr th:only-of-type {\n",
       "        vertical-align: middle;\n",
       "    }\n",
       "\n",
       "    .dataframe tbody tr th {\n",
       "        vertical-align: top;\n",
       "    }\n",
       "\n",
       "    .dataframe thead th {\n",
       "        text-align: right;\n",
       "    }\n",
       "</style>\n",
       "<table border=\"1\" class=\"dataframe\">\n",
       "  <thead>\n",
       "    <tr style=\"text-align: right;\">\n",
       "      <th></th>\n",
       "      <th>Description</th>\n",
       "      <th>Level_1</th>\n",
       "      <th>Level_2</th>\n",
       "      <th>Level_3</th>\n",
       "    </tr>\n",
       "  </thead>\n",
       "  <tbody>\n",
       "    <tr>\n",
       "      <th>0</th>\n",
       "      <td>[gerb, cap, help, keep, littl, on, head, cov, ...</td>\n",
       "      <td>09BF5150</td>\n",
       "      <td>C7E19</td>\n",
       "      <td>FDCF</td>\n",
       "    </tr>\n",
       "    <tr>\n",
       "      <th>1</th>\n",
       "      <td>[newborn, inf, toddl, boy, hoodi, jacket, oshk...</td>\n",
       "      <td>2CEC27F1</td>\n",
       "      <td>ADAD6</td>\n",
       "      <td>ED0D</td>\n",
       "    </tr>\n",
       "    <tr>\n",
       "      <th>2</th>\n",
       "      <td>[tut, ballet, anym, leap, foxi, fash, ruffl, t...</td>\n",
       "      <td>09BF5150</td>\n",
       "      <td>C7E19</td>\n",
       "      <td>D06E</td>\n",
       "    </tr>\n",
       "    <tr>\n",
       "      <th>3</th>\n",
       "      <td>[newborn, inf, toddl, boy, hoodi, jacket, oshk...</td>\n",
       "      <td>2CEC27F1</td>\n",
       "      <td>ADAD6</td>\n",
       "      <td>98CF</td>\n",
       "    </tr>\n",
       "    <tr>\n",
       "      <th>4</th>\n",
       "      <td>[easi, keep, feel, warm, cozi, inf, toddl, gir...</td>\n",
       "      <td>2CEC27F1</td>\n",
       "      <td>ADAD6</td>\n",
       "      <td>3918</td>\n",
       "    </tr>\n",
       "    <tr>\n",
       "      <th>...</th>\n",
       "      <td>...</td>\n",
       "      <td>...</td>\n",
       "      <td>...</td>\n",
       "      <td>...</td>\n",
       "    </tr>\n",
       "    <tr>\n",
       "      <th>10634</th>\n",
       "      <td>[term, 10, issu, on, year, subscriptionyo, sav...</td>\n",
       "      <td>90A8B052</td>\n",
       "      <td>C719A</td>\n",
       "      <td>1BE5</td>\n",
       "    </tr>\n",
       "    <tr>\n",
       "      <th>10635</th>\n",
       "      <td>[term, 12, issu, on, year, subscriptionyo, sav...</td>\n",
       "      <td>90A8B052</td>\n",
       "      <td>C719A</td>\n",
       "      <td>F45B</td>\n",
       "    </tr>\n",
       "    <tr>\n",
       "      <th>10636</th>\n",
       "      <td>[term, 9, issu, on, year, subscriptionyo, sav,...</td>\n",
       "      <td>90A8B052</td>\n",
       "      <td>C719A</td>\n",
       "      <td>A0E2</td>\n",
       "    </tr>\n",
       "    <tr>\n",
       "      <th>10637</th>\n",
       "      <td>[term, 26, issu, on, year, subscriptionyo, sav...</td>\n",
       "      <td>90A8B052</td>\n",
       "      <td>C719A</td>\n",
       "      <td>1BE5</td>\n",
       "    </tr>\n",
       "    <tr>\n",
       "      <th>10638</th>\n",
       "      <td>[term, 12, issu, on, year, subscriptionyo, sav...</td>\n",
       "      <td>90A8B052</td>\n",
       "      <td>C719A</td>\n",
       "      <td>A0E2</td>\n",
       "    </tr>\n",
       "  </tbody>\n",
       "</table>\n",
       "<p>10627 rows × 4 columns</p>\n",
       "</div>"
      ],
      "text/plain": [
       "                                             Description   Level_1 Level_2  \\\n",
       "0      [gerb, cap, help, keep, littl, on, head, cov, ...  09BF5150   C7E19   \n",
       "1      [newborn, inf, toddl, boy, hoodi, jacket, oshk...  2CEC27F1   ADAD6   \n",
       "2      [tut, ballet, anym, leap, foxi, fash, ruffl, t...  09BF5150   C7E19   \n",
       "3      [newborn, inf, toddl, boy, hoodi, jacket, oshk...  2CEC27F1   ADAD6   \n",
       "4      [easi, keep, feel, warm, cozi, inf, toddl, gir...  2CEC27F1   ADAD6   \n",
       "...                                                  ...       ...     ...   \n",
       "10634  [term, 10, issu, on, year, subscriptionyo, sav...  90A8B052   C719A   \n",
       "10635  [term, 12, issu, on, year, subscriptionyo, sav...  90A8B052   C719A   \n",
       "10636  [term, 9, issu, on, year, subscriptionyo, sav,...  90A8B052   C719A   \n",
       "10637  [term, 26, issu, on, year, subscriptionyo, sav...  90A8B052   C719A   \n",
       "10638  [term, 12, issu, on, year, subscriptionyo, sav...  90A8B052   C719A   \n",
       "\n",
       "      Level_3  \n",
       "0        FDCF  \n",
       "1        ED0D  \n",
       "2        D06E  \n",
       "3        98CF  \n",
       "4        3918  \n",
       "...       ...  \n",
       "10634    1BE5  \n",
       "10635    F45B  \n",
       "10636    A0E2  \n",
       "10637    1BE5  \n",
       "10638    A0E2  \n",
       "\n",
       "[10627 rows x 4 columns]"
      ]
     },
     "metadata": {},
     "output_type": "display_data"
    }
   ],
   "source": [
    "#See if the process  text function has been applied to the description column\n",
    "display(df)"
   ]
  },
  {
   "cell_type": "code",
   "execution_count": 26,
   "metadata": {},
   "outputs": [
    {
     "data": {
      "text/plain": [
       "<10627x16251 sparse matrix of type '<class 'numpy.int64'>'\n",
       "\twith 305194 stored elements in Compressed Sparse Row format>"
      ]
     },
     "execution_count": 26,
     "metadata": {},
     "output_type": "execute_result"
    }
   ],
   "source": [
    "# Might take a while...\n",
    "# Here you apply the process_text function to the Description column of the data\n",
    "# Then you pass the results to the bag of words tranformer\n",
    "# See here: https://scikit-learn.org/stable/modules/generated/sklearn.feature_extraction.text.CountVectorizer.html\n",
    "# Disable analyzer because corpus has already been tokenized\n",
    "# source: https://stackoverflow.com/questions/47711515/apply-countvectorizer-to-column-with-list-of-words-in-rows-in-python\n",
    "vectorizer = CountVectorizer(analyzer=lambda x: x)\n",
    "# use Description column as corpus\n",
    "#  yok\n",
    "bow = vectorizer.fit_transform(df.Description)\n",
    "bow"
   ]
  },
  {
   "cell_type": "markdown",
   "metadata": {},
   "source": [
    "Now we can use .transform on our Bag-of-Words (bow) transformed object and transform the entire DataFrame of text file contents. Let's go ahead and check out how the bag-of-words counts for the entire corpus in a large, sparse matrix:"
   ]
  },
  {
   "cell_type": "code",
   "execution_count": 27,
   "metadata": {},
   "outputs": [],
   "source": [
    "# After that you pass the result of the previous step to sklearn's TfidfTransformer\n",
    "# which will convert them into a feature matrix\n",
    "# See here: https://scikit-learn.org/stable/modules/generated/sklearn.feature_extraction.text.TfidfTransformer.html\n",
    "\n",
    "transformer = TfidfTransformer()\n",
    "text_tfidf = transformer.fit_transform(bow)"
   ]
  },
  {
   "cell_type": "code",
   "execution_count": 28,
   "metadata": {
    "scrolled": true
   },
   "outputs": [],
   "source": [
    "# The resulting matrix is in sparse format, we can transform it into dense\n",
    "# Code prepared for you so you can see what results look like\n",
    "text_tfidf = pd.DataFrame(text_tfidf.toarray())"
   ]
  },
  {
   "cell_type": "code",
   "execution_count": 29,
   "metadata": {},
   "outputs": [
    {
     "data": {
      "text/html": [
       "<div>\n",
       "<style scoped>\n",
       "    .dataframe tbody tr th:only-of-type {\n",
       "        vertical-align: middle;\n",
       "    }\n",
       "\n",
       "    .dataframe tbody tr th {\n",
       "        vertical-align: top;\n",
       "    }\n",
       "\n",
       "    .dataframe thead th {\n",
       "        text-align: right;\n",
       "    }\n",
       "</style>\n",
       "<table border=\"1\" class=\"dataframe\">\n",
       "  <thead>\n",
       "    <tr style=\"text-align: right;\">\n",
       "      <th></th>\n",
       "      <th>0</th>\n",
       "      <th>1</th>\n",
       "      <th>2</th>\n",
       "      <th>3</th>\n",
       "      <th>4</th>\n",
       "      <th>5</th>\n",
       "      <th>6</th>\n",
       "      <th>7</th>\n",
       "      <th>8</th>\n",
       "      <th>9</th>\n",
       "      <th>...</th>\n",
       "      <th>16241</th>\n",
       "      <th>16242</th>\n",
       "      <th>16243</th>\n",
       "      <th>16244</th>\n",
       "      <th>16245</th>\n",
       "      <th>16246</th>\n",
       "      <th>16247</th>\n",
       "      <th>16248</th>\n",
       "      <th>16249</th>\n",
       "      <th>16250</th>\n",
       "    </tr>\n",
       "  </thead>\n",
       "  <tbody>\n",
       "    <tr>\n",
       "      <th>0</th>\n",
       "      <td>0.0</td>\n",
       "      <td>0.0</td>\n",
       "      <td>0.0</td>\n",
       "      <td>0.0</td>\n",
       "      <td>0.0</td>\n",
       "      <td>0.0</td>\n",
       "      <td>0.0</td>\n",
       "      <td>0.0</td>\n",
       "      <td>0.0</td>\n",
       "      <td>0.0</td>\n",
       "      <td>...</td>\n",
       "      <td>0.0</td>\n",
       "      <td>0.0</td>\n",
       "      <td>0.0</td>\n",
       "      <td>0.0</td>\n",
       "      <td>0.0</td>\n",
       "      <td>0.0</td>\n",
       "      <td>0.0</td>\n",
       "      <td>0.0</td>\n",
       "      <td>0.0</td>\n",
       "      <td>0.0</td>\n",
       "    </tr>\n",
       "    <tr>\n",
       "      <th>1</th>\n",
       "      <td>0.0</td>\n",
       "      <td>0.0</td>\n",
       "      <td>0.0</td>\n",
       "      <td>0.0</td>\n",
       "      <td>0.0</td>\n",
       "      <td>0.0</td>\n",
       "      <td>0.0</td>\n",
       "      <td>0.0</td>\n",
       "      <td>0.0</td>\n",
       "      <td>0.0</td>\n",
       "      <td>...</td>\n",
       "      <td>0.0</td>\n",
       "      <td>0.0</td>\n",
       "      <td>0.0</td>\n",
       "      <td>0.0</td>\n",
       "      <td>0.0</td>\n",
       "      <td>0.0</td>\n",
       "      <td>0.0</td>\n",
       "      <td>0.0</td>\n",
       "      <td>0.0</td>\n",
       "      <td>0.0</td>\n",
       "    </tr>\n",
       "    <tr>\n",
       "      <th>2</th>\n",
       "      <td>0.0</td>\n",
       "      <td>0.0</td>\n",
       "      <td>0.0</td>\n",
       "      <td>0.0</td>\n",
       "      <td>0.0</td>\n",
       "      <td>0.0</td>\n",
       "      <td>0.0</td>\n",
       "      <td>0.0</td>\n",
       "      <td>0.0</td>\n",
       "      <td>0.0</td>\n",
       "      <td>...</td>\n",
       "      <td>0.0</td>\n",
       "      <td>0.0</td>\n",
       "      <td>0.0</td>\n",
       "      <td>0.0</td>\n",
       "      <td>0.0</td>\n",
       "      <td>0.0</td>\n",
       "      <td>0.0</td>\n",
       "      <td>0.0</td>\n",
       "      <td>0.0</td>\n",
       "      <td>0.0</td>\n",
       "    </tr>\n",
       "    <tr>\n",
       "      <th>3</th>\n",
       "      <td>0.0</td>\n",
       "      <td>0.0</td>\n",
       "      <td>0.0</td>\n",
       "      <td>0.0</td>\n",
       "      <td>0.0</td>\n",
       "      <td>0.0</td>\n",
       "      <td>0.0</td>\n",
       "      <td>0.0</td>\n",
       "      <td>0.0</td>\n",
       "      <td>0.0</td>\n",
       "      <td>...</td>\n",
       "      <td>0.0</td>\n",
       "      <td>0.0</td>\n",
       "      <td>0.0</td>\n",
       "      <td>0.0</td>\n",
       "      <td>0.0</td>\n",
       "      <td>0.0</td>\n",
       "      <td>0.0</td>\n",
       "      <td>0.0</td>\n",
       "      <td>0.0</td>\n",
       "      <td>0.0</td>\n",
       "    </tr>\n",
       "    <tr>\n",
       "      <th>4</th>\n",
       "      <td>0.0</td>\n",
       "      <td>0.0</td>\n",
       "      <td>0.0</td>\n",
       "      <td>0.0</td>\n",
       "      <td>0.0</td>\n",
       "      <td>0.0</td>\n",
       "      <td>0.0</td>\n",
       "      <td>0.0</td>\n",
       "      <td>0.0</td>\n",
       "      <td>0.0</td>\n",
       "      <td>...</td>\n",
       "      <td>0.0</td>\n",
       "      <td>0.0</td>\n",
       "      <td>0.0</td>\n",
       "      <td>0.0</td>\n",
       "      <td>0.0</td>\n",
       "      <td>0.0</td>\n",
       "      <td>0.0</td>\n",
       "      <td>0.0</td>\n",
       "      <td>0.0</td>\n",
       "      <td>0.0</td>\n",
       "    </tr>\n",
       "    <tr>\n",
       "      <th>...</th>\n",
       "      <td>...</td>\n",
       "      <td>...</td>\n",
       "      <td>...</td>\n",
       "      <td>...</td>\n",
       "      <td>...</td>\n",
       "      <td>...</td>\n",
       "      <td>...</td>\n",
       "      <td>...</td>\n",
       "      <td>...</td>\n",
       "      <td>...</td>\n",
       "      <td>...</td>\n",
       "      <td>...</td>\n",
       "      <td>...</td>\n",
       "      <td>...</td>\n",
       "      <td>...</td>\n",
       "      <td>...</td>\n",
       "      <td>...</td>\n",
       "      <td>...</td>\n",
       "      <td>...</td>\n",
       "      <td>...</td>\n",
       "      <td>...</td>\n",
       "    </tr>\n",
       "    <tr>\n",
       "      <th>10622</th>\n",
       "      <td>0.0</td>\n",
       "      <td>0.0</td>\n",
       "      <td>0.0</td>\n",
       "      <td>0.0</td>\n",
       "      <td>0.0</td>\n",
       "      <td>0.0</td>\n",
       "      <td>0.0</td>\n",
       "      <td>0.0</td>\n",
       "      <td>0.0</td>\n",
       "      <td>0.0</td>\n",
       "      <td>...</td>\n",
       "      <td>0.0</td>\n",
       "      <td>0.0</td>\n",
       "      <td>0.0</td>\n",
       "      <td>0.0</td>\n",
       "      <td>0.0</td>\n",
       "      <td>0.0</td>\n",
       "      <td>0.0</td>\n",
       "      <td>0.0</td>\n",
       "      <td>0.0</td>\n",
       "      <td>0.0</td>\n",
       "    </tr>\n",
       "    <tr>\n",
       "      <th>10623</th>\n",
       "      <td>0.0</td>\n",
       "      <td>0.0</td>\n",
       "      <td>0.0</td>\n",
       "      <td>0.0</td>\n",
       "      <td>0.0</td>\n",
       "      <td>0.0</td>\n",
       "      <td>0.0</td>\n",
       "      <td>0.0</td>\n",
       "      <td>0.0</td>\n",
       "      <td>0.0</td>\n",
       "      <td>...</td>\n",
       "      <td>0.0</td>\n",
       "      <td>0.0</td>\n",
       "      <td>0.0</td>\n",
       "      <td>0.0</td>\n",
       "      <td>0.0</td>\n",
       "      <td>0.0</td>\n",
       "      <td>0.0</td>\n",
       "      <td>0.0</td>\n",
       "      <td>0.0</td>\n",
       "      <td>0.0</td>\n",
       "    </tr>\n",
       "    <tr>\n",
       "      <th>10624</th>\n",
       "      <td>0.0</td>\n",
       "      <td>0.0</td>\n",
       "      <td>0.0</td>\n",
       "      <td>0.0</td>\n",
       "      <td>0.0</td>\n",
       "      <td>0.0</td>\n",
       "      <td>0.0</td>\n",
       "      <td>0.0</td>\n",
       "      <td>0.0</td>\n",
       "      <td>0.0</td>\n",
       "      <td>...</td>\n",
       "      <td>0.0</td>\n",
       "      <td>0.0</td>\n",
       "      <td>0.0</td>\n",
       "      <td>0.0</td>\n",
       "      <td>0.0</td>\n",
       "      <td>0.0</td>\n",
       "      <td>0.0</td>\n",
       "      <td>0.0</td>\n",
       "      <td>0.0</td>\n",
       "      <td>0.0</td>\n",
       "    </tr>\n",
       "    <tr>\n",
       "      <th>10625</th>\n",
       "      <td>0.0</td>\n",
       "      <td>0.0</td>\n",
       "      <td>0.0</td>\n",
       "      <td>0.0</td>\n",
       "      <td>0.0</td>\n",
       "      <td>0.0</td>\n",
       "      <td>0.0</td>\n",
       "      <td>0.0</td>\n",
       "      <td>0.0</td>\n",
       "      <td>0.0</td>\n",
       "      <td>...</td>\n",
       "      <td>0.0</td>\n",
       "      <td>0.0</td>\n",
       "      <td>0.0</td>\n",
       "      <td>0.0</td>\n",
       "      <td>0.0</td>\n",
       "      <td>0.0</td>\n",
       "      <td>0.0</td>\n",
       "      <td>0.0</td>\n",
       "      <td>0.0</td>\n",
       "      <td>0.0</td>\n",
       "    </tr>\n",
       "    <tr>\n",
       "      <th>10626</th>\n",
       "      <td>0.0</td>\n",
       "      <td>0.0</td>\n",
       "      <td>0.0</td>\n",
       "      <td>0.0</td>\n",
       "      <td>0.0</td>\n",
       "      <td>0.0</td>\n",
       "      <td>0.0</td>\n",
       "      <td>0.0</td>\n",
       "      <td>0.0</td>\n",
       "      <td>0.0</td>\n",
       "      <td>...</td>\n",
       "      <td>0.0</td>\n",
       "      <td>0.0</td>\n",
       "      <td>0.0</td>\n",
       "      <td>0.0</td>\n",
       "      <td>0.0</td>\n",
       "      <td>0.0</td>\n",
       "      <td>0.0</td>\n",
       "      <td>0.0</td>\n",
       "      <td>0.0</td>\n",
       "      <td>0.0</td>\n",
       "    </tr>\n",
       "  </tbody>\n",
       "</table>\n",
       "<p>10627 rows × 16251 columns</p>\n",
       "</div>"
      ],
      "text/plain": [
       "       0      1      2      3      4      5      6      7      8      9      \\\n",
       "0        0.0    0.0    0.0    0.0    0.0    0.0    0.0    0.0    0.0    0.0   \n",
       "1        0.0    0.0    0.0    0.0    0.0    0.0    0.0    0.0    0.0    0.0   \n",
       "2        0.0    0.0    0.0    0.0    0.0    0.0    0.0    0.0    0.0    0.0   \n",
       "3        0.0    0.0    0.0    0.0    0.0    0.0    0.0    0.0    0.0    0.0   \n",
       "4        0.0    0.0    0.0    0.0    0.0    0.0    0.0    0.0    0.0    0.0   \n",
       "...      ...    ...    ...    ...    ...    ...    ...    ...    ...    ...   \n",
       "10622    0.0    0.0    0.0    0.0    0.0    0.0    0.0    0.0    0.0    0.0   \n",
       "10623    0.0    0.0    0.0    0.0    0.0    0.0    0.0    0.0    0.0    0.0   \n",
       "10624    0.0    0.0    0.0    0.0    0.0    0.0    0.0    0.0    0.0    0.0   \n",
       "10625    0.0    0.0    0.0    0.0    0.0    0.0    0.0    0.0    0.0    0.0   \n",
       "10626    0.0    0.0    0.0    0.0    0.0    0.0    0.0    0.0    0.0    0.0   \n",
       "\n",
       "       ...  16241  16242  16243  16244  16245  16246  16247  16248  16249  \\\n",
       "0      ...    0.0    0.0    0.0    0.0    0.0    0.0    0.0    0.0    0.0   \n",
       "1      ...    0.0    0.0    0.0    0.0    0.0    0.0    0.0    0.0    0.0   \n",
       "2      ...    0.0    0.0    0.0    0.0    0.0    0.0    0.0    0.0    0.0   \n",
       "3      ...    0.0    0.0    0.0    0.0    0.0    0.0    0.0    0.0    0.0   \n",
       "4      ...    0.0    0.0    0.0    0.0    0.0    0.0    0.0    0.0    0.0   \n",
       "...    ...    ...    ...    ...    ...    ...    ...    ...    ...    ...   \n",
       "10622  ...    0.0    0.0    0.0    0.0    0.0    0.0    0.0    0.0    0.0   \n",
       "10623  ...    0.0    0.0    0.0    0.0    0.0    0.0    0.0    0.0    0.0   \n",
       "10624  ...    0.0    0.0    0.0    0.0    0.0    0.0    0.0    0.0    0.0   \n",
       "10625  ...    0.0    0.0    0.0    0.0    0.0    0.0    0.0    0.0    0.0   \n",
       "10626  ...    0.0    0.0    0.0    0.0    0.0    0.0    0.0    0.0    0.0   \n",
       "\n",
       "       16250  \n",
       "0        0.0  \n",
       "1        0.0  \n",
       "2        0.0  \n",
       "3        0.0  \n",
       "4        0.0  \n",
       "...      ...  \n",
       "10622    0.0  \n",
       "10623    0.0  \n",
       "10624    0.0  \n",
       "10625    0.0  \n",
       "10626    0.0  \n",
       "\n",
       "[10627 rows x 16251 columns]"
      ]
     },
     "metadata": {},
     "output_type": "display_data"
    }
   ],
   "source": [
    "# This is an example result, the matrix will contain lots of zero values, that is expected\n",
    "# Some values will be non-zero\n",
    "display(text_tfidf)"
   ]
  },
  {
   "cell_type": "code",
   "execution_count": 30,
   "metadata": {},
   "outputs": [
    {
     "data": {
      "text/plain": [
       "(10627, 16251)"
      ]
     },
     "execution_count": 30,
     "metadata": {},
     "output_type": "execute_result"
    }
   ],
   "source": [
    "text_tfidf.shape"
   ]
  },
  {
   "cell_type": "markdown",
   "metadata": {},
   "source": [
    "# Now the Data is Ready for Classifier Usage"
   ]
  },
  {
   "cell_type": "markdown",
   "metadata": {},
   "source": [
    "### Split Data into Train and Test sets (4 marks)"
   ]
  },
  {
   "cell_type": "code",
   "execution_count": 31,
   "metadata": {},
   "outputs": [],
   "source": [
    "# Train/Test split\n",
    "# use the three level columns as Y\n",
    "Y = df[[\"Level_1\",\"Level_2\",\"Level_3\"]]\n",
    "\n",
    "# use 66% for training and 33% for testing\n",
    "# random_state controls shuffling\n",
    "X_train, X_test, y_train, y_test = train_test_split(\n",
    "     text_tfidf, Y, test_size=0.33, random_state=42)"
   ]
  },
  {
   "cell_type": "code",
   "execution_count": 32,
   "metadata": {},
   "outputs": [],
   "source": [
    "# You might need to reset index in each dataframe (depends on you how you do things)\n",
    "# done for you to make it clearer\n",
    "X_train.reset_index(inplace=True, drop=True)\n",
    "X_test.reset_index(inplace=True, drop=True)\n",
    "y_train.reset_index(inplace=True, drop=True)\n",
    "y_test.reset_index(inplace=True, drop=True)"
   ]
  },
  {
   "cell_type": "code",
   "execution_count": 33,
   "metadata": {},
   "outputs": [],
   "source": [
    "# You might need to take classes as separate columns (depends on you how you do things)\n",
    "class1 = y_train['Level_1'].astype(str)\n",
    "class2 = y_train['Level_2'].astype(str)\n",
    "class3 = y_train['Level_3'].astype(str)"
   ]
  },
  {
   "cell_type": "markdown",
   "metadata": {},
   "source": [
    "## Model training for the three levels (8 marks)"
   ]
  },
  {
   "cell_type": "code",
   "execution_count": 34,
   "metadata": {},
   "outputs": [],
   "source": [
    "## Create and save model for level 1\n",
    "# define name of level column and model directory\n",
    "level = \"Level_1\"\n",
    "# define name of single model to predict level 1\n",
    "level1File = \"0\"\n",
    "# path to level dir\n",
    "level1Dir = Path(level)\n",
    "# create level directory if it doesn't exist \n",
    "level1Dir.mkdir(exist_ok=True)\n",
    "\n",
    "# model to train\n",
    "nb = GaussianNB()\n",
    "# train model with training data\n",
    "nb.fit(X_train, class1)\n",
    "\n",
    "# build path to model file and open it\n",
    "with open(level1Dir.joinpath(level1File).with_suffix('.pk'), \"wb\") as clf:\n",
    "    # serialize model and write to file\n",
    "    pickle.dump(nb, clf)\n",
    "    "
   ]
  },
  {
   "cell_type": "code",
   "execution_count": 35,
   "metadata": {},
   "outputs": [],
   "source": [
    "## Create and save models for level 2\n",
    "# define name of level column and model directory\n",
    "level = \"Level_2\"\n",
    "# path to level dir\n",
    "level2Dir = Path(level)\n",
    "# create level directory if it doesn't exist \n",
    "level2Dir.mkdir(exist_ok=True)\n",
    "\n",
    "# join X and Y dataframes\n",
    "xy_train = pd.concat([X_train, y_train], axis=1) \n",
    "\n",
    "# train model for each unique product class (=label) in Level_1 \n",
    "for productClass in y_train[\"Level_1\"].astype(str).unique():\n",
    "    # select rows which contain the current productClass\n",
    "    productClassRows = xy_train[xy_train[\"Level_1\"] == productClass]\n",
    "    # select all columns which contain the according TF-IDF data (=X_train) as x\n",
    "    x = productClassRows.iloc[:,:-3]\n",
    "    # use Level_2 column as y\n",
    "    y = productClassRows[\"Level_2\"]\n",
    "    # model to train\n",
    "    nb = GaussianNB()\n",
    "    # train model with training data\n",
    "    nb.fit(x, y)\n",
    "    # build path to model file and open it\n",
    "    # name of model file is current product class\n",
    "    with open(level2Dir.joinpath(productClass).with_suffix('.pk'), \"wb\") as clf:\n",
    "        # serialize model and write to file\n",
    "        pickle.dump(nb, clf)"
   ]
  },
  {
   "cell_type": "code",
   "execution_count": 36,
   "metadata": {
    "scrolled": false
   },
   "outputs": [
    {
     "data": {
      "text/html": [
       "<div>\n",
       "<style scoped>\n",
       "    .dataframe tbody tr th:only-of-type {\n",
       "        vertical-align: middle;\n",
       "    }\n",
       "\n",
       "    .dataframe tbody tr th {\n",
       "        vertical-align: top;\n",
       "    }\n",
       "\n",
       "    .dataframe thead th {\n",
       "        text-align: right;\n",
       "    }\n",
       "</style>\n",
       "<table border=\"1\" class=\"dataframe\">\n",
       "  <thead>\n",
       "    <tr style=\"text-align: right;\">\n",
       "      <th></th>\n",
       "    </tr>\n",
       "  </thead>\n",
       "  <tbody>\n",
       "  </tbody>\n",
       "</table>\n",
       "</div>"
      ],
      "text/plain": [
       "Empty DataFrame\n",
       "Columns: []\n",
       "Index: []"
      ]
     },
     "execution_count": 36,
     "metadata": {},
     "output_type": "execute_result"
    }
   ],
   "source": [
    "## Create and save models for level 3\n",
    "# define name of level column and model directory\n",
    "level = \"Level_3\"\n",
    "# path to level dir\n",
    "level3Dir = Path(level)\n",
    "# create level directory if it doesn't exist \n",
    "level3Dir.mkdir(exist_ok=True)\n",
    "\n",
    "# join X and Y dataframes\n",
    "xy_train = pd.concat([X_train, y_train], axis=1) \n",
    "\n",
    "def trainModel(productClassRows):\n",
    "    # define model name by concatenating Level_1 and Level_2 labels\n",
    "    model_name = productClassRows[\"Level_1\"].iloc[0]+productClassRows[\"Level_2\"].iloc[0]\n",
    "    # select all columns which contain the according TF-IDF data (=X_train) as x\n",
    "    x = productClassRows.iloc[:,:-3]\n",
    "    # use Level_3 column as y\n",
    "    y = productClassRows[\"Level_3\"]\n",
    "    # model to train\n",
    "    nb = GaussianNB()\n",
    "    # train model with training data\n",
    "    nb.fit(x, y)\n",
    "    # build path to model file and open it\n",
    "    # name of model file is Level_1 and Level_2 labels concatenated\n",
    "    with open(level3Dir.joinpath(model_name).with_suffix('.pk'), \"wb\") as clf:\n",
    "        # serialize model and write to file\n",
    "        pickle.dump(nb, clf)\n",
    "\n",
    "# group by Level_1 and Level_2 and create and train a model for each group \n",
    "xy_train.groupby([\"Level_1\", \"Level_2\"]).apply(lambda x: trainModel(x))    "
   ]
  },
  {
   "cell_type": "markdown",
   "metadata": {},
   "source": [
    "## Predict the test set (8 marks)"
   ]
  },
  {
   "cell_type": "code",
   "execution_count": 37,
   "metadata": {},
   "outputs": [],
   "source": [
    "#\n",
    "\n",
    "def predict(tfidf_data):\n",
    "    # reshape Series containing TF-IDF data to ndarray as required by GaussianNB.predict()\n",
    "    reshapedData = tfidf_data.values.reshape(1, -1)\n",
    "    # load Level_1 model\n",
    "    level1Model = load_model(level1Dir.joinpath(level1File).with_suffix('.pk'))\n",
    "    # predict Level_1 product class\n",
    "    level1 = level1Model.predict(reshapedData)[0]\n",
    "    # load Level_2 model based on the Level_1 prediction\n",
    "    level2Model = load_model(level2Dir.joinpath(level1).with_suffix('.pk'))\n",
    "    # predict Level_1 product class\n",
    "    level2 = level2Model.predict(reshapedData)[0]\n",
    "    # load Level_3 model based on the Level_2 prediction\n",
    "    level3Model = load_model(level3Dir.joinpath(level1+level2).with_suffix('.pk'))\n",
    "    # predict Level_3 product class\n",
    "    level3 = level3Model.predict(reshapedData)[0]\n",
    "    # return Series containing the prediction for each level\n",
    "    return pd.Series([level1, level2, level3])\n",
    "\n",
    "\n",
    "## Here we reload the saved models and use them to predict the levels\n",
    "# load model from path\n",
    "def load_model(path):\n",
    "    # open file for reading\n",
    "    with open(path, 'rb') as clf:\n",
    "        # deserialize model\n",
    "        model = pickle.load(clf)\n",
    "    return model\n",
    "\n",
    "\n",
    "## loop through the test data, predict level 1, then based on that predict level 2\n",
    "## and based on level 2 predict level 3 (you need to load saved models accordingly)\n",
    "# create prediction for each row of the test data\n",
    "results = X_test.apply(lambda r: predict(r), axis=1)"
   ]
  },
  {
   "cell_type": "code",
   "execution_count": 38,
   "metadata": {},
   "outputs": [
    {
     "data": {
      "text/html": [
       "<div>\n",
       "<style scoped>\n",
       "    .dataframe tbody tr th:only-of-type {\n",
       "        vertical-align: middle;\n",
       "    }\n",
       "\n",
       "    .dataframe tbody tr th {\n",
       "        vertical-align: top;\n",
       "    }\n",
       "\n",
       "    .dataframe thead th {\n",
       "        text-align: right;\n",
       "    }\n",
       "</style>\n",
       "<table border=\"1\" class=\"dataframe\">\n",
       "  <thead>\n",
       "    <tr style=\"text-align: right;\">\n",
       "      <th></th>\n",
       "      <th>Level_1_Pred</th>\n",
       "      <th>Level_2_Pred</th>\n",
       "      <th>Level_3_Pred</th>\n",
       "      <th>Level_1_Actual</th>\n",
       "      <th>Level_2_Actual</th>\n",
       "      <th>Level_3_Actual</th>\n",
       "    </tr>\n",
       "  </thead>\n",
       "  <tbody>\n",
       "    <tr>\n",
       "      <th>0</th>\n",
       "      <td>3E1E0D78</td>\n",
       "      <td>E6162</td>\n",
       "      <td>2E14</td>\n",
       "      <td>D410C91A</td>\n",
       "      <td>ACD06</td>\n",
       "      <td>9203</td>\n",
       "    </tr>\n",
       "    <tr>\n",
       "      <th>1</th>\n",
       "      <td>09BF5150</td>\n",
       "      <td>915D4</td>\n",
       "      <td>A2FA</td>\n",
       "      <td>09BF5150</td>\n",
       "      <td>915D4</td>\n",
       "      <td>A2FA</td>\n",
       "    </tr>\n",
       "    <tr>\n",
       "      <th>2</th>\n",
       "      <td>2CEC27F1</td>\n",
       "      <td>BAE8A</td>\n",
       "      <td>CCEE</td>\n",
       "      <td>2CEC27F1</td>\n",
       "      <td>BAE8A</td>\n",
       "      <td>2ABA</td>\n",
       "    </tr>\n",
       "    <tr>\n",
       "      <th>3</th>\n",
       "      <td>57164AC1</td>\n",
       "      <td>94728</td>\n",
       "      <td>5912</td>\n",
       "      <td>57164AC1</td>\n",
       "      <td>94728</td>\n",
       "      <td>BB6B</td>\n",
       "    </tr>\n",
       "    <tr>\n",
       "      <th>4</th>\n",
       "      <td>57164AC1</td>\n",
       "      <td>94728</td>\n",
       "      <td>5912</td>\n",
       "      <td>57164AC1</td>\n",
       "      <td>94728</td>\n",
       "      <td>5912</td>\n",
       "    </tr>\n",
       "    <tr>\n",
       "      <th>...</th>\n",
       "      <td>...</td>\n",
       "      <td>...</td>\n",
       "      <td>...</td>\n",
       "      <td>...</td>\n",
       "      <td>...</td>\n",
       "      <td>...</td>\n",
       "    </tr>\n",
       "    <tr>\n",
       "      <th>3502</th>\n",
       "      <td>90A8B052</td>\n",
       "      <td>C719A</td>\n",
       "      <td>F45B</td>\n",
       "      <td>69286F45</td>\n",
       "      <td>2D5A3</td>\n",
       "      <td>1058</td>\n",
       "    </tr>\n",
       "    <tr>\n",
       "      <th>3503</th>\n",
       "      <td>014303D1</td>\n",
       "      <td>7AED7</td>\n",
       "      <td>BBA5</td>\n",
       "      <td>014303D1</td>\n",
       "      <td>7AED7</td>\n",
       "      <td>6539</td>\n",
       "    </tr>\n",
       "    <tr>\n",
       "      <th>3504</th>\n",
       "      <td>35E04739</td>\n",
       "      <td>B2DB4</td>\n",
       "      <td>D436</td>\n",
       "      <td>35E04739</td>\n",
       "      <td>B2DB4</td>\n",
       "      <td>D436</td>\n",
       "    </tr>\n",
       "    <tr>\n",
       "      <th>3505</th>\n",
       "      <td>09BF5150</td>\n",
       "      <td>C7E19</td>\n",
       "      <td>D06E</td>\n",
       "      <td>09BF5150</td>\n",
       "      <td>C7E19</td>\n",
       "      <td>224F</td>\n",
       "    </tr>\n",
       "    <tr>\n",
       "      <th>3506</th>\n",
       "      <td>4513C920</td>\n",
       "      <td>31FED</td>\n",
       "      <td>215F</td>\n",
       "      <td>4513C920</td>\n",
       "      <td>31FED</td>\n",
       "      <td>3DD3</td>\n",
       "    </tr>\n",
       "  </tbody>\n",
       "</table>\n",
       "<p>3507 rows × 6 columns</p>\n",
       "</div>"
      ],
      "text/plain": [
       "     Level_1_Pred Level_2_Pred Level_3_Pred Level_1_Actual Level_2_Actual  \\\n",
       "0        3E1E0D78        E6162         2E14       D410C91A          ACD06   \n",
       "1        09BF5150        915D4         A2FA       09BF5150          915D4   \n",
       "2        2CEC27F1        BAE8A         CCEE       2CEC27F1          BAE8A   \n",
       "3        57164AC1        94728         5912       57164AC1          94728   \n",
       "4        57164AC1        94728         5912       57164AC1          94728   \n",
       "...           ...          ...          ...            ...            ...   \n",
       "3502     90A8B052        C719A         F45B       69286F45          2D5A3   \n",
       "3503     014303D1        7AED7         BBA5       014303D1          7AED7   \n",
       "3504     35E04739        B2DB4         D436       35E04739          B2DB4   \n",
       "3505     09BF5150        C7E19         D06E       09BF5150          C7E19   \n",
       "3506     4513C920        31FED         215F       4513C920          31FED   \n",
       "\n",
       "     Level_3_Actual  \n",
       "0              9203  \n",
       "1              A2FA  \n",
       "2              2ABA  \n",
       "3              BB6B  \n",
       "4              5912  \n",
       "...             ...  \n",
       "3502           1058  \n",
       "3503           6539  \n",
       "3504           D436  \n",
       "3505           224F  \n",
       "3506           3DD3  \n",
       "\n",
       "[3507 rows x 6 columns]"
      ]
     },
     "metadata": {},
     "output_type": "display_data"
    }
   ],
   "source": [
    "## After you add the predictions to the results dataframe\n",
    "## they should look like this\n",
    "results.columns = [\"Level_1_Pred\", \"Level_2_Pred\", \"Level_3_Pred\"]\n",
    "# Displaying the results df which contains the predicitons and displaying the y_test df which contains the actual labels\n",
    "y_test.columns = [\"Level_1_Actual\", \"Level_2_Actual\", \"Level_3_Actual\"]\n",
    "final_table = pd.concat([results, y_test], axis=1) \n",
    "display(final_table)"
   ]
  },
  {
   "cell_type": "markdown",
   "metadata": {},
   "source": [
    "## Compute Accuracy on each level (4 marks)\n",
    "Now you have the predictions for each level (in the test data), and you also have the actual levels, you can compute the accurcay"
   ]
  },
  {
   "cell_type": "code",
   "execution_count": 39,
   "metadata": {},
   "outputs": [
    {
     "name": "stdout",
     "output_type": "stream",
     "text": [
      "0.7385229540918163\n"
     ]
    }
   ],
   "source": [
    "# Level 1 accuracy\n",
    "# calculate accuracy from actual and predicted labels\n",
    "print(accuracy_score(y_test[\"Level_1_Actual\"], results[\"Level_1_Pred\"]))"
   ]
  },
  {
   "cell_type": "code",
   "execution_count": 40,
   "metadata": {},
   "outputs": [
    {
     "name": "stdout",
     "output_type": "stream",
     "text": [
      "0.6538351867693185\n"
     ]
    }
   ],
   "source": [
    "# Level 2 accuracy\n",
    "# calculate accuracy from actual and predicted labels\n",
    "print(accuracy_score(y_test[\"Level_2_Actual\"], results[\"Level_2_Pred\"]))"
   ]
  },
  {
   "cell_type": "code",
   "execution_count": 41,
   "metadata": {},
   "outputs": [
    {
     "name": "stdout",
     "output_type": "stream",
     "text": [
      "0.2600513259195894\n"
     ]
    }
   ],
   "source": [
    "# Level 3 accuracy\n",
    "# calculate accuracy from actual and predicted labels\n",
    "print(accuracy_score(y_test[\"Level_3_Actual\"], results[\"Level_3_Pred\"]))"
   ]
  }
 ],
 "metadata": {
  "kernelspec": {
   "display_name": "Python 3",
   "language": "python",
   "name": "python3"
  },
  "language_info": {
   "codemirror_mode": {
    "name": "ipython",
    "version": 3
   },
   "file_extension": ".py",
   "mimetype": "text/x-python",
   "name": "python",
   "nbconvert_exporter": "python",
   "pygments_lexer": "ipython3",
   "version": "3.8.8"
  }
 },
 "nbformat": 4,
 "nbformat_minor": 4
}
