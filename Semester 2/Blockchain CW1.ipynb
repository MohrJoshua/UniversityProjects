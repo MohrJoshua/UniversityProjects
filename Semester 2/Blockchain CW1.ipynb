{
 "cells": [
  {
   "cell_type": "code",
   "execution_count": 1,
   "id": "14de8076",
   "metadata": {},
   "outputs": [],
   "source": [
    "import math\n",
    "import pandas as pd"
   ]
  },
  {
   "cell_type": "code",
   "execution_count": 2,
   "id": "123d85db",
   "metadata": {},
   "outputs": [
    {
     "data": {
      "text/html": [
       "<div>\n",
       "<style scoped>\n",
       "    .dataframe tbody tr th:only-of-type {\n",
       "        vertical-align: middle;\n",
       "    }\n",
       "\n",
       "    .dataframe tbody tr th {\n",
       "        vertical-align: top;\n",
       "    }\n",
       "\n",
       "    .dataframe thead th {\n",
       "        text-align: right;\n",
       "    }\n",
       "</style>\n",
       "<table border=\"1\" class=\"dataframe\">\n",
       "  <thead>\n",
       "    <tr style=\"text-align: right;\">\n",
       "      <th></th>\n",
       "      <th>Program</th>\n",
       "      <th>Essay</th>\n",
       "      <th>Tick one box below</th>\n",
       "    </tr>\n",
       "  </thead>\n",
       "  <tbody>\n",
       "    <tr>\n",
       "      <th>0</th>\n",
       "      <td>70</td>\n",
       "      <td>30</td>\n",
       "      <td>x</td>\n",
       "    </tr>\n",
       "    <tr>\n",
       "      <th>1</th>\n",
       "      <td>50</td>\n",
       "      <td>50</td>\n",
       "      <td></td>\n",
       "    </tr>\n",
       "    <tr>\n",
       "      <th>2</th>\n",
       "      <td>30</td>\n",
       "      <td>70</td>\n",
       "      <td></td>\n",
       "    </tr>\n",
       "  </tbody>\n",
       "</table>\n",
       "</div>"
      ],
      "text/plain": [
       "   Program  Essay Tick one box below\n",
       "0       70     30                  x\n",
       "1       50     50                   \n",
       "2       30     70                   "
      ]
     },
     "metadata": {},
     "output_type": "display_data"
    }
   ],
   "source": [
    "table = pd.DataFrame({'Program':[70,50,30],\n",
    "                      'Essay':[30,50,70],\n",
    "                      'Tick one box below':['x','','']})\n",
    "display(table)"
   ]
  },
  {
   "cell_type": "markdown",
   "id": "05576c1f",
   "metadata": {},
   "source": [
    "# 1.Set-up before padding"
   ]
  },
  {
   "cell_type": "code",
   "execution_count": 3,
   "id": "85bd2a85",
   "metadata": {},
   "outputs": [
    {
     "name": "stdout",
     "output_type": "stream",
     "text": [
      "[97, 98, 99]\n"
     ]
    }
   ],
   "source": [
    "# define the message\n",
    "msg = \"abc\"\n",
    "\n",
    "# translate the text message into an array of msg's character ascii codes\n",
    "msg = [ord(c) for c in msg]\n",
    "\n",
    "# saving this state of the message for later showcase\n",
    "msg2 = msg\n",
    "print(msg)"
   ]
  },
  {
   "cell_type": "code",
   "execution_count": 4,
   "id": "65fdecd9",
   "metadata": {},
   "outputs": [],
   "source": [
    "# define constants like block_size and the given S\n",
    "block_size = 16\n",
    "S = [41, 46, 67, 201, 162, 216, 124, 1, 61, 54, 84, 161, 236, 240, 6, 19,98, 167, 5, 243, 192, 199, 115, 140, 152, 147, 43, 217, 188, 76, 130, 202,30, 155, 87, 60, 253, 212, 224, 22, 103, 66, 111, 24, 138, 23, 229, 18,190, 78, 196, 214, 218, 158, 222, 73, 160, 251, 245, 142, 187, 47, 238, 122,169, 104, 121, 145, 21, 178, 7, 63, 148, 194, 16, 137, 11, 34, 95, 33,128, 127, 93, 154, 90, 144, 50, 39, 53, 62, 204, 231, 191, 247, 151, 3,255, 25, 48, 179, 72, 165, 181, 209, 215, 94, 146, 42, 172, 86, 170, 198,79, 184, 56, 210, 150, 164, 125, 182, 118, 252, 107, 226, 156, 116, 4, 241,69, 157, 112, 89, 100, 113, 135, 32, 134, 91, 207, 101, 230, 45, 168, 2,27, 96, 37, 173, 174, 176, 185, 246, 28, 70, 97, 105, 52, 64, 126, 15,85, 71, 163, 35, 221, 81, 175, 58, 195, 92, 249, 206, 186, 197, 234, 38,44, 83, 13, 110, 133, 40, 132, 9, 211, 223, 205, 244, 65, 129, 77, 82,106, 220, 55, 200, 108, 193, 171, 250, 36, 225, 123, 8, 12, 189, 177, 74,120, 136, 149, 139, 227, 99, 232, 109, 233, 203, 213, 254, 59, 0, 29, 57,242, 239, 183, 14, 102, 88, 208, 228, 166, 119, 114, 248, 235, 117, 75, 10,49, 68, 80, 180, 143, 237, 31, 26, 219, 153, 141, 51, 159, 17, 131, 20]"
   ]
  },
  {
   "cell_type": "markdown",
   "id": "1f8b1d2d",
   "metadata": {},
   "source": [
    "# 2.Padding"
   ]
  },
  {
   "cell_type": "code",
   "execution_count": 5,
   "id": "e9793b8f",
   "metadata": {},
   "outputs": [
    {
     "name": "stdout",
     "output_type": "stream",
     "text": [
      "[97, 98, 99, 13, 13, 13, 13, 13, 13, 13, 13, 13, 13, 13, 13, 13]\n"
     ]
    }
   ],
   "source": [
    "# calculating the missing bytes of the last block \n",
    "missing_bytes = block_size - len(msg) % block_size\n",
    "\n",
    "# creating array of how many bytes are missing with the number of missing bytes as a array\n",
    "padding = missing_bytes * [missing_bytes]\n",
    "\n",
    "# adding the padded bytes to the msg\n",
    "msg = msg + padding\n",
    "\n",
    "# saving this state of the message for later showcase\n",
    "msg3=msg\n",
    "\n",
    "#calculating the number of blocks\n",
    "blocks_number = math.ceil(len(msg) / block_size)\n",
    "\n",
    "print(msg)"
   ]
  },
  {
   "cell_type": "markdown",
   "id": "0f1183ca",
   "metadata": {},
   "source": [
    "# 3.AppendSum"
   ]
  },
  {
   "cell_type": "code",
   "execution_count": 6,
   "id": "c7e2fb6e",
   "metadata": {},
   "outputs": [
    {
     "name": "stdout",
     "output_type": "stream",
     "text": [
      "[97, 98, 99, 13, 13, 13, 13, 13, 13, 13, 13, 13, 13, 13, 13, 13, 25, 226, 157, 27, 115, 4, 54, 142, 89, 90, 39, 111, 48, 47, 87, 204]\n"
     ]
    }
   ],
   "source": [
    "checksum = 16 * [0]\n",
    "l = 0\n",
    "\n",
    "for i in range(blocks_number):\n",
    "    for j in range(block_size):\n",
    "        l = S[(msg[i*block_size+j] ^ l)] ^ checksum[j]\n",
    "        checksum[j] = l\n",
    "        \n",
    "# add the checksum to the processed message\n",
    "msg = msg + checksum\n",
    "\n",
    "# saving this state of the message for later showcase\n",
    "msg4=msg\n",
    "blocks_number += 1\n",
    "\n",
    "print(msg)"
   ]
  },
  {
   "cell_type": "markdown",
   "id": "7ddf2f7f",
   "metadata": {},
   "source": [
    "# 4.Processing to output"
   ]
  },
  {
   "cell_type": "code",
   "execution_count": 7,
   "id": "cf520b80",
   "metadata": {},
   "outputs": [
    {
     "name": "stdout",
     "output_type": "stream",
     "text": [
      "[97, 98, 99, 13, 13, 13, 13, 13, 13, 13, 13, 13, 13, 13, 13, 13, 25, 226, 157, 27, 115, 4, 54, 142, 89, 90, 39, 111, 48, 47, 87, 204]\n"
     ]
    }
   ],
   "source": [
    "# Initialize MD Buffer\n",
    "md_digest = 48 * [0]\n",
    "print(msg)"
   ]
  },
  {
   "cell_type": "code",
   "execution_count": 8,
   "id": "877889e6",
   "metadata": {},
   "outputs": [],
   "source": [
    "# Process Message in 16-Byte blocks\n",
    "for i in range(blocks_number):\n",
    "    for j in range(block_size):\n",
    "        md_digest[block_size+j] = msg[i*block_size+j]\n",
    "        md_digest[2*block_size+j] = (md_digest[block_size+j] ^ md_digest[j])\n",
    "    \n",
    "    checktmp = 0\n",
    "    for j in range(18):\n",
    "        for k in range(48):\n",
    "            checktmp = md_digest[k] ^ S[checktmp]\n",
    "            md_digest[k] = checktmp\n",
    "        checktmp = (checktmp + j) % 256"
   ]
  },
  {
   "cell_type": "code",
   "execution_count": 9,
   "id": "16e2eebd",
   "metadata": {},
   "outputs": [
    {
     "name": "stdout",
     "output_type": "stream",
     "text": [
      "da853b0d3f88d99b30283a69e6ded6bb\n"
     ]
    }
   ],
   "source": [
    "# Finalizing the output via a lambda function\n",
    "final_hash=(\"\".join(map(lambda x: hex(x)[2:].zfill(2), md_digest[0:16])))\n",
    "print(final_hash)"
   ]
  },
  {
   "cell_type": "markdown",
   "id": "e8964616",
   "metadata": {},
   "source": [
    "# Results"
   ]
  },
  {
   "cell_type": "code",
   "execution_count": 10,
   "id": "9137e511",
   "metadata": {},
   "outputs": [
    {
     "data": {
      "text/html": [
       "<div>\n",
       "<style scoped>\n",
       "    .dataframe tbody tr th:only-of-type {\n",
       "        vertical-align: middle;\n",
       "    }\n",
       "\n",
       "    .dataframe tbody tr th {\n",
       "        vertical-align: top;\n",
       "    }\n",
       "\n",
       "    .dataframe thead th {\n",
       "        text-align: right;\n",
       "    }\n",
       "</style>\n",
       "<table border=\"1\" class=\"dataframe\">\n",
       "  <thead>\n",
       "    <tr style=\"text-align: right;\">\n",
       "      <th></th>\n",
       "      <th>0</th>\n",
       "    </tr>\n",
       "  </thead>\n",
       "  <tbody>\n",
       "    <tr>\n",
       "      <th>Message before padding</th>\n",
       "      <td>[97, 98, 99]</td>\n",
       "    </tr>\n",
       "    <tr>\n",
       "      <th>Message after padding</th>\n",
       "      <td>[97, 98, 99, 13, 13, 13, 13, 13, 13, 13, 13, 1...</td>\n",
       "    </tr>\n",
       "    <tr>\n",
       "      <th>Message after checksum</th>\n",
       "      <td>[97, 98, 99, 13, 13, 13, 13, 13, 13, 13, 13, 1...</td>\n",
       "    </tr>\n",
       "    <tr>\n",
       "      <th>Final hash after processing</th>\n",
       "      <td>da853b0d3f88d99b30283a69e6ded6bb</td>\n",
       "    </tr>\n",
       "  </tbody>\n",
       "</table>\n",
       "</div>"
      ],
      "text/plain": [
       "                                                                             0\n",
       "Message before padding                                            [97, 98, 99]\n",
       "Message after padding        [97, 98, 99, 13, 13, 13, 13, 13, 13, 13, 13, 1...\n",
       "Message after checksum       [97, 98, 99, 13, 13, 13, 13, 13, 13, 13, 13, 1...\n",
       "Final hash after processing                   da853b0d3f88d99b30283a69e6ded6bb"
      ]
     },
     "metadata": {},
     "output_type": "display_data"
    }
   ],
   "source": [
    "# creating df with results and transposing it for better readability\n",
    "result_table = pd.DataFrame({'Message before padding':[msg2],'Message after padding':[msg3],'Message after checksum':[msg4],'Final hash after processing':[final_hash]})\n",
    "\n",
    "result_table=result_table.transpose()\n",
    "\n",
    "display(result_table)"
   ]
  },
  {
   "cell_type": "code",
   "execution_count": 11,
   "id": "c1868e9d",
   "metadata": {},
   "outputs": [
    {
     "name": "stdout",
     "output_type": "stream",
     "text": [
      "Message before padding: [97, 98, 99]\n",
      "Message after padding: [97, 98, 99, 13, 13, 13, 13, 13, 13, 13, 13, 13, 13, 13, 13, 13]\n",
      "Message after checksum: [97, 98, 99, 13, 13, 13, 13, 13, 13, 13, 13, 13, 13, 13, 13, 13, 25, 226, 157, 27, 115, 4, 54, 142, 89, 90, 39, 111, 48, 47, 87, 204]\n",
      "Final hash after processing: da853b0d3f88d99b30283a69e6ded6bb\n"
     ]
    }
   ],
   "source": [
    "# printing the seperate results of each stage for better visibility/readability\n",
    "print('Message before padding: '+str(msg2))\n",
    "print('Message after padding: '+str(msg3))\n",
    "print('Message after checksum: '+str(msg4))\n",
    "print('Final hash after processing: '+str(final_hash))"
   ]
  },
  {
   "cell_type": "markdown",
   "id": "f80cd098",
   "metadata": {},
   "source": [
    "# Function and table for test results"
   ]
  },
  {
   "cell_type": "code",
   "execution_count": 12,
   "id": "5e33379c",
   "metadata": {},
   "outputs": [],
   "source": [
    "# function for m2d algorithm, with the same cells from above, just in one function\n",
    "def m2d(msg):\n",
    "    msg = [ord(c) for c in msg]\n",
    "\n",
    "    block_size = 16\n",
    "    # substitution table algorithm-specific: decimals of PI \n",
    "    S = [41, 46, 67, 201, 162, 216, 124, 1, 61, 54, 84, 161, 236, 240, 6, 19,98, 167, 5, 243, 192, 199, 115, 140, 152, 147, 43, 217, 188, 76, 130, 202,30, 155, 87, 60, 253, 212, 224, 22, 103, 66, 111, 24, 138, 23, 229, 18,190, 78, 196, 214, 218, 158, 222, 73, 160, 251, 245, 142, 187, 47, 238, 122,169, 104, 121, 145, 21, 178, 7, 63, 148, 194, 16, 137, 11, 34, 95, 33,128, 127, 93, 154, 90, 144, 50, 39, 53, 62, 204, 231, 191, 247, 151, 3,255, 25, 48, 179, 72, 165, 181, 209, 215, 94, 146, 42, 172, 86, 170, 198,79, 184, 56, 210, 150, 164, 125, 182, 118, 252, 107, 226, 156, 116, 4, 241,69, 157, 112, 89, 100, 113, 135, 32, 134, 91, 207, 101, 230, 45, 168, 2,27, 96, 37, 173, 174, 176, 185, 246, 28, 70, 97, 105, 52, 64, 126, 15,85, 71, 163, 35, 221, 81, 175, 58, 195, 92, 249, 206, 186, 197, 234, 38,44, 83, 13, 110, 133, 40, 132, 9, 211, 223, 205, 244, 65, 129, 77, 82,106, 220, 55, 200, 108, 193, 171, 250, 36, 225, 123, 8, 12, 189, 177, 74,120, 136, 149, 139, 227, 99, 232, 109, 233, 203, 213, 254, 59, 0, 29, 57,242, 239, 183, 14, 102, 88, 208, 228, 166, 119, 114, 248, 235, 117, 75, 10,49, 68, 80, 180, 143, 237, 31, 26, 219, 153, 141, 51, 159, 17, 131, 20]\n",
    "\n",
    "    # calculating the missing bytes of the last block \n",
    "    missing_bytes = block_size - len(msg) % block_size\n",
    "\n",
    "    # creating array of how many bytes are missing with the number of missing bytes as a array\n",
    "    padding = missing_bytes * [missing_bytes]\n",
    "\n",
    "    # adding the padded bytes to the msg\n",
    "    msg = msg + padding\n",
    "    \n",
    "    #calculating the number of blocks\n",
    "    blocks_number = math.ceil(len(msg) / block_size)\n",
    "\n",
    "    \n",
    "    # Append Checksum\n",
    "    checksum = 16 * [0]\n",
    "    l = 0\n",
    "\n",
    "    for i in range(blocks_number):\n",
    "        for j in range(block_size):\n",
    "            l = S[(msg[i*block_size+j] ^ l)] ^ checksum[j]\n",
    "            checksum[j] = l\n",
    "\n",
    "    # add the checksum to the processed message\n",
    "    msg = msg + checksum\n",
    "    blocks_number += 1\n",
    "    \n",
    "    # Initialize MD Buffer\n",
    "    md_digest = 48 * [0]\n",
    "    \n",
    "    # Process Message in 16-Byte Blocks\n",
    "    for i in range(blocks_number):\n",
    "        for j in range(block_size):\n",
    "            md_digest[block_size+j] = msg[i*block_size+j]\n",
    "            md_digest[2*block_size+j] = (md_digest[block_size+j] ^ md_digest[j])\n",
    "\n",
    "        checktmp = 0\n",
    "        for j in range(18):\n",
    "            for k in range(48):\n",
    "                checktmp = md_digest[k] ^ S[checktmp]\n",
    "                md_digest[k] = checktmp\n",
    "            checktmp = (checktmp + j) % 256\n",
    "            \n",
    "    # Output\n",
    "    final_hash=(\"\".join(map(lambda x: hex(x)[2:].zfill(2), md_digest[0:16])))\n",
    "    return final_hash"
   ]
  },
  {
   "cell_type": "code",
   "execution_count": 13,
   "id": "39f4ea24",
   "metadata": {},
   "outputs": [],
   "source": [
    "# creating table/df\n",
    "df = pd.DataFrame({'input':['', 'a','abc','message digest','abcdefghijklmnopqrstuvwxyz',\n",
    "                            'ABCDEFGHIJKLMNOPQRSTUVWXYZabcdefghijklmnopqrstuvwxyz0123456789',\n",
    "                            '12345678901234567890123456789012345678901234567890123456789012345678901234567890'],\n",
    "                  'test suite':['8350e5a3e24c153df2275c9f80692773','32ec01ec4a6dac72c0ab96fb34c0b5d1','da853b0d3f88d99b30283a69e6ded6bb',\n",
    "                                'ab4f496bfb2a530b219ff33031fe06b0','4e8ddff3650292ab5a4108c3aa47940b',\n",
    "                                'da33def2a42df13975352846c30338cd','d5976f79d83d3a0dc9806c3c66f3efd8']})"
   ]
  },
  {
   "cell_type": "code",
   "execution_count": 14,
   "id": "fdcf1528",
   "metadata": {},
   "outputs": [
    {
     "name": "stdout",
     "output_type": "stream",
     "text": [
      "True\n"
     ]
    }
   ],
   "source": [
    "# applying the m2d function to the whole input columns\n",
    "df['output'] = df['input'].apply(m2d)\n",
    "\n",
    "# printing wether the test suite columns is identical to the ouput columns\n",
    "print(df['test suite'].equals(df['output']))"
   ]
  },
  {
   "cell_type": "code",
   "execution_count": 15,
   "id": "16db090a",
   "metadata": {},
   "outputs": [
    {
     "data": {
      "text/html": [
       "<div>\n",
       "<style scoped>\n",
       "    .dataframe tbody tr th:only-of-type {\n",
       "        vertical-align: middle;\n",
       "    }\n",
       "\n",
       "    .dataframe tbody tr th {\n",
       "        vertical-align: top;\n",
       "    }\n",
       "\n",
       "    .dataframe thead th {\n",
       "        text-align: right;\n",
       "    }\n",
       "</style>\n",
       "<table border=\"1\" class=\"dataframe\">\n",
       "  <thead>\n",
       "    <tr style=\"text-align: right;\">\n",
       "      <th></th>\n",
       "      <th>input</th>\n",
       "      <th>test suite</th>\n",
       "      <th>output</th>\n",
       "    </tr>\n",
       "  </thead>\n",
       "  <tbody>\n",
       "    <tr>\n",
       "      <th>0</th>\n",
       "      <td></td>\n",
       "      <td>8350e5a3e24c153df2275c9f80692773</td>\n",
       "      <td>8350e5a3e24c153df2275c9f80692773</td>\n",
       "    </tr>\n",
       "    <tr>\n",
       "      <th>1</th>\n",
       "      <td>a</td>\n",
       "      <td>32ec01ec4a6dac72c0ab96fb34c0b5d1</td>\n",
       "      <td>32ec01ec4a6dac72c0ab96fb34c0b5d1</td>\n",
       "    </tr>\n",
       "    <tr>\n",
       "      <th>2</th>\n",
       "      <td>abc</td>\n",
       "      <td>da853b0d3f88d99b30283a69e6ded6bb</td>\n",
       "      <td>da853b0d3f88d99b30283a69e6ded6bb</td>\n",
       "    </tr>\n",
       "    <tr>\n",
       "      <th>3</th>\n",
       "      <td>message digest</td>\n",
       "      <td>ab4f496bfb2a530b219ff33031fe06b0</td>\n",
       "      <td>ab4f496bfb2a530b219ff33031fe06b0</td>\n",
       "    </tr>\n",
       "    <tr>\n",
       "      <th>4</th>\n",
       "      <td>abcdefghijklmnopqrstuvwxyz</td>\n",
       "      <td>4e8ddff3650292ab5a4108c3aa47940b</td>\n",
       "      <td>4e8ddff3650292ab5a4108c3aa47940b</td>\n",
       "    </tr>\n",
       "    <tr>\n",
       "      <th>5</th>\n",
       "      <td>ABCDEFGHIJKLMNOPQRSTUVWXYZabcdefghijklmnopqrst...</td>\n",
       "      <td>da33def2a42df13975352846c30338cd</td>\n",
       "      <td>da33def2a42df13975352846c30338cd</td>\n",
       "    </tr>\n",
       "    <tr>\n",
       "      <th>6</th>\n",
       "      <td>1234567890123456789012345678901234567890123456...</td>\n",
       "      <td>d5976f79d83d3a0dc9806c3c66f3efd8</td>\n",
       "      <td>d5976f79d83d3a0dc9806c3c66f3efd8</td>\n",
       "    </tr>\n",
       "  </tbody>\n",
       "</table>\n",
       "</div>"
      ],
      "text/plain": [
       "                                               input  \\\n",
       "0                                                      \n",
       "1                                                  a   \n",
       "2                                                abc   \n",
       "3                                     message digest   \n",
       "4                         abcdefghijklmnopqrstuvwxyz   \n",
       "5  ABCDEFGHIJKLMNOPQRSTUVWXYZabcdefghijklmnopqrst...   \n",
       "6  1234567890123456789012345678901234567890123456...   \n",
       "\n",
       "                         test suite                            output  \n",
       "0  8350e5a3e24c153df2275c9f80692773  8350e5a3e24c153df2275c9f80692773  \n",
       "1  32ec01ec4a6dac72c0ab96fb34c0b5d1  32ec01ec4a6dac72c0ab96fb34c0b5d1  \n",
       "2  da853b0d3f88d99b30283a69e6ded6bb  da853b0d3f88d99b30283a69e6ded6bb  \n",
       "3  ab4f496bfb2a530b219ff33031fe06b0  ab4f496bfb2a530b219ff33031fe06b0  \n",
       "4  4e8ddff3650292ab5a4108c3aa47940b  4e8ddff3650292ab5a4108c3aa47940b  \n",
       "5  da33def2a42df13975352846c30338cd  da33def2a42df13975352846c30338cd  \n",
       "6  d5976f79d83d3a0dc9806c3c66f3efd8  d5976f79d83d3a0dc9806c3c66f3efd8  "
      ]
     },
     "metadata": {},
     "output_type": "display_data"
    }
   ],
   "source": [
    "display(df)"
   ]
  }
 ],
 "metadata": {
  "kernelspec": {
   "display_name": "Python 3 (ipykernel)",
   "language": "python",
   "name": "python3"
  },
  "language_info": {
   "codemirror_mode": {
    "name": "ipython",
    "version": 3
   },
   "file_extension": ".py",
   "mimetype": "text/x-python",
   "name": "python",
   "nbconvert_exporter": "python",
   "pygments_lexer": "ipython3",
   "version": "3.9.7"
  }
 },
 "nbformat": 4,
 "nbformat_minor": 5
}
