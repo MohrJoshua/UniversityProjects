{
 "cells": [
  {
   "cell_type": "code",
   "execution_count": 1,
   "id": "e6c90a1d",
   "metadata": {},
   "outputs": [],
   "source": [
    "# imports\n",
    "import hashlib\n",
    "import pandas as pd\n",
    "from cryptography.hazmat.primitives import hashes\n",
    "import sys\n",
    "import time\n",
    "from cryptography.hazmat.primitives import serialization\n",
    "#import struct\n",
    "from cryptography.hazmat.primitives import serialization\n",
    "from cryptography.hazmat.primitives.serialization import load_der_private_key\n",
    "from cryptography.hazmat.primitives.serialization import load_der_public_key\n",
    "from cryptography.hazmat.primitives.asymmetric import utils, ec\n",
    "from cryptography.hazmat.backends import default_backend\n",
    "from cryptography.hazmat.primitives.serialization import Encoding\n",
    "from cryptography.hazmat.primitives.serialization import PublicFormat\n",
    "from cryptography.hazmat.primitives import hashes"
   ]
  },
  {
   "cell_type": "code",
   "execution_count": 2,
   "id": "e2175a5a",
   "metadata": {},
   "outputs": [
    {
     "data": {
      "text/html": [
       "<div>\n",
       "<style scoped>\n",
       "    .dataframe tbody tr th:only-of-type {\n",
       "        vertical-align: middle;\n",
       "    }\n",
       "\n",
       "    .dataframe tbody tr th {\n",
       "        vertical-align: top;\n",
       "    }\n",
       "\n",
       "    .dataframe thead th {\n",
       "        text-align: right;\n",
       "    }\n",
       "</style>\n",
       "<table border=\"1\" class=\"dataframe\">\n",
       "  <thead>\n",
       "    <tr style=\"text-align: right;\">\n",
       "      <th></th>\n",
       "      <th>Program</th>\n",
       "      <th>Essay</th>\n",
       "      <th>Tick one box below</th>\n",
       "    </tr>\n",
       "  </thead>\n",
       "  <tbody>\n",
       "    <tr>\n",
       "      <th>0</th>\n",
       "      <td>70</td>\n",
       "      <td>30</td>\n",
       "      <td>x</td>\n",
       "    </tr>\n",
       "    <tr>\n",
       "      <th>1</th>\n",
       "      <td>50</td>\n",
       "      <td>50</td>\n",
       "      <td></td>\n",
       "    </tr>\n",
       "    <tr>\n",
       "      <th>2</th>\n",
       "      <td>30</td>\n",
       "      <td>70</td>\n",
       "      <td></td>\n",
       "    </tr>\n",
       "  </tbody>\n",
       "</table>\n",
       "</div>"
      ],
      "text/plain": [
       "   Program  Essay Tick one box below\n",
       "0       70     30                  x\n",
       "1       50     50                   \n",
       "2       30     70                   "
      ]
     },
     "metadata": {},
     "output_type": "display_data"
    }
   ],
   "source": [
    "# table for program and essay weighting\n",
    "table = pd.DataFrame({'Program':[70,50,30],\n",
    "                      'Essay':[30,50,70],\n",
    "                      'Tick one box below':['x','','']})\n",
    "display(table)"
   ]
  },
  {
   "cell_type": "code",
   "execution_count": 3,
   "id": "12df99b3",
   "metadata": {},
   "outputs": [],
   "source": [
    "# transaction class with parameters\n",
    "class Transaction:\n",
    "    def __init__(self, sender_hash, recipient_hash, sender_public_key, amount, fee, nonce, signature, txid):            \n",
    "        self.sender_hash = sender_hash\n",
    "        self.recipient_hash = recipient_hash\n",
    "        # if public key is in bytes,like in the last testing exercise, it will be deserialized\n",
    "        if isinstance(sender_public_key, bytes):\n",
    "            self.sender_public_key = load_der_public_key(sender_public_key)\n",
    "        else:\n",
    "            self.sender_public_key = sender_public_key\n",
    "        self.amount = amount\n",
    "        self.fee = fee\n",
    "        self.nonce = nonce\n",
    "        self.signature = signature\n",
    "        self.txid = txid\n",
    "        \n",
    "    def verify(self, sender_balance, sender_previous_nonce):\n",
    "        if not (len(self.sender_hash) == len(self.recipient_hash) == 20):\n",
    "            raise ValueError(\"Hash must be of size 20!\")\n",
    "        if not (self.sender_hash == calculate_sha1_hash(self.sender_public_key)):\n",
    "            raise ValueError(\"Sender hash does not match the sender's public key!\")\n",
    "        if not (1 <= self.amount <= sender_balance):\n",
    "            raise ValueError(\"Invalid amount!\")\n",
    "        if not (0 <= self.fee <= self.amount):\n",
    "            raise ValueError(\"Invalid fee!\")\n",
    "        if not (self.nonce == sender_previous_nonce + 1):\n",
    "            raise ValueError(\"Invalid nonce!\")\n",
    "        if not (self.txid == calculate_txid(\n",
    "                    self.sender_hash, \n",
    "                    self.recipient_hash, \n",
    "                    self.sender_public_key, \n",
    "                    self.amount, \n",
    "                    self.fee, \n",
    "                    self.nonce, \n",
    "                    self.signature)):\n",
    "            raise ValueError(\"Invalid transaction ID!\")\n",
    "        signature_hash = calculate_signature_hash(\n",
    "                    self.recipient_hash,\n",
    "                    self.amount,\n",
    "                    self.fee,\n",
    "                    self.nonce)\n",
    "        self.sender_public_key.verify(self.signature, signature_hash,\n",
    "                ec.ECDSA(utils.Prehashed(hashes.SHA256())))\n",
    "        \n",
    "        \n",
    "def calculate_sha1_hash(public_key):\n",
    "    digest = hashes.Hash(hashes.SHA1(),default_backend())\n",
    "    digest.update(encode_public_key(public_key))\n",
    "    return digest.finalize()\n",
    "\n",
    "\n",
    "def calculate_txid(sender_hash, recipient_hash, sender_public_key, amount, fee, nonce, signature):\n",
    "    m = hashes.Hash(hashes.SHA256(),default_backend())\n",
    "    m.update(sender_hash)\n",
    "    m.update(recipient_hash)\n",
    "    m.update(encode_public_key(sender_public_key))\n",
    "    m.update((amount).to_bytes(8, byteorder = 'little', signed = False))\n",
    "    m.update((fee).to_bytes(8, byteorder = 'little', signed = False))\n",
    "    m.update((nonce).to_bytes(8, byteorder = 'little', signed = False))\n",
    "    # initially used the struct library for little endian representation\n",
    "    #m.update(struct.pack(\"<Q\", amount))\n",
    "    #m.update(struct.pack(\"<Q\", fee))\n",
    "    #m.update(struct.pack(\"<Q\", nonce))\n",
    "    m.update(signature)\n",
    "    return m.finalize()  \n",
    "\n",
    "def calculate_signature_hash(recipient_hash, amount, fee, nonce):\n",
    "    m = hashes.Hash(hashes.SHA256(),default_backend())\n",
    "    m.update(recipient_hash)\n",
    "    m.update((amount).to_bytes(8, byteorder = 'little', signed = False))\n",
    "    m.update((fee).to_bytes(8, byteorder = 'little', signed = False))\n",
    "    m.update((nonce).to_bytes(8, byteorder = 'little', signed = False))\n",
    "    return m.finalize()\n",
    "\n",
    "def private_key_to_public_key(private_key):\n",
    "    public_key = private_key.public_key()\n",
    "    return public_key\n",
    "\n",
    "\n",
    "def encode_public_key(public_key):\n",
    "    return public_key.public_bytes(encoding=Encoding.DER,format=PublicFormat.SubjectPublicKeyInfo)\n",
    "\n",
    "\n",
    "def create_signed_transaction(sender_private_key, recipient_hash, amount, fee, nonce):\n",
    "    sender_public_key = private_key_to_public_key(sender_private_key)\n",
    "    sender_hash = calculate_sha1_hash(sender_public_key)\n",
    "    signature_hash = calculate_signature_hash(recipient_hash, amount, fee, nonce)\n",
    "    signature = sender_private_key.sign(signature_hash, ec.ECDSA(utils.Prehashed(hashes.SHA256())))\n",
    "    txid = calculate_txid(sender_hash, recipient_hash, sender_public_key, amount, fee, nonce, signature)\n",
    "    return Transaction(\n",
    "            sender_hash, \n",
    "            recipient_hash, \n",
    "            sender_public_key, \n",
    "            amount, \n",
    "            fee, \n",
    "            nonce, \n",
    "            signature, \n",
    "            txid)"
   ]
  },
  {
   "cell_type": "markdown",
   "id": "00070cdc",
   "metadata": {},
   "source": [
    "### Testing\n",
    "\n",
    "#### 1.Testcase\n",
    "Generate a private key using ec.generate_private_key(ec.SECP256K1) . Call\n",
    "create_signed_transaction to make a test transaction. Check that the\n",
    "transaction.verify call succeeds (when provided with a sender_balance which is\n",
    "sufficiently high and sender_previous_nonce = transaction.nonce - 1 )."
   ]
  },
  {
   "cell_type": "code",
   "execution_count": 4,
   "id": "474a02bc",
   "metadata": {},
   "outputs": [],
   "source": [
    "# testing\n",
    "\n",
    "# creating keys\n",
    "sender_private_key = ec.generate_private_key(ec.SECP256K1)\n",
    "recipient_private_key = ec.generate_private_key(ec.SECP256K1)\n",
    "recipient_public_key = private_key_to_public_key(recipient_private_key)\n",
    "recipient_hash = calculate_sha1_hash(recipient_public_key)"
   ]
  },
  {
   "cell_type": "code",
   "execution_count": 5,
   "id": "2b4cf08b",
   "metadata": {},
   "outputs": [],
   "source": [
    "# generate valid transaction\n",
    "transaction_testcase1 = create_signed_transaction(sender_private_key, recipient_hash, 4, 1, 2)"
   ]
  },
  {
   "cell_type": "code",
   "execution_count": 6,
   "id": "a34963b7",
   "metadata": {},
   "outputs": [],
   "source": [
    "transaction_testcase1.verify(100, 1)"
   ]
  },
  {
   "cell_type": "markdown",
   "id": "4406de8d",
   "metadata": {},
   "source": [
    "####  1.Testcase Sucess!\n",
    "\n",
    "\n",
    "#### 2.Testcase \n",
    "\n",
    "Generate a valid transaction, check that modifying any of the fields causes\n",
    "transaction.verify to raise an exception due to an invalid txid ."
   ]
  },
  {
   "cell_type": "code",
   "execution_count": 7,
   "id": "0c6fbdd1",
   "metadata": {},
   "outputs": [],
   "source": [
    "transaction_testcase2 = create_signed_transaction(sender_private_key, recipient_hash, 4, 1, 2)"
   ]
  },
  {
   "cell_type": "code",
   "execution_count": 8,
   "id": "fe3dab55",
   "metadata": {},
   "outputs": [],
   "source": [
    "# modifying any of the fields in this case fee\n",
    "transaction_testcase2.fee = 3"
   ]
  },
  {
   "cell_type": "code",
   "execution_count": 9,
   "id": "5a21dc0f",
   "metadata": {},
   "outputs": [
    {
     "ename": "ValueError",
     "evalue": "Invalid transaction ID!",
     "output_type": "error",
     "traceback": [
      "\u001b[1;31m---------------------------------------------------------------------------\u001b[0m",
      "\u001b[1;31mValueError\u001b[0m                                Traceback (most recent call last)",
      "\u001b[1;32m~\\AppData\\Local\\Temp/ipykernel_10828/121120798.py\u001b[0m in \u001b[0;36m<module>\u001b[1;34m\u001b[0m\n\u001b[1;32m----> 1\u001b[1;33m \u001b[0mtransaction_testcase2\u001b[0m\u001b[1;33m.\u001b[0m\u001b[0mverify\u001b[0m\u001b[1;33m(\u001b[0m\u001b[1;36m100\u001b[0m\u001b[1;33m,\u001b[0m\u001b[1;36m1\u001b[0m\u001b[1;33m)\u001b[0m\u001b[1;33m\u001b[0m\u001b[1;33m\u001b[0m\u001b[0m\n\u001b[0m",
      "\u001b[1;32m~\\AppData\\Local\\Temp/ipykernel_10828/3626606775.py\u001b[0m in \u001b[0;36mverify\u001b[1;34m(self, sender_balance, sender_previous_nonce)\u001b[0m\n\u001b[0;32m     34\u001b[0m                     \u001b[0mself\u001b[0m\u001b[1;33m.\u001b[0m\u001b[0mnonce\u001b[0m\u001b[1;33m,\u001b[0m\u001b[1;33m\u001b[0m\u001b[1;33m\u001b[0m\u001b[0m\n\u001b[0;32m     35\u001b[0m                     self.signature)):\n\u001b[1;32m---> 36\u001b[1;33m             \u001b[1;32mraise\u001b[0m \u001b[0mValueError\u001b[0m\u001b[1;33m(\u001b[0m\u001b[1;34m\"Invalid transaction ID!\"\u001b[0m\u001b[1;33m)\u001b[0m\u001b[1;33m\u001b[0m\u001b[1;33m\u001b[0m\u001b[0m\n\u001b[0m\u001b[0;32m     37\u001b[0m         signature_hash = calculate_signature_hash(\n\u001b[0;32m     38\u001b[0m                     \u001b[0mself\u001b[0m\u001b[1;33m.\u001b[0m\u001b[0mrecipient_hash\u001b[0m\u001b[1;33m,\u001b[0m\u001b[1;33m\u001b[0m\u001b[1;33m\u001b[0m\u001b[0m\n",
      "\u001b[1;31mValueError\u001b[0m: Invalid transaction ID!"
     ]
    }
   ],
   "source": [
    "transaction_testcase2.verify(100,1)"
   ]
  },
  {
   "cell_type": "markdown",
   "id": "fe0f33aa",
   "metadata": {},
   "source": [
    "####  2.Testcase Sucess!\n",
    "\n",
    "#### 3.Testcase\n",
    "\n",
    "Generate a valid transaction, change the amount field, regenerate the txid so it is valid\n",
    "again. Check that transaction.verify raises an exception due to an invalid signature."
   ]
  },
  {
   "cell_type": "code",
   "execution_count": 10,
   "id": "59804fc2",
   "metadata": {},
   "outputs": [],
   "source": [
    "# generate valid transaction\n",
    "transaction_testcase3 = create_signed_transaction(sender_private_key, recipient_hash, 4, 1, 2)"
   ]
  },
  {
   "cell_type": "code",
   "execution_count": 11,
   "id": "8e4ca009",
   "metadata": {},
   "outputs": [],
   "source": [
    "# changeing the amount field\n",
    "transaction_testcase3.amount = 3"
   ]
  },
  {
   "cell_type": "code",
   "execution_count": 12,
   "id": "2e1f0154",
   "metadata": {},
   "outputs": [],
   "source": [
    "# regenerating txid so its valid again\n",
    "transaction_testcase3.txid = calculate_txid(transaction_testcase3.sender_hash,\n",
    "                                  transaction_testcase3.recipient_hash,\n",
    "                                  transaction_testcase3.sender_public_key,\n",
    "                                  transaction_testcase3.amount,\n",
    "                                  transaction_testcase3.fee,\n",
    "                                  transaction_testcase3.nonce,\n",
    "                                  transaction_testcase3.signature)"
   ]
  },
  {
   "cell_type": "code",
   "execution_count": 13,
   "id": "1ae6d035",
   "metadata": {},
   "outputs": [
    {
     "ename": "InvalidSignature",
     "evalue": "",
     "output_type": "error",
     "traceback": [
      "\u001b[1;31m---------------------------------------------------------------------------\u001b[0m",
      "\u001b[1;31mInvalidSignature\u001b[0m                          Traceback (most recent call last)",
      "\u001b[1;32m~\\AppData\\Local\\Temp/ipykernel_10828/2950215060.py\u001b[0m in \u001b[0;36m<module>\u001b[1;34m\u001b[0m\n\u001b[0;32m      1\u001b[0m \u001b[1;31m# check if transaction verify rasies an exception due to invald signature\u001b[0m\u001b[1;33m\u001b[0m\u001b[1;33m\u001b[0m\u001b[0m\n\u001b[1;32m----> 2\u001b[1;33m \u001b[0mtransaction_testcase3\u001b[0m\u001b[1;33m.\u001b[0m\u001b[0mverify\u001b[0m\u001b[1;33m(\u001b[0m\u001b[1;36m4\u001b[0m\u001b[1;33m,\u001b[0m\u001b[1;36m1\u001b[0m\u001b[1;33m)\u001b[0m\u001b[1;33m\u001b[0m\u001b[1;33m\u001b[0m\u001b[0m\n\u001b[0m",
      "\u001b[1;32m~\\AppData\\Local\\Temp/ipykernel_10828/3626606775.py\u001b[0m in \u001b[0;36mverify\u001b[1;34m(self, sender_balance, sender_previous_nonce)\u001b[0m\n\u001b[0;32m     40\u001b[0m                     \u001b[0mself\u001b[0m\u001b[1;33m.\u001b[0m\u001b[0mfee\u001b[0m\u001b[1;33m,\u001b[0m\u001b[1;33m\u001b[0m\u001b[1;33m\u001b[0m\u001b[0m\n\u001b[0;32m     41\u001b[0m                     self.nonce)\n\u001b[1;32m---> 42\u001b[1;33m         self.sender_public_key.verify(self.signature, signature_hash,\n\u001b[0m\u001b[0;32m     43\u001b[0m                 ec.ECDSA(utils.Prehashed(hashes.SHA256())))\n\u001b[0;32m     44\u001b[0m \u001b[1;33m\u001b[0m\u001b[0m\n",
      "\u001b[1;32m~\\anaconda3\\lib\\site-packages\\cryptography\\hazmat\\backends\\openssl\\ec.py\u001b[0m in \u001b[0;36mverify\u001b[1;34m(self, signature, data, signature_algorithm)\u001b[0m\n\u001b[0;32m    376\u001b[0m             \u001b[0msignature_algorithm\u001b[0m\u001b[1;33m.\u001b[0m\u001b[0m_algorithm\u001b[0m\u001b[1;33m,\u001b[0m  \u001b[1;31m# type: ignore[attr-defined]\u001b[0m\u001b[1;33m\u001b[0m\u001b[1;33m\u001b[0m\u001b[0m\n\u001b[0;32m    377\u001b[0m         )\n\u001b[1;32m--> 378\u001b[1;33m         \u001b[0m_ecdsa_sig_verify\u001b[0m\u001b[1;33m(\u001b[0m\u001b[0mself\u001b[0m\u001b[1;33m.\u001b[0m\u001b[0m_backend\u001b[0m\u001b[1;33m,\u001b[0m \u001b[0mself\u001b[0m\u001b[1;33m,\u001b[0m \u001b[0msignature\u001b[0m\u001b[1;33m,\u001b[0m \u001b[0mdata\u001b[0m\u001b[1;33m)\u001b[0m\u001b[1;33m\u001b[0m\u001b[1;33m\u001b[0m\u001b[0m\n\u001b[0m",
      "\u001b[1;32m~\\anaconda3\\lib\\site-packages\\cryptography\\hazmat\\backends\\openssl\\ec.py\u001b[0m in \u001b[0;36m_ecdsa_sig_verify\u001b[1;34m(backend, public_key, signature, data)\u001b[0m\n\u001b[0;32m    104\u001b[0m     \u001b[1;32mif\u001b[0m \u001b[0mres\u001b[0m \u001b[1;33m!=\u001b[0m \u001b[1;36m1\u001b[0m\u001b[1;33m:\u001b[0m\u001b[1;33m\u001b[0m\u001b[1;33m\u001b[0m\u001b[0m\n\u001b[0;32m    105\u001b[0m         \u001b[0mbackend\u001b[0m\u001b[1;33m.\u001b[0m\u001b[0m_consume_errors\u001b[0m\u001b[1;33m(\u001b[0m\u001b[1;33m)\u001b[0m\u001b[1;33m\u001b[0m\u001b[1;33m\u001b[0m\u001b[0m\n\u001b[1;32m--> 106\u001b[1;33m         \u001b[1;32mraise\u001b[0m \u001b[0mInvalidSignature\u001b[0m\u001b[1;33m\u001b[0m\u001b[1;33m\u001b[0m\u001b[0m\n\u001b[0m\u001b[0;32m    107\u001b[0m \u001b[1;33m\u001b[0m\u001b[0m\n\u001b[0;32m    108\u001b[0m \u001b[1;33m\u001b[0m\u001b[0m\n",
      "\u001b[1;31mInvalidSignature\u001b[0m: "
     ]
    }
   ],
   "source": [
    "# check if transaction verify rasies an exception due to invald signature\n",
    "transaction_testcase3.verify(4,1)"
   ]
  },
  {
   "cell_type": "markdown",
   "id": "2ebcc4aa",
   "metadata": {},
   "source": [
    "####  3.Testcase Sucess!\n",
    "\n",
    "#### 4.Testcase\n",
    "\n",
    "Generate a valid transaction, check that transaction.verify raises an exception if either\n",
    "the sender_balance is too low or sender_previous_nonce is incorrect."
   ]
  },
  {
   "cell_type": "code",
   "execution_count": 14,
   "id": "e7a3ce08",
   "metadata": {},
   "outputs": [],
   "source": [
    "# creating valid transaction\n",
    "transaction_testcase4 = create_signed_transaction(sender_private_key, recipient_hash, 10, 2, 1)"
   ]
  },
  {
   "cell_type": "code",
   "execution_count": 15,
   "id": "119cbb12",
   "metadata": {},
   "outputs": [
    {
     "ename": "ValueError",
     "evalue": "Invalid nonce!",
     "output_type": "error",
     "traceback": [
      "\u001b[1;31m---------------------------------------------------------------------------\u001b[0m",
      "\u001b[1;31mValueError\u001b[0m                                Traceback (most recent call last)",
      "\u001b[1;32m~\\AppData\\Local\\Temp/ipykernel_10828/2131823315.py\u001b[0m in \u001b[0;36m<module>\u001b[1;34m\u001b[0m\n\u001b[0;32m      1\u001b[0m \u001b[1;31m# check if transaction verify raises an exception if sender_previous_nonce is incorrect\u001b[0m\u001b[1;33m\u001b[0m\u001b[1;33m\u001b[0m\u001b[0m\n\u001b[1;32m----> 2\u001b[1;33m \u001b[0mtransaction_testcase4\u001b[0m\u001b[1;33m.\u001b[0m\u001b[0mverify\u001b[0m\u001b[1;33m(\u001b[0m\u001b[1;36m10\u001b[0m\u001b[1;33m,\u001b[0m\u001b[1;36m2\u001b[0m\u001b[1;33m)\u001b[0m\u001b[1;33m\u001b[0m\u001b[1;33m\u001b[0m\u001b[0m\n\u001b[0m",
      "\u001b[1;32m~\\AppData\\Local\\Temp/ipykernel_10828/3626606775.py\u001b[0m in \u001b[0;36mverify\u001b[1;34m(self, sender_balance, sender_previous_nonce)\u001b[0m\n\u001b[0;32m     25\u001b[0m             \u001b[1;32mraise\u001b[0m \u001b[0mValueError\u001b[0m\u001b[1;33m(\u001b[0m\u001b[1;34m\"Invalid fee!\"\u001b[0m\u001b[1;33m)\u001b[0m\u001b[1;33m\u001b[0m\u001b[1;33m\u001b[0m\u001b[0m\n\u001b[0;32m     26\u001b[0m         \u001b[1;32mif\u001b[0m \u001b[1;32mnot\u001b[0m \u001b[1;33m(\u001b[0m\u001b[0mself\u001b[0m\u001b[1;33m.\u001b[0m\u001b[0mnonce\u001b[0m \u001b[1;33m==\u001b[0m \u001b[0msender_previous_nonce\u001b[0m \u001b[1;33m+\u001b[0m \u001b[1;36m1\u001b[0m\u001b[1;33m)\u001b[0m\u001b[1;33m:\u001b[0m\u001b[1;33m\u001b[0m\u001b[1;33m\u001b[0m\u001b[0m\n\u001b[1;32m---> 27\u001b[1;33m             \u001b[1;32mraise\u001b[0m \u001b[0mValueError\u001b[0m\u001b[1;33m(\u001b[0m\u001b[1;34m\"Invalid nonce!\"\u001b[0m\u001b[1;33m)\u001b[0m\u001b[1;33m\u001b[0m\u001b[1;33m\u001b[0m\u001b[0m\n\u001b[0m\u001b[0;32m     28\u001b[0m         if not (self.txid == calculate_txid(\n\u001b[0;32m     29\u001b[0m                     \u001b[0mself\u001b[0m\u001b[1;33m.\u001b[0m\u001b[0msender_hash\u001b[0m\u001b[1;33m,\u001b[0m\u001b[1;33m\u001b[0m\u001b[1;33m\u001b[0m\u001b[0m\n",
      "\u001b[1;31mValueError\u001b[0m: Invalid nonce!"
     ]
    }
   ],
   "source": [
    "# check if transaction verify raises an exception if sender_previous_nonce is incorrect\n",
    "transaction_testcase4.verify(10,2)"
   ]
  },
  {
   "cell_type": "code",
   "execution_count": 16,
   "id": "e70578af",
   "metadata": {},
   "outputs": [
    {
     "ename": "ValueError",
     "evalue": "Invalid amount!",
     "output_type": "error",
     "traceback": [
      "\u001b[1;31m---------------------------------------------------------------------------\u001b[0m",
      "\u001b[1;31mValueError\u001b[0m                                Traceback (most recent call last)",
      "\u001b[1;32m~\\AppData\\Local\\Temp/ipykernel_10828/1462085792.py\u001b[0m in \u001b[0;36m<module>\u001b[1;34m\u001b[0m\n\u001b[0;32m      1\u001b[0m \u001b[1;31m# check if transaction verify raises an exception if sender_balance is incorrect\u001b[0m\u001b[1;33m\u001b[0m\u001b[1;33m\u001b[0m\u001b[0m\n\u001b[1;32m----> 2\u001b[1;33m \u001b[0mtransaction_testcase4\u001b[0m\u001b[1;33m.\u001b[0m\u001b[0mverify\u001b[0m\u001b[1;33m(\u001b[0m\u001b[1;36m9\u001b[0m\u001b[1;33m,\u001b[0m\u001b[1;36m0\u001b[0m\u001b[1;33m)\u001b[0m\u001b[1;33m\u001b[0m\u001b[1;33m\u001b[0m\u001b[0m\n\u001b[0m",
      "\u001b[1;32m~\\AppData\\Local\\Temp/ipykernel_10828/3626606775.py\u001b[0m in \u001b[0;36mverify\u001b[1;34m(self, sender_balance, sender_previous_nonce)\u001b[0m\n\u001b[0;32m     21\u001b[0m             \u001b[1;32mraise\u001b[0m \u001b[0mValueError\u001b[0m\u001b[1;33m(\u001b[0m\u001b[1;34m\"Sender hash does not match the sender's public key!\"\u001b[0m\u001b[1;33m)\u001b[0m\u001b[1;33m\u001b[0m\u001b[1;33m\u001b[0m\u001b[0m\n\u001b[0;32m     22\u001b[0m         \u001b[1;32mif\u001b[0m \u001b[1;32mnot\u001b[0m \u001b[1;33m(\u001b[0m\u001b[1;36m1\u001b[0m \u001b[1;33m<=\u001b[0m \u001b[0mself\u001b[0m\u001b[1;33m.\u001b[0m\u001b[0mamount\u001b[0m \u001b[1;33m<=\u001b[0m \u001b[0msender_balance\u001b[0m\u001b[1;33m)\u001b[0m\u001b[1;33m:\u001b[0m\u001b[1;33m\u001b[0m\u001b[1;33m\u001b[0m\u001b[0m\n\u001b[1;32m---> 23\u001b[1;33m             \u001b[1;32mraise\u001b[0m \u001b[0mValueError\u001b[0m\u001b[1;33m(\u001b[0m\u001b[1;34m\"Invalid amount!\"\u001b[0m\u001b[1;33m)\u001b[0m\u001b[1;33m\u001b[0m\u001b[1;33m\u001b[0m\u001b[0m\n\u001b[0m\u001b[0;32m     24\u001b[0m         \u001b[1;32mif\u001b[0m \u001b[1;32mnot\u001b[0m \u001b[1;33m(\u001b[0m\u001b[1;36m0\u001b[0m \u001b[1;33m<=\u001b[0m \u001b[0mself\u001b[0m\u001b[1;33m.\u001b[0m\u001b[0mfee\u001b[0m \u001b[1;33m<=\u001b[0m \u001b[0mself\u001b[0m\u001b[1;33m.\u001b[0m\u001b[0mamount\u001b[0m\u001b[1;33m)\u001b[0m\u001b[1;33m:\u001b[0m\u001b[1;33m\u001b[0m\u001b[1;33m\u001b[0m\u001b[0m\n\u001b[0;32m     25\u001b[0m             \u001b[1;32mraise\u001b[0m \u001b[0mValueError\u001b[0m\u001b[1;33m(\u001b[0m\u001b[1;34m\"Invalid fee!\"\u001b[0m\u001b[1;33m)\u001b[0m\u001b[1;33m\u001b[0m\u001b[1;33m\u001b[0m\u001b[0m\n",
      "\u001b[1;31mValueError\u001b[0m: Invalid amount!"
     ]
    }
   ],
   "source": [
    "# check if transaction verify raises an exception if sender_balance is incorrect\n",
    "transaction_testcase4.verify(9,0)"
   ]
  },
  {
   "cell_type": "markdown",
   "id": "546d8b29",
   "metadata": {},
   "source": [
    "####  4.Testcase Sucess!\n",
    "\n",
    "#### 5.Testcase\n",
    "\n",
    "Generate two private keys, A and B . Use A to generate a valid transaction. Replace the\n",
    "signature with a signature created using B . Regenerate the txid and confirm that\n",
    "transaction.verify fails with an invalid signature."
   ]
  },
  {
   "cell_type": "code",
   "execution_count": 17,
   "id": "d1e25599",
   "metadata": {},
   "outputs": [],
   "source": [
    "# generating transactions for priavte key A and B\n",
    "sender_private_key_a = ec.generate_private_key(ec.SECP256K1)\n",
    "sender_private_key_b = ec.generate_private_key(ec.SECP256K1)\n",
    "\n",
    "recipient_private_key = ec.generate_private_key(ec.SECP256K1)\n",
    "recipient_private_key = ec.generate_private_key(ec.SECP256K1)\n",
    "recipient_public_key = private_key_to_public_key(recipient_private_key)\n",
    "recipient_hash = calculate_sha1_hash(recipient_public_key)\n",
    "\n",
    "transaction_a = create_signed_transaction(sender_private_key_a, recipient_hash, 10, 2, 1)\n",
    "transaction_b = create_signed_transaction(sender_private_key_b, recipient_hash, 10, 2, 1)"
   ]
  },
  {
   "cell_type": "code",
   "execution_count": 18,
   "id": "7571c18a",
   "metadata": {},
   "outputs": [],
   "source": [
    "# replace signature of transaction_a with signature of transaction b\n",
    "transaction_a.signature = transaction_b.signature"
   ]
  },
  {
   "cell_type": "code",
   "execution_count": 19,
   "id": "f23a6321",
   "metadata": {},
   "outputs": [],
   "source": [
    "# regenerating the txid \n",
    "transaction_a.txid = calculate_txid(transaction_a.sender_hash,\n",
    "                                    transaction_a.recipient_hash,\n",
    "                                    transaction_a.sender_public_key,\n",
    "                                    transaction_a.amount,\n",
    "                                    transaction_a.fee,\n",
    "                                    transaction_a.nonce,\n",
    "                                    transaction_a.signature)"
   ]
  },
  {
   "cell_type": "code",
   "execution_count": 20,
   "id": "643794d6",
   "metadata": {},
   "outputs": [
    {
     "ename": "InvalidSignature",
     "evalue": "",
     "output_type": "error",
     "traceback": [
      "\u001b[1;31m---------------------------------------------------------------------------\u001b[0m",
      "\u001b[1;31mInvalidSignature\u001b[0m                          Traceback (most recent call last)",
      "\u001b[1;32m~\\AppData\\Local\\Temp/ipykernel_10828/674280738.py\u001b[0m in \u001b[0;36m<module>\u001b[1;34m\u001b[0m\n\u001b[0;32m      1\u001b[0m \u001b[1;31m# confirming that transaction verify fails with an invald signature\u001b[0m\u001b[1;33m\u001b[0m\u001b[1;33m\u001b[0m\u001b[0m\n\u001b[1;32m----> 2\u001b[1;33m \u001b[0mtransaction_a\u001b[0m\u001b[1;33m.\u001b[0m\u001b[0mverify\u001b[0m\u001b[1;33m(\u001b[0m\u001b[1;36m10\u001b[0m\u001b[1;33m,\u001b[0m\u001b[1;36m0\u001b[0m\u001b[1;33m)\u001b[0m\u001b[1;33m\u001b[0m\u001b[1;33m\u001b[0m\u001b[0m\n\u001b[0m",
      "\u001b[1;32m~\\AppData\\Local\\Temp/ipykernel_10828/3626606775.py\u001b[0m in \u001b[0;36mverify\u001b[1;34m(self, sender_balance, sender_previous_nonce)\u001b[0m\n\u001b[0;32m     40\u001b[0m                     \u001b[0mself\u001b[0m\u001b[1;33m.\u001b[0m\u001b[0mfee\u001b[0m\u001b[1;33m,\u001b[0m\u001b[1;33m\u001b[0m\u001b[1;33m\u001b[0m\u001b[0m\n\u001b[0;32m     41\u001b[0m                     self.nonce)\n\u001b[1;32m---> 42\u001b[1;33m         self.sender_public_key.verify(self.signature, signature_hash,\n\u001b[0m\u001b[0;32m     43\u001b[0m                 ec.ECDSA(utils.Prehashed(hashes.SHA256())))\n\u001b[0;32m     44\u001b[0m \u001b[1;33m\u001b[0m\u001b[0m\n",
      "\u001b[1;32m~\\anaconda3\\lib\\site-packages\\cryptography\\hazmat\\backends\\openssl\\ec.py\u001b[0m in \u001b[0;36mverify\u001b[1;34m(self, signature, data, signature_algorithm)\u001b[0m\n\u001b[0;32m    376\u001b[0m             \u001b[0msignature_algorithm\u001b[0m\u001b[1;33m.\u001b[0m\u001b[0m_algorithm\u001b[0m\u001b[1;33m,\u001b[0m  \u001b[1;31m# type: ignore[attr-defined]\u001b[0m\u001b[1;33m\u001b[0m\u001b[1;33m\u001b[0m\u001b[0m\n\u001b[0;32m    377\u001b[0m         )\n\u001b[1;32m--> 378\u001b[1;33m         \u001b[0m_ecdsa_sig_verify\u001b[0m\u001b[1;33m(\u001b[0m\u001b[0mself\u001b[0m\u001b[1;33m.\u001b[0m\u001b[0m_backend\u001b[0m\u001b[1;33m,\u001b[0m \u001b[0mself\u001b[0m\u001b[1;33m,\u001b[0m \u001b[0msignature\u001b[0m\u001b[1;33m,\u001b[0m \u001b[0mdata\u001b[0m\u001b[1;33m)\u001b[0m\u001b[1;33m\u001b[0m\u001b[1;33m\u001b[0m\u001b[0m\n\u001b[0m",
      "\u001b[1;32m~\\anaconda3\\lib\\site-packages\\cryptography\\hazmat\\backends\\openssl\\ec.py\u001b[0m in \u001b[0;36m_ecdsa_sig_verify\u001b[1;34m(backend, public_key, signature, data)\u001b[0m\n\u001b[0;32m    104\u001b[0m     \u001b[1;32mif\u001b[0m \u001b[0mres\u001b[0m \u001b[1;33m!=\u001b[0m \u001b[1;36m1\u001b[0m\u001b[1;33m:\u001b[0m\u001b[1;33m\u001b[0m\u001b[1;33m\u001b[0m\u001b[0m\n\u001b[0;32m    105\u001b[0m         \u001b[0mbackend\u001b[0m\u001b[1;33m.\u001b[0m\u001b[0m_consume_errors\u001b[0m\u001b[1;33m(\u001b[0m\u001b[1;33m)\u001b[0m\u001b[1;33m\u001b[0m\u001b[1;33m\u001b[0m\u001b[0m\n\u001b[1;32m--> 106\u001b[1;33m         \u001b[1;32mraise\u001b[0m \u001b[0mInvalidSignature\u001b[0m\u001b[1;33m\u001b[0m\u001b[1;33m\u001b[0m\u001b[0m\n\u001b[0m\u001b[0;32m    107\u001b[0m \u001b[1;33m\u001b[0m\u001b[0m\n\u001b[0;32m    108\u001b[0m \u001b[1;33m\u001b[0m\u001b[0m\n",
      "\u001b[1;31mInvalidSignature\u001b[0m: "
     ]
    }
   ],
   "source": [
    "# confirming that transaction verify fails with an invald signature\n",
    "transaction_a.verify(10,0)"
   ]
  },
  {
   "cell_type": "markdown",
   "id": "605b4a4c",
   "metadata": {},
   "source": [
    "####  5.Testcase Sucess!\n",
    "\n",
    "#### 6.Testcase\n",
    "\n",
    "Check that the following transaction verifies successfully (when using sender_balance = 20 ,\n",
    "sender_previous_nonce = 4 )"
   ]
  },
  {
   "cell_type": "code",
   "execution_count": 21,
   "id": "f5ab417a",
   "metadata": {},
   "outputs": [],
   "source": [
    "transaction = Transaction(bytes.fromhex(\"3df8f04b3c159fdc6631c4b8b0874940344d173d\"),\n",
    "            bytes.fromhex(\"5c1499a0484ace2f731b0afb83241e15f0e168ca\"),\n",
    "            bytes.fromhex(\"3056301006072a8648ce3d020106052b8104000a\" +\n",
    "                          \"03420004886ed03cb7ffd4cbd95579ea2e202f1d\" +\n",
    "                          \"b29afc3bf5d7c2c34a34701bbb0685a7b535f1e6\" +\n",
    "                          \"31373afe8d1c860a9ac47d8e2659b74d437435b0\" +\n",
    "                          \"5f2c55bf3f033ac1\"\n",
    "                         ),\n",
    "            10,\n",
    "            2,\n",
    "            5,\n",
    "            bytes.fromhex(\"3046022100f9c076a72a2341a1b8cb68520713e1\" +\n",
    "                          \"2f173378cf78cf79c7978a2337fbad141d022100\" +\n",
    "                          \"ec27704d4d604f839f99e62c02e65bf60cc93ae1\" +\n",
    "                          \"735c1ccf29fd31bd3c5a40ed\"),\n",
    "            bytes.fromhex(\"ca388e0890b71bd1775460d478f26af3776c9b4f\" + \n",
    "                          \"6c2b936e1e788c5c87657bc3\")\n",
    "           \n",
    "           )"
   ]
  },
  {
   "cell_type": "code",
   "execution_count": 22,
   "id": "1184839c",
   "metadata": {},
   "outputs": [],
   "source": [
    "transaction.verify(20,4)"
   ]
  },
  {
   "cell_type": "markdown",
   "id": "29e54a8f",
   "metadata": {},
   "source": [
    "#### 6.Testcase Sucess!"
   ]
  }
 ],
 "metadata": {
  "kernelspec": {
   "display_name": "Python 3 (ipykernel)",
   "language": "python",
   "name": "python3"
  },
  "language_info": {
   "codemirror_mode": {
    "name": "ipython",
    "version": 3
   },
   "file_extension": ".py",
   "mimetype": "text/x-python",
   "name": "python",
   "nbconvert_exporter": "python",
   "pygments_lexer": "ipython3",
   "version": "3.9.7"
  }
 },
 "nbformat": 4,
 "nbformat_minor": 5
}
